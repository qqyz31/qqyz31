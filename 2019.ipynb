{
  "nbformat": 4,
  "nbformat_minor": 0,
  "metadata": {
    "colab": {
      "name": "2019.ipynb",
      "version": "0.3.2",
      "provenance": [],
      "collapsed_sections": [],
      "include_colab_link": true
    },
    "kernelspec": {
      "name": "python3",
      "display_name": "Python 3"
    }
  },
  "cells": [
    {
      "cell_type": "markdown",
      "metadata": {
        "id": "view-in-github",
        "colab_type": "text"
      },
      "source": [
        "<a href=\"https://colab.research.google.com/github/qqyz31/qqyz31/blob/master/2019.ipynb\" target=\"_parent\"><img src=\"https://colab.research.google.com/assets/colab-badge.svg\" alt=\"Open In Colab\"/></a>"
      ]
    },
    {
      "cell_type": "code",
      "metadata": {
        "id": "gBrDTacVA_oh",
        "colab_type": "code",
        "colab": {}
      },
      "source": [
        ""
      ],
      "execution_count": 0,
      "outputs": []
    },
    {
      "cell_type": "code",
      "metadata": {
        "id": "rFdrRckYQumV",
        "colab_type": "code",
        "colab": {}
      },
      "source": [
        ""
      ],
      "execution_count": 0,
      "outputs": []
    },
    {
      "cell_type": "code",
      "metadata": {
        "id": "AN9244BCQuoq",
        "colab_type": "code",
        "colab": {
          "resources": {
            "http://localhost:8080/nbextensions/google.colab/files.js": {
              "data": "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",
              "ok": true,
              "headers": [
                [
                  "content-type",
                  "application/javascript"
                ]
              ],
              "status": 200,
              "status_text": ""
            }
          },
          "base_uri": "https://localhost:8080/",
          "height": 81
        },
        "outputId": "31e9b073-ad16-4bd0-fdd1-09058d86381d"
      },
      "source": [
        "from google.colab import files\n",
        "upload = files.upload()\n"
      ],
      "execution_count": 9,
      "outputs": [
        {
          "output_type": "display_data",
          "data": {
            "text/html": [
              "\n",
              "     <input type=\"file\" id=\"files-c765a53e-e3dd-4e3c-8882-368fcc6727c1\" name=\"files[]\" multiple disabled />\n",
              "     <output id=\"result-c765a53e-e3dd-4e3c-8882-368fcc6727c1\">\n",
              "      Upload widget is only available when the cell has been executed in the\n",
              "      current browser session. Please rerun this cell to enable.\n",
              "      </output>\n",
              "      <script src=\"/nbextensions/google.colab/files.js\"></script> "
            ],
            "text/plain": [
              "<IPython.core.display.HTML object>"
            ]
          },
          "metadata": {
            "tags": []
          }
        },
        {
          "output_type": "stream",
          "text": [
            "Saving kumono_ito.txt to kumono_ito (1).txt\n"
          ],
          "name": "stdout"
        }
      ]
    },
    {
      "cell_type": "code",
      "metadata": {
        "id": "FJ-bSUlmBRXw",
        "colab_type": "code",
        "colab": {
          "base_uri": "https://localhost:8080/",
          "height": 73
        },
        "outputId": "8559689a-a9e5-4924-dd56-34a89f062ff8"
      },
      "source": [
        "import re\n",
        "datafile = open('kumono_ito.txt', encoding = 'shift=jis')\n",
        "outputfile = open('aozora.txt','w',encoding = 'utf-8')\n",
        "zentai = ''\n",
        "count = 0\n",
        "\n",
        "for line in datafile:\n",
        "    if count < 2:\n",
        "        if line.startswith('----'):\n",
        "            count += 1\n",
        "        continue\n",
        "    elif line.startswith('［＃'):\n",
        "        continue\n",
        "    elif line.startswith('　　　'):\n",
        "        continue\n",
        "    elif line.startswith('底本：'):\n",
        "        break\n",
        "    else:\n",
        "        line = line.rstrip()\n",
        "        line = re.sub(r'《[^》]+》|［[^］]+］',\"\",line)#ルビ削除\n",
        "        line = re.sub('｜','', line)  # ［ ］全角|削除\n",
        "        line = re.sub('　| ','', line)\n",
        "        zentai = zentai + line\n",
        "print(zentai)\n",
        "\n",
        "\n",
        "outputfile .write(zentai)\n",
        "    \n",
        "#datafile.clouse()\n",
        "#outputfile.close()\n",
        "    "
      ],
      "execution_count": 13,
      "outputs": [
        {
          "output_type": "stream",
          "text": [
            "ある日の事でございます。御釈迦様は極楽の蓮池のふちを、独りでぶらぶら御歩きになっていらっしゃいました。池の中に咲いている蓮の花は、みんな玉のようにまっ白で、そのまん中にある金色の蕊からは、何とも云えない好い匂が、絶間なくあたりへ溢れて居ります。極楽は丁度朝なのでございましょう。やがて御釈迦様はその池のふちに御佇みになって、水の面を蔽っている蓮の葉の間から、ふと下の容子を御覧になりました。この極楽の蓮池の下は、丁度地獄の底に当って居りますから、水晶のような水を透き徹して、三途の河や針の山の景色が、丁度覗き眼鏡を見るように、はっきりと見えるのでございます。するとその地獄の底に、※陀多と云う男が一人、ほかの罪人と一しょに蠢いている姿が、御眼に止まりました。この※陀多と云う男は、人を殺したり家に火をつけたり、いろいろ悪事を働いた大泥坊でございますが、それでもたった一つ、善い事を致した覚えがございます。と申しますのは、ある時この男が深い林の中を通りますと、小さな蜘蛛が一匹、路ばたを這って行くのが見えました。そこで※陀多は早速足を挙げて、踏み殺そうと致しましたが、「いや、いや、これも小さいながら、命のあるものに違いない。その命を無暗にとると云う事は、いくら何でも可哀そうだ。」と、こう急に思い返して、とうとうその蜘蛛を殺さずに助けてやったからでございます。御釈迦様は地獄の容子を御覧になりながら、この※陀多には蜘蛛を助けた事があるのを御思い出しになりました。そうしてそれだけの善い事をした報には、出来るなら、この男を地獄から救い出してやろうと御考えになりました。幸い、側を見ますと、翡翠のような色をした蓮の葉の上に、極楽の蜘蛛が一匹、美しい銀色の糸をかけて居ります。御釈迦様はその蜘蛛の糸をそっと御手に御取りになって、玉のような白蓮の間から、遥か下にある地獄の底へ、まっすぐにそれを御下しなさいました。こちらは地獄の底の血の池で、ほかの罪人と一しょに、浮いたり沈んだりしていた※陀多でございます。何しろどちらを見ても、まっ暗で、たまにそのくら暗からぼんやり浮き上っているものがあると思いますと、それは恐しい針の山の針が光るのでございますから、その心細さと云ったらございません。その上あたりは墓の中のようにしんと静まり返って、たまに聞えるものと云っては、ただ罪人がつく微な嘆息ばかりでございます。これはここへ落ちて来るほどの人間は、もうさまざまな地獄の責苦に疲れはてて、泣声を出す力さえなくなっているのでございましょう。ですからさすが大泥坊の※陀多も、やはり血の池の血に咽びながら、まるで死にかかった蛙のように、ただもがいてばかり居りました。ところがある時の事でございます。何気なく※陀多が頭を挙げて、血の池の空を眺めますと、そのひっそりとした暗の中を、遠い遠い天上から、銀色の蜘蛛の糸が、まるで人目にかかるのを恐れるように、一すじ細く光りながら、するすると自分の上へ垂れて参るのではございませんか。※陀多はこれを見ると、思わず手を拍って喜びました。この糸に縋りついて、どこまでものぼって行けば、きっと地獄からぬけ出せるのに相違ございません。いや、うまく行くと、極楽へはいる事さえも出来ましょう。そうすれば、もう針の山へ追い上げられる事もなくなれば、血の池に沈められる事もある筈はございません。こう思いましたから※陀多は、早速その蜘蛛の糸を両手でしっかりとつかみながら、一生懸命に上へ上へとたぐりのぼり始めました。元より大泥坊の事でございますから、こう云う事には昔から、慣れ切っているのでございます。しかし地獄と極楽との間は、何万里となくございますから、いくら焦って見た所で、容易に上へは出られません。ややしばらくのぼる中に、とうとう※陀多もくたびれて、もう一たぐりも上の方へはのぼれなくなってしまいました。そこで仕方がございませんから、まず一休み休むつもりで、糸の中途にぶら下りながら、遥かに目の下を見下しました。すると、一生懸命にのぼった甲斐があって、さっきまで自分がいた血の池は、今ではもう暗の底にいつの間にかかくれて居ります。それからあのぼんやり光っている恐しい針の山も、足の下になってしまいました。この分でのぼって行けば、地獄からぬけ出すのも、存外わけがないかも知れません。※陀多は両手を蜘蛛の糸にからみながら、ここへ来てから何年にも出した事のない声で、「しめた。しめた。」と笑いました。ところがふと気がつきますと、蜘蛛の糸の下の方には、数限もない罪人たちが、自分ののぼった後をつけて、まるで蟻の行列のように、やはり上へ上へ一心によじのぼって来るではございませんか。※陀多はこれを見ると、驚いたのと恐しいのとで、しばらくはただ、莫迦のように大きな口を開いたまま、眼ばかり動かして居りました。自分一人でさえ断れそうな、この細い蜘蛛の糸が、どうしてあれだけの人数の重みに堪える事が出来ましょう。もし万一途中で断れたと致しましたら、折角ここへまでのぼって来たこの肝腎な自分までも、元の地獄へ逆落しに落ちてしまわなければなりません。そんな事があったら、大変でございます。が、そう云う中にも、罪人たちは何百となく何千となく、まっ暗な血の池の底から、うようよと這い上って、細く光っている蜘蛛の糸を、一列になりながら、せっせとのぼって参ります。今の中にどうかしなければ、糸はまん中から二つに断れて、落ちてしまうのに違いありません。そこで※陀多は大きな声を出して、「こら、罪人ども。この蜘蛛の糸は己のものだぞ。お前たちは一体誰に尋いて、のぼって来た。下りろ。下りろ。」と喚きました。その途端でございます。今まで何ともなかった蜘蛛の糸が、急に※陀多のぶら下っている所から、ぷつりと音を立てて断れました。ですから※陀多もたまりません。あっと云う間もなく風を切って、独楽のようにくるくるまわりながら、見る見る中に暗の底へ、まっさかさまに落ちてしまいました。後にはただ極楽の蜘蛛の糸が、きらきらと細く光りながら、月も星もない空の中途に、短く垂れているばかりでございます。御釈迦様は極楽の蓮池のふちに立って、この一部始終をじっと見ていらっしゃいましたが、やがて※陀多が血の池の底へ石のように沈んでしまいますと、悲しそうな御顔をなさりながら、またぶらぶら御歩きになり始めました。自分ばかり地獄からぬけ出そうとする、※陀多の無慈悲な心が、そうしてその心相当な罰をうけて、元の地獄へ落ちてしまったのが、御釈迦様の御目から見ると、浅間しく思召されたのでございましょう。しかし極楽の蓮池の蓮は、少しもそんな事には頓着致しません。その玉のような白い花は、御釈迦様の御足のまわりに、ゆらゆら萼を動かして、そのまん中にある金色の蕊からは、何とも云えない好い匂が、絶間なくあたりへ溢れて居ります。極楽ももう午に近くなったのでございましょう。\n"
          ],
          "name": "stdout"
        },
        {
          "output_type": "execute_result",
          "data": {
            "text/plain": [
              "2854"
            ]
          },
          "metadata": {
            "tags": []
          },
          "execution_count": 13
        }
      ]
    },
    {
      "cell_type": "code",
      "metadata": {
        "id": "ly1I9OLKBozV",
        "colab_type": "code",
        "colab": {
          "base_uri": "https://localhost:8080/",
          "height": 505
        },
        "outputId": "2bbf9b8a-0fb5-4d04-cb1d-e8b4c0f17bf0"
      },
      "source": [
        "!apt install aptitude\n",
        "!aptitude install mecab libmecab-dev mecab-ipadic-utf8 git make curl xz-utils file -y\n",
        "!pip install mecab-python3"
      ],
      "execution_count": 3,
      "outputs": [
        {
          "output_type": "stream",
          "text": [
            "Reading package lists... Done\n",
            "Building dependency tree       \n",
            "Reading state information... Done\n",
            "aptitude is already the newest version (0.8.10-6ubuntu1).\n",
            "0 upgraded, 0 newly installed, 0 to remove and 4 not upgraded.\n",
            "mecab is already installed at the requested version (0.996-5)\n",
            "libmecab-dev is already installed at the requested version (0.996-5)\n",
            "mecab-ipadic-utf8 is already installed at the requested version (2.7.0-20070801+main-1)\n",
            "git is already installed at the requested version (1:2.17.1-1ubuntu0.4)\n",
            "make is already installed at the requested version (4.1-9.1ubuntu1)\n",
            "curl is already installed at the requested version (7.58.0-2ubuntu3.7)\n",
            "xz-utils is already installed at the requested version (5.2.2-1.3)\n",
            "file is already installed at the requested version (1:5.32-2ubuntu0.2)\n",
            "mecab is already installed at the requested version (0.996-5)\n",
            "libmecab-dev is already installed at the requested version (0.996-5)\n",
            "mecab-ipadic-utf8 is already installed at the requested version (2.7.0-20070801+main-1)\n",
            "git is already installed at the requested version (1:2.17.1-1ubuntu0.4)\n",
            "make is already installed at the requested version (4.1-9.1ubuntu1)\n",
            "curl is already installed at the requested version (7.58.0-2ubuntu3.7)\n",
            "xz-utils is already installed at the requested version (5.2.2-1.3)\n",
            "file is already installed at the requested version (1:5.32-2ubuntu0.2)\n",
            "No packages will be installed, upgraded, or removed.\n",
            "0 packages upgraded, 0 newly installed, 0 to remove and 4 not upgraded.\n",
            "Need to get 0 B of archives. After unpacking 0 B will be used.\n",
            "                            \n",
            "Requirement already satisfied: mecab-python3 in /usr/local/lib/python3.6/dist-packages (0.7)\n"
          ],
          "name": "stdout"
        }
      ]
    },
    {
      "cell_type": "code",
      "metadata": {
        "id": "5jwW6IV7Bq1B",
        "colab_type": "code",
        "colab": {
          "base_uri": "https://localhost:8080/",
          "height": 73
        },
        "outputId": "af1efdb5-cc8b-4349-b0f8-eea0ec5c72ba"
      },
      "source": [
        "import MeCab\n",
        "import sys\n",
        "\n",
        "tagger = MeCab.Tagger('-F\\s%f[6] -U\\s%m -E\\\\n')\n",
        "\n",
        "fi = open('aozora.txt', 'r')\n",
        "fo = open('aozora.wakati.txt', 'w')\n",
        "\n",
        "\n",
        "line = fi.readline()\n",
        "\n",
        "while line:\n",
        "    result = tagger.parse(line)\n",
        "    print(result)\n",
        "   \n",
        "    \n",
        "    fo.write(result[1:]) \n",
        "    line = fi.readline()"
      ],
      "execution_count": 4,
      "outputs": [
        {
          "output_type": "stream",
          "text": [
            " ある 日 の 事 だ ござる ます 。 御 釈迦 様 は 極楽 の 蓮池 の ふち を 、 独り で ぶらぶら 御 歩き に なる て いらっしゃる ます た 。 池 の 中 に 咲く て いる 蓮 の 花 は 、 みんな 玉 の よう に まっ白 で 、 その まん中 に ある 金色 の 蕊 から は 、 何とも 云う ない 好い 匂 が 、 絶間 ない あたり へ 溢れる て 居る ます 。 極楽 は 丁度 朝 だ の だ ござる ます う 。 やがて 御 釈迦 様 は その 池 の ふち に 御 佇む に なる て 、 水 の 面 を 蔽う て いる 蓮 の 葉 の 間 から 、 ふと 下 の 容子 を 御覧 に なる ます た 。 この 極楽 の 蓮池 の 下 は 、 丁度 地獄 の 底 に 当る て 居る ます から 、 水晶 の よう だ 水 を 透く 徹す て 、 三 途 の 河 や 針 の 山 の 景色 が 、 丁度 覗き 眼鏡 を 見る よう に 、 はっきり と 見える の だ ござる ます 。 すると その 地獄 の 底 に 、 ※ 陀多 と 云う 男 が 一 人 、 ほか の 罪人 と 一 しょ に 蠢く て いる 姿 が 、 御 眼 に 止まる ます た 。 この ※ 陀多 と 云う 男 は 、 人 を 殺す たり 家 に 火 を つける たり 、 いろいろ 悪事 を 働く た 大 泥坊 だ ござる ます が 、 それでも たった 一つ 、 善い 事 を 致す た 覚え が ござる ます 。 と 申す ます の は 、 ある 時 この 男 が 深い 林 の 中 を 通る ます と 、 小さな 蜘蛛 が 一 匹 、 路 ば た を 這う て 行く の が 見える ます た 。 そこで ※ 陀多 は 早速 足 を 挙げる て 、 踏む 殺す う と 致す ます た が 、 「 いや 、 いや 、 これ も 小さい ながら 、 命 の ある もの に 違い ない 。 その 命 を 無 暗に とる と 云う 事 は 、 いくら 何 でも 可哀そう だ 。 」 と 、 こう 急 に 思い返す て 、 とうとう その 蜘蛛 を 殺す ぬ に 助ける て やる た から だ ござる ます 。 御 釈迦 様 は 地獄 の 容子 を 御覧 に なる ながら 、 この ※ 陀多 に は 蜘蛛 を 助ける た 事 が ある の を 御 思い出す に なる ます た 。 そうして それだけ の 善い 事 を する た 報 に は 、 出来る だ 、 この 男 を 地獄 から 救い出す て やる う と 御 考え に なる ます た 。 幸い 、 側 を 見る ます と 、 翡翠 の よう だ 色 を する た 蓮 の 葉 の 上 に 、 極楽 の 蜘蛛 が 一 匹 、 美しい 銀色 の 糸 を かける て 居る ます 。 御 釈迦 様 は その 蜘蛛 の 糸 を そっと 御 手 に 御 取り に なる て 、 玉 の よう だ 白蓮 の 間 から 、 遥か 下 に ある 地獄 の 底 へ 、 まっすぐ に それ を 御 下す なさる ます た 。 こちら は 地獄 の 底 の 血の池 で 、 ほか の 罪人 と 一 しょ に 、 浮く たり 沈む だり する て いる た ※ 陀多 だ ござる ます 。 何しろ どちら を 見る て も 、 まっ暗 で 、 たまに その くら 暗い ぼんやり 浮く 上る て いる もの が ある と 思う ます と 、 それ は 恐い いる 針 の 山 の 針 が 光る の だ ござる ます から 、 その 心細い さ と 云う た ござる ます ん 。 その 上 あたり は 墓 の 中 の よう に しん と 静まり返る て 、 たま に 聞える もの と 云う て は 、 ただ 罪人 が つく 微 だ 嘆息 ばかり だ ござる ます 。 これ は ここ へ 落ちる て 来る ほど の 人間 は 、 もう さまざま だ 地獄 の 責苦 に 疲れはてる て 、 泣声 を 出す 力 さえ なくなる て いる の だ ござる ます う 。 です から さすが 大 泥坊 の ※ 陀多 も 、 やはり 血の池 の 血 に 咽ぶ ながら 、 まるで 死ぬ かかる た 蛙 の よう に 、 ただ もがく て ばかり 居る ます た 。 ところ が ある 時 の 事 だ ござる ます 。 何気ない ※ 陀多 が 頭 を 挙げる て 、 血の池 の 空 を 眺める ます と 、 その ひっそり と する た 暗い の 中 を 、 遠い 遠い 天上 から 、 銀色 の 蜘蛛 の 糸 が 、 まるで 人目 に かかる の を 恐れる よう に 、 一すじ 細い 光る ながら 、 するする と 自分 の 上 へ 垂れる て 参る の だ は ござる ます ん か 。 ※ 陀多 は これ を 見る と 、 思わず 手 を 拍 って 喜ぶ ます た 。 この 糸 に 縋る つく て 、 どこ まで も のぼる て 行く ば 、 きっと 地獄 から ぬける 出せる の に 相違 ござる ます ん 。 いや 、 うまい 行く と 、 極楽 へ はいる 事 さえ も 出来る ます う 。 そう する ば 、 もう 針 の 山 へ 追い上げる られる 事 も なくなる ば 、 血の池 に 沈める られる 事 も ある 筈 は ござる ます ん 。 こう 思う ます た から ※ 陀多 は 、 早速 その 蜘蛛 の 糸 を 両手 で しっかり と つかむ ながら 、 一生懸命 に 上 へ 上 へ と たぐる のぼる 始める ます た 。 元 より 大 泥坊 の 事 だ ござる ます から 、 こう 云う 事 に は 昔 から 、 慣れる 切る て いる の だ ござる ます 。 しかし 地獄 と 極楽 と の 間 は 、 何 万里 と ない ござる ます から 、 いくら 焦る て 見る た 所 で 、 容易 に 上 へ は 出る られる ます ん 。 やや しばらく のぼる 中 に 、 とうとう ※ 陀多 も くたびれる て 、 もう 一 たぐる も 上 の 方 へ は のぼれる ない なる て しまう ます た 。 そこで 仕方 が ござる ます ん から 、 まず 一休み 休む つもり だ 、 糸 の 中途 に ぶる 下りる ながら 、 遥か に 目の下 を 見下す ます た 。 する と 、 一生懸命 に のぼる た 甲斐 が ある て 、 さっき まで 自分 が いる た 血の池 は 、 今 で は もう 暗い の 底 に いつの間にか かくれる て 居る ます 。 それから あの ぼんやり 光る て いる 恐い いる 針 の 山 も 、 足 の 下 に なる て しまう ます た 。 この 分 で のぼる て 行く ば 、 地獄 から ぬける 出す の も 、 存外 わけ が ない かも 知れる ます ん 。 ※ 陀多 は 両手 を 蜘蛛 の 糸 に からむ ながら 、 ここ へ 来る て から 何 年 に も 出す た 事 の ない 声 で 、 「 しめる た 。 しめる た 。 」 と 笑う ます た 。 ところが ふと 気 が つく ます と 、 蜘蛛 の 糸 の 下 の 方 に は 、 数 限 も ない 罪人 たち が 、 自分 の のぼる た 後 を つける て 、 まるで 蟻 の 行列 の よう に 、 やはり 上 へ 上 へ 一心 に よじのぼる て 来る だ は ござる ます ん か 。 ※ 陀多 は これ を 見る と 、 驚く た の と 恐る する いる の と で 、 しばらく は ただ 、 莫迦 の よう に 大きな 口 を 開く た まま 、 眼 ばかり 動かす て 居る ます た 。 自分 一 人 だ さえ 断れる そう だ 、 この 細い 蜘蛛 の 糸 が 、 どうして あれ だけ の 人数 の 重み に 堪える 事 が 出来る ます う 。 もし 万一 途中 で 断れる た と 致す ます た 、 折角 ここ へ まで のぼる て 来る た この 肝腎 だ 自分 まで も 、 元 の 地獄 へ 逆落し に 落ちる て しまう ない ば なる ます ん 。 そんな 事 が ある た 、 大変 だ ござる ます 。 が 、 そう 云う 中 に も 、 罪人 たち は 何 百 と ない 何 千 と ない 、 まっ暗 だ 血の池 の 底 から 、 うようよ と 這う 上る て 、 細い 光る て いる 蜘蛛 の 糸 を 、 一 列 に なる ながら 、 せっせと のぼる て 参る ます 。 今 の 中 に どうか する ない ば 、 糸 は まん中 から 二つ に 断れる て 、 落ちる て しまう の に 違い ある ます ん 。 そこで ※ 陀多 は 大きな 声 を 出す て 、 「 こら 、 罪人 ども 。 この 蜘蛛 の 糸 は 己 の もの だ ぞ 。 お前 たち は 一体 誰 に 尋 いる て 、 のぼる て 来る た 。 下りる 。 下りる 。 」 と 喚く ます た 。 その 途端 だ ござる ます 。 今 まで 何 と も ない た 蜘蛛 の 糸 が 、 急 に ※ 陀多 の ぶる 下る て いる 所 から 、 ぷつりと 音 を 立てる て 断れる ます た 。 です から ※ 陀多 も たまる ます ん 。 あっと 云う 間もなく 風 を 切る て 、 独楽 の よう に くるくる まわる ながら 、 見る 見る 中 に 暗い の 底 へ 、 まっ さ か さま に 落ちる て しまう ます た 。 後 に は ただ 極楽 の 蜘蛛 の 糸 が 、 きらきら と 細い 光る ながら 、 月 も 星 も ない 空 の 中途 に 、 短い 垂れる て いる ばかり だ ござる ます 。 御 釈迦 様 は 極楽 の 蓮池 の ふち に 立つ て 、 この 一部始終 を じっと 見る て いらっしゃる ます た が 、 やがて ※ 陀多 が 血の池 の 底 へ 石 の よう に 沈む で しまう ます と 、 悲しい そう だ 御 顔 を なす り ながら 、 また ぶらぶら 御 歩き に なる 始める ます た 。 自分 ばかり 地獄 から ぬける 出す う と する 、 ※ 陀多 の 無慈悲 だ 心 が 、 そうして その 心 相当 だ 罰 を うける て 、 元 の 地獄 へ 落ちる て しまう た の が 、 御 釈迦 様 の 御 目 から 見る と 、 浅間 しく 思召 する れる た の だ ござる ます う 。 しかし 極楽 の 蓮池 の 蓮 は 、 少し も そんな 事 に は 頓着 致す ます ん 。 その 玉 の よう だ 白い 花 は 、 御 釈迦 様 の 御 足 の まわり に 、 ゆらゆら 萼 を 動かす て 、 その まん中 に ある 金色 の 蕊 から は 、 何とも 云う ない 好い 匂 が 、 絶間 ない あたり へ 溢れる て 居る ます 。 極楽 も もう 午 に 近く なる た の だ ござる ます う 。\n",
            "\n"
          ],
          "name": "stdout"
        }
      ]
    },
    {
      "cell_type": "code",
      "metadata": {
        "id": "1Au0GobIr4ey",
        "colab_type": "code",
        "colab": {
          "base_uri": "https://localhost:8080/",
          "height": 73
        },
        "outputId": "ac4966a4-5179-49bd-d6b0-90570b66c594"
      },
      "source": [
        "line = result\n",
        "print(line)"
      ],
      "execution_count": 15,
      "outputs": [
        {
          "output_type": "stream",
          "text": [
            " ある 日 の 事 だ ござる ます 。 御 釈迦 様 は 極楽 の 蓮池 の ふち を 、 独り で ぶらぶら 御 歩き に なる て いらっしゃる ます た 。 池 の 中 に 咲く て いる 蓮 の 花 は 、 みんな 玉 の よう に まっ白 で 、 その まん中 に ある 金色 の 蕊 から は 、 何とも 云う ない 好い 匂 が 、 絶間 ない あたり へ 溢れる て 居る ます 。 極楽 は 丁度 朝 だ の だ ござる ます う 。 やがて 御 釈迦 様 は その 池 の ふち に 御 佇む に なる て 、 水 の 面 を 蔽う て いる 蓮 の 葉 の 間 から 、 ふと 下 の 容子 を 御覧 に なる ます た 。 この 極楽 の 蓮池 の 下 は 、 丁度 地獄 の 底 に 当る て 居る ます から 、 水晶 の よう だ 水 を 透く 徹す て 、 三 途 の 河 や 針 の 山 の 景色 が 、 丁度 覗き 眼鏡 を 見る よう に 、 はっきり と 見える の だ ござる ます 。 すると その 地獄 の 底 に 、 ※ 陀多 と 云う 男 が 一 人 、 ほか の 罪人 と 一 しょ に 蠢く て いる 姿 が 、 御 眼 に 止まる ます た 。 この ※ 陀多 と 云う 男 は 、 人 を 殺す たり 家 に 火 を つける たり 、 いろいろ 悪事 を 働く た 大 泥坊 だ ござる ます が 、 それでも たった 一つ 、 善い 事 を 致す た 覚え が ござる ます 。 と 申す ます の は 、 ある 時 この 男 が 深い 林 の 中 を 通る ます と 、 小さな 蜘蛛 が 一 匹 、 路 ば た を 這う て 行く の が 見える ます た 。 そこで ※ 陀多 は 早速 足 を 挙げる て 、 踏む 殺す う と 致す ます た が 、 「 いや 、 いや 、 これ も 小さい ながら 、 命 の ある もの に 違い ない 。 その 命 を 無 暗に とる と 云う 事 は 、 いくら 何 でも 可哀そう だ 。 」 と 、 こう 急 に 思い返す て 、 とうとう その 蜘蛛 を 殺す ぬ に 助ける て やる た から だ ござる ます 。 御 釈迦 様 は 地獄 の 容子 を 御覧 に なる ながら 、 この ※ 陀多 に は 蜘蛛 を 助ける た 事 が ある の を 御 思い出す に なる ます た 。 そうして それだけ の 善い 事 を する た 報 に は 、 出来る だ 、 この 男 を 地獄 から 救い出す て やる う と 御 考え に なる ます た 。 幸い 、 側 を 見る ます と 、 翡翠 の よう だ 色 を する た 蓮 の 葉 の 上 に 、 極楽 の 蜘蛛 が 一 匹 、 美しい 銀色 の 糸 を かける て 居る ます 。 御 釈迦 様 は その 蜘蛛 の 糸 を そっと 御 手 に 御 取り に なる て 、 玉 の よう だ 白蓮 の 間 から 、 遥か 下 に ある 地獄 の 底 へ 、 まっすぐ に それ を 御 下す なさる ます た 。 こちら は 地獄 の 底 の 血の池 で 、 ほか の 罪人 と 一 しょ に 、 浮く たり 沈む だり する て いる た ※ 陀多 だ ござる ます 。 何しろ どちら を 見る て も 、 まっ暗 で 、 たまに その くら 暗い ぼんやり 浮く 上る て いる もの が ある と 思う ます と 、 それ は 恐い いる 針 の 山 の 針 が 光る の だ ござる ます から 、 その 心細い さ と 云う た ござる ます ん 。 その 上 あたり は 墓 の 中 の よう に しん と 静まり返る て 、 たま に 聞える もの と 云う て は 、 ただ 罪人 が つく 微 だ 嘆息 ばかり だ ござる ます 。 これ は ここ へ 落ちる て 来る ほど の 人間 は 、 もう さまざま だ 地獄 の 責苦 に 疲れはてる て 、 泣声 を 出す 力 さえ なくなる て いる の だ ござる ます う 。 です から さすが 大 泥坊 の ※ 陀多 も 、 やはり 血の池 の 血 に 咽ぶ ながら 、 まるで 死ぬ かかる た 蛙 の よう に 、 ただ もがく て ばかり 居る ます た 。 ところ が ある 時 の 事 だ ござる ます 。 何気ない ※ 陀多 が 頭 を 挙げる て 、 血の池 の 空 を 眺める ます と 、 その ひっそり と する た 暗い の 中 を 、 遠い 遠い 天上 から 、 銀色 の 蜘蛛 の 糸 が 、 まるで 人目 に かかる の を 恐れる よう に 、 一すじ 細い 光る ながら 、 するする と 自分 の 上 へ 垂れる て 参る の だ は ござる ます ん か 。 ※ 陀多 は これ を 見る と 、 思わず 手 を 拍 って 喜ぶ ます た 。 この 糸 に 縋る つく て 、 どこ まで も のぼる て 行く ば 、 きっと 地獄 から ぬける 出せる の に 相違 ござる ます ん 。 いや 、 うまい 行く と 、 極楽 へ はいる 事 さえ も 出来る ます う 。 そう する ば 、 もう 針 の 山 へ 追い上げる られる 事 も なくなる ば 、 血の池 に 沈める られる 事 も ある 筈 は ござる ます ん 。 こう 思う ます た から ※ 陀多 は 、 早速 その 蜘蛛 の 糸 を 両手 で しっかり と つかむ ながら 、 一生懸命 に 上 へ 上 へ と たぐる のぼる 始める ます た 。 元 より 大 泥坊 の 事 だ ござる ます から 、 こう 云う 事 に は 昔 から 、 慣れる 切る て いる の だ ござる ます 。 しかし 地獄 と 極楽 と の 間 は 、 何 万里 と ない ござる ます から 、 いくら 焦る て 見る た 所 で 、 容易 に 上 へ は 出る られる ます ん 。 やや しばらく のぼる 中 に 、 とうとう ※ 陀多 も くたびれる て 、 もう 一 たぐる も 上 の 方 へ は のぼれる ない なる て しまう ます た 。 そこで 仕方 が ござる ます ん から 、 まず 一休み 休む つもり だ 、 糸 の 中途 に ぶる 下りる ながら 、 遥か に 目の下 を 見下す ます た 。 する と 、 一生懸命 に のぼる た 甲斐 が ある て 、 さっき まで 自分 が いる た 血の池 は 、 今 で は もう 暗い の 底 に いつの間にか かくれる て 居る ます 。 それから あの ぼんやり 光る て いる 恐い いる 針 の 山 も 、 足 の 下 に なる て しまう ます た 。 この 分 で のぼる て 行く ば 、 地獄 から ぬける 出す の も 、 存外 わけ が ない かも 知れる ます ん 。 ※ 陀多 は 両手 を 蜘蛛 の 糸 に からむ ながら 、 ここ へ 来る て から 何 年 に も 出す た 事 の ない 声 で 、 「 しめる た 。 しめる た 。 」 と 笑う ます た 。 ところが ふと 気 が つく ます と 、 蜘蛛 の 糸 の 下 の 方 に は 、 数 限 も ない 罪人 たち が 、 自分 の のぼる た 後 を つける て 、 まるで 蟻 の 行列 の よう に 、 やはり 上 へ 上 へ 一心 に よじのぼる て 来る だ は ござる ます ん か 。 ※ 陀多 は これ を 見る と 、 驚く た の と 恐る する いる の と で 、 しばらく は ただ 、 莫迦 の よう に 大きな 口 を 開く た まま 、 眼 ばかり 動かす て 居る ます た 。 自分 一 人 だ さえ 断れる そう だ 、 この 細い 蜘蛛 の 糸 が 、 どうして あれ だけ の 人数 の 重み に 堪える 事 が 出来る ます う 。 もし 万一 途中 で 断れる た と 致す ます た 、 折角 ここ へ まで のぼる て 来る た この 肝腎 だ 自分 まで も 、 元 の 地獄 へ 逆落し に 落ちる て しまう ない ば なる ます ん 。 そんな 事 が ある た 、 大変 だ ござる ます 。 が 、 そう 云う 中 に も 、 罪人 たち は 何 百 と ない 何 千 と ない 、 まっ暗 だ 血の池 の 底 から 、 うようよ と 這う 上る て 、 細い 光る て いる 蜘蛛 の 糸 を 、 一 列 に なる ながら 、 せっせと のぼる て 参る ます 。 今 の 中 に どうか する ない ば 、 糸 は まん中 から 二つ に 断れる て 、 落ちる て しまう の に 違い ある ます ん 。 そこで ※ 陀多 は 大きな 声 を 出す て 、 「 こら 、 罪人 ども 。 この 蜘蛛 の 糸 は 己 の もの だ ぞ 。 お前 たち は 一体 誰 に 尋 いる て 、 のぼる て 来る た 。 下りる 。 下りる 。 」 と 喚く ます た 。 その 途端 だ ござる ます 。 今 まで 何 と も ない た 蜘蛛 の 糸 が 、 急 に ※ 陀多 の ぶる 下る て いる 所 から 、 ぷつりと 音 を 立てる て 断れる ます た 。 です から ※ 陀多 も たまる ます ん 。 あっと 云う 間もなく 風 を 切る て 、 独楽 の よう に くるくる まわる ながら 、 見る 見る 中 に 暗い の 底 へ 、 まっ さ か さま に 落ちる て しまう ます た 。 後 に は ただ 極楽 の 蜘蛛 の 糸 が 、 きらきら と 細い 光る ながら 、 月 も 星 も ない 空 の 中途 に 、 短い 垂れる て いる ばかり だ ござる ます 。 御 釈迦 様 は 極楽 の 蓮池 の ふち に 立つ て 、 この 一部始終 を じっと 見る て いらっしゃる ます た が 、 やがて ※ 陀多 が 血の池 の 底 へ 石 の よう に 沈む で しまう ます と 、 悲しい そう だ 御 顔 を なす り ながら 、 また ぶらぶら 御 歩き に なる 始める ます た 。 自分 ばかり 地獄 から ぬける 出す う と する 、 ※ 陀多 の 無慈悲 だ 心 が 、 そうして その 心 相当 だ 罰 を うける て 、 元 の 地獄 へ 落ちる て しまう た の が 、 御 釈迦 様 の 御 目 から 見る と 、 浅間 しく 思召 する れる た の だ ござる ます う 。 しかし 極楽 の 蓮池 の 蓮 は 、 少し も そんな 事 に は 頓着 致す ます ん 。 その 玉 の よう だ 白い 花 は 、 御 釈迦 様 の 御 足 の まわり に 、 ゆらゆら 萼 を 動かす て 、 その まん中 に ある 金色 の 蕊 から は 、 何とも 云う ない 好い 匂 が 、 絶間 ない あたり へ 溢れる て 居る ます 。 極楽 も もう 午 に 近く なる た の だ ござる ます う 。\n",
            "\n"
          ],
          "name": "stdout"
        }
      ]
    },
    {
      "cell_type": "code",
      "metadata": {
        "id": "dcU_qjmKsS52",
        "colab_type": "code",
        "colab": {}
      },
      "source": [
        "n = 0\n",
        "count = 0\n",
        "tangosu = 0\n",
        "word = []"
      ],
      "execution_count": 0,
      "outputs": []
    },
    {
      "cell_type": "code",
      "metadata": {
        "id": "TpK6wEjtsUWf",
        "colab_type": "code",
        "colab": {
          "base_uri": "https://localhost:8080/",
          "height": 1000
        },
        "outputId": "d1213160-0374-4cc9-a291-eed5836294b7"
      },
      "source": [
        "nox = []\n",
        "county = []\n",
        "word = line.split(' ')\n",
        "for word in line:\n",
        "  if word == '※':\n",
        "    continue\n",
        "  elif word == ' ':\n",
        "    tangosu += 1\n",
        "  elif word == '。':\n",
        "    n += 1\n",
        "    count = tangosu\n",
        "    tangosu = 0\n",
        "    county.append(count)\n",
        "    nox.append(n)    \n",
        "     \n",
        "    print(n)\n",
        "    print(count)\n",
        "    count = 0\n",
        "  else:\n",
        "    continue\n"
      ],
      "execution_count": 17,
      "outputs": [
        {
          "output_type": "stream",
          "text": [
            "1\n",
            "8\n",
            "2\n",
            "23\n",
            "3\n",
            "46\n",
            "4\n",
            "11\n",
            "5\n",
            "41\n",
            "6\n",
            "57\n",
            "7\n",
            "36\n",
            "8\n",
            "45\n",
            "9\n",
            "39\n",
            "10\n",
            "37\n",
            "11\n",
            "17\n",
            "12\n",
            "25\n",
            "13\n",
            "34\n",
            "14\n",
            "32\n",
            "15\n",
            "40\n",
            "16\n",
            "47\n",
            "17\n",
            "31\n",
            "18\n",
            "54\n",
            "19\n",
            "36\n",
            "20\n",
            "36\n",
            "21\n",
            "35\n",
            "22\n",
            "10\n",
            "23\n",
            "71\n",
            "24\n",
            "17\n",
            "25\n",
            "27\n",
            "26\n",
            "16\n",
            "27\n",
            "29\n",
            "28\n",
            "35\n",
            "29\n",
            "28\n",
            "30\n",
            "35\n",
            "31\n",
            "30\n",
            "32\n",
            "30\n",
            "33\n",
            "35\n",
            "34\n",
            "23\n",
            "35\n",
            "24\n",
            "36\n",
            "33\n",
            "37\n",
            "3\n",
            "38\n",
            "6\n",
            "39\n",
            "60\n",
            "40\n",
            "42\n",
            "41\n",
            "31\n",
            "42\n",
            "41\n",
            "43\n",
            "11\n",
            "44\n",
            "54\n",
            "45\n",
            "28\n",
            "46\n",
            "16\n",
            "47\n",
            "11\n",
            "48\n",
            "15\n",
            "49\n",
            "2\n",
            "50\n",
            "2\n",
            "51\n",
            "6\n",
            "52\n",
            "6\n",
            "53\n",
            "33\n",
            "54\n",
            "9\n",
            "55\n",
            "36\n",
            "56\n",
            "36\n",
            "57\n",
            "62\n",
            "58\n",
            "61\n",
            "59\n",
            "19\n",
            "60\n",
            "51\n",
            "61\n",
            "14\n"
          ],
          "name": "stdout"
        }
      ]
    },
    {
      "cell_type": "code",
      "metadata": {
        "id": "fRV_wuMNsUp4",
        "colab_type": "code",
        "colab": {
          "base_uri": "https://localhost:8080/",
          "height": 55
        },
        "outputId": "deeea6eb-fbb7-4493-b2bf-e581cfe8d34f"
      },
      "source": [
        "!pip install japanize_matplotlib"
      ],
      "execution_count": 18,
      "outputs": [
        {
          "output_type": "stream",
          "text": [
            "Requirement already satisfied: japanize_matplotlib in /usr/local/lib/python3.6/dist-packages (1.0.4)\n"
          ],
          "name": "stdout"
        }
      ]
    },
    {
      "cell_type": "code",
      "metadata": {
        "id": "Nv1SrkpXs4Dm",
        "colab_type": "code",
        "colab": {}
      },
      "source": [
        "import matplotlib.pyplot as plt\n",
        "import  japanize_matplotlib  "
      ],
      "execution_count": 0,
      "outputs": []
    },
    {
      "cell_type": "code",
      "metadata": {
        "id": "mpYi0a3Gs4ML",
        "colab_type": "code",
        "colab": {
          "base_uri": "https://localhost:8080/",
          "height": 269
        },
        "outputId": "8440601d-9f39-4b25-bff8-a6f6c043ca2a"
      },
      "source": [
        "plt.bar(nox, county)\n",
        "plt.show()"
      ],
      "execution_count": 20,
      "outputs": [
        {
          "output_type": "display_data",
          "data": {
            "image/png": "[encoded data removed]",
            "text/plain": [
              "<Figure size 432x288 with 1 Axes>"
            ]
          },
          "metadata": {
            "tags": []
          }
        }
      ]
    },
    {
      "cell_type": "code",
      "metadata": {
        "id": "9X5jsJq4uy1q",
        "colab_type": "code",
        "colab": {}
      },
      "source": [
        "import numpy as np\n",
        "import matplotlib.pyplot as plt"
      ],
      "execution_count": 0,
      "outputs": []
    },
    {
      "cell_type": "code",
      "metadata": {
        "id": "2a3Tp_8Ms4aS",
        "colab_type": "code",
        "colab": {
          "base_uri": "https://localhost:8080/",
          "height": 287
        },
        "outputId": "11e7088f-8b1c-4ba9-8f15-77eca14c6d39"
      },
      "source": [
        "# 折れ線グラフを出力\n",
        "left = np.array(nox)\n",
        "height = np.array(county)\n",
        "plt.plot(left, height)\n"
      ],
      "execution_count": 22,
      "outputs": [
        {
          "output_type": "execute_result",
          "data": {
            "text/plain": [
              "[<matplotlib.lines.Line2D at 0x7fd18a921ba8>]"
            ]
          },
          "metadata": {
            "tags": []
          },
          "execution_count": 22
        },
        {
          "output_type": "display_data",
          "data": {
            "image/png": "[encoded data removed]",
            "text/plain": [
              "<Figure size 432x288 with 1 Axes>"
            ]
          },
          "metadata": {
            "tags": []
          }
        }
      ]
    }
  ]
}