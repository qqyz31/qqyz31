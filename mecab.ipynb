{
  "nbformat": 4,
  "nbformat_minor": 0,
  "metadata": {
    "colab": {
      "name": "mecab.ipynb",
      "version": "0.3.2",
      "provenance": [],
      "collapsed_sections": [],
      "include_colab_link": true
    },
    "kernelspec": {
      "name": "python3",
      "display_name": "Python 3"
    }
  },
  "cells": [
    {
      "cell_type": "markdown",
      "metadata": {
        "id": "view-in-github",
        "colab_type": "text"
      },
      "source": [
        "<a href=\"https://colab.research.google.com/github/qqyz31/qqyz31/blob/master/mecab.ipynb\" target=\"_parent\"><img src=\"https://colab.research.google.com/assets/colab-badge.svg\" alt=\"Open In Colab\"/></a>"
      ]
    },
    {
      "cell_type": "code",
      "metadata": {
        "id": "aiyGjgdBUC1W",
        "colab_type": "code",
        "outputId": "95b5b528-3479-4cbb-c5ca-9b676e901a1a",
        "colab": {
          "base_uri": "https://localhost:8080/",
          "height": 1000
        }
      },
      "source": [
        "!apt install aptitude\n",
        "!aptitude install mecab libmecab-dev mecab-ipadic-utf8 git make curl xz-utils file -y\n",
        "!pip install mecab-python3"
      ],
      "execution_count": 0,
      "outputs": [
        {
          "output_type": "stream",
          "text": [
            "Reading package lists... Done\n",
            "Building dependency tree       \n",
            "Reading state information... Done\n",
            "The following package was automatically installed and is no longer required:\n",
            "  libnvidia-common-410\n",
            "Use 'apt autoremove' to remove it.\n",
            "The following additional packages will be installed:\n",
            "  aptitude-common libcgi-fast-perl libcgi-pm-perl libclass-accessor-perl\n",
            "  libcwidget3v5 libencode-locale-perl libfcgi-perl libhtml-parser-perl\n",
            "  libhtml-tagset-perl libhttp-date-perl libhttp-message-perl libio-html-perl\n",
            "  libio-string-perl liblwp-mediatypes-perl libparse-debianchangelog-perl\n",
            "  libsigc++-2.0-0v5 libsub-name-perl libtimedate-perl liburi-perl libxapian30\n",
            "Suggested packages:\n",
            "  aptitude-doc-en | aptitude-doc apt-xapian-index debtags tasksel\n",
            "  libcwidget-dev libdata-dump-perl libhtml-template-perl libxml-simple-perl\n",
            "  libwww-perl xapian-tools\n",
            "The following NEW packages will be installed:\n",
            "  aptitude aptitude-common libcgi-fast-perl libcgi-pm-perl\n",
            "  libclass-accessor-perl libcwidget3v5 libencode-locale-perl libfcgi-perl\n",
            "  libhtml-parser-perl libhtml-tagset-perl libhttp-date-perl\n",
            "  libhttp-message-perl libio-html-perl libio-string-perl\n",
            "  liblwp-mediatypes-perl libparse-debianchangelog-perl libsigc++-2.0-0v5\n",
            "  libsub-name-perl libtimedate-perl liburi-perl libxapian30\n",
            "0 upgraded, 21 newly installed, 0 to remove and 4 not upgraded.\n",
            "Need to get 3,877 kB of archives.\n",
            "After this operation, 15.6 MB of additional disk space will be used.\n",
            "Get:1 http://archive.ubuntu.com/ubuntu bionic/main amd64 aptitude-common all 0.8.10-6ubuntu1 [1,014 kB]\n",
            "Get:2 http://archive.ubuntu.com/ubuntu bionic/main amd64 libsigc++-2.0-0v5 amd64 2.10.0-2 [10.9 kB]\n",
            "Get:3 http://archive.ubuntu.com/ubuntu bionic/main amd64 libcwidget3v5 amd64 0.5.17-7 [286 kB]\n",
            "Get:4 http://archive.ubuntu.com/ubuntu bionic-updates/main amd64 libxapian30 amd64 1.4.5-1ubuntu0.1 [631 kB]\n",
            "Get:5 http://archive.ubuntu.com/ubuntu bionic/main amd64 aptitude amd64 0.8.10-6ubuntu1 [1,269 kB]\n",
            "Get:6 http://archive.ubuntu.com/ubuntu bionic/main amd64 libhtml-tagset-perl all 3.20-3 [12.1 kB]\n",
            "Get:7 http://archive.ubuntu.com/ubuntu bionic/main amd64 liburi-perl all 1.73-1 [77.2 kB]\n",
            "Get:8 http://archive.ubuntu.com/ubuntu bionic/main amd64 libhtml-parser-perl amd64 3.72-3build1 [85.9 kB]\n",
            "Get:9 http://archive.ubuntu.com/ubuntu bionic/main amd64 libcgi-pm-perl all 4.38-1 [185 kB]\n",
            "Get:10 http://archive.ubuntu.com/ubuntu bionic/main amd64 libfcgi-perl amd64 0.78-2build1 [32.8 kB]\n",
            "Get:11 http://archive.ubuntu.com/ubuntu bionic/main amd64 libcgi-fast-perl all 1:2.13-1 [9,940 B]\n",
            "Get:12 http://archive.ubuntu.com/ubuntu bionic/main amd64 libsub-name-perl amd64 0.21-1build1 [11.6 kB]\n",
            "Get:13 http://archive.ubuntu.com/ubuntu bionic/main amd64 libclass-accessor-perl all 0.51-1 [21.2 kB]\n",
            "Get:14 http://archive.ubuntu.com/ubuntu bionic/main amd64 libencode-locale-perl all 1.05-1 [12.3 kB]\n",
            "Get:15 http://archive.ubuntu.com/ubuntu bionic/main amd64 libtimedate-perl all 2.3000-2 [37.5 kB]\n",
            "Get:16 http://archive.ubuntu.com/ubuntu bionic/main amd64 libhttp-date-perl all 6.02-1 [10.4 kB]\n",
            "Get:17 http://archive.ubuntu.com/ubuntu bionic/main amd64 libio-html-perl all 1.001-1 [14.9 kB]\n",
            "Get:18 http://archive.ubuntu.com/ubuntu bionic/main amd64 liblwp-mediatypes-perl all 6.02-1 [21.7 kB]\n",
            "Get:19 http://archive.ubuntu.com/ubuntu bionic/main amd64 libhttp-message-perl all 6.14-1 [72.1 kB]\n",
            "Get:20 http://archive.ubuntu.com/ubuntu bionic/main amd64 libio-string-perl all 1.08-3 [11.1 kB]\n",
            "Get:21 http://archive.ubuntu.com/ubuntu bionic/main amd64 libparse-debianchangelog-perl all 1.2.0-12 [49.5 kB]\n",
            "Fetched 3,877 kB in 2s (2,099 kB/s)\n",
            "Selecting previously unselected package aptitude-common.\n",
            "(Reading database ... 131289 files and directories currently installed.)\n",
            "Preparing to unpack .../00-aptitude-common_0.8.10-6ubuntu1_all.deb ...\n",
            "Unpacking aptitude-common (0.8.10-6ubuntu1) ...\n",
            "Selecting previously unselected package libsigc++-2.0-0v5:amd64.\n",
            "Preparing to unpack .../01-libsigc++-2.0-0v5_2.10.0-2_amd64.deb ...\n",
            "Unpacking libsigc++-2.0-0v5:amd64 (2.10.0-2) ...\n",
            "Selecting previously unselected package libcwidget3v5:amd64.\n",
            "Preparing to unpack .../02-libcwidget3v5_0.5.17-7_amd64.deb ...\n",
            "Unpacking libcwidget3v5:amd64 (0.5.17-7) ...\n",
            "Selecting previously unselected package libxapian30:amd64.\n",
            "Preparing to unpack .../03-libxapian30_1.4.5-1ubuntu0.1_amd64.deb ...\n",
            "Unpacking libxapian30:amd64 (1.4.5-1ubuntu0.1) ...\n",
            "Selecting previously unselected package aptitude.\n",
            "Preparing to unpack .../04-aptitude_0.8.10-6ubuntu1_amd64.deb ...\n",
            "Unpacking aptitude (0.8.10-6ubuntu1) ...\n",
            "Selecting previously unselected package libhtml-tagset-perl.\n",
            "Preparing to unpack .../05-libhtml-tagset-perl_3.20-3_all.deb ...\n",
            "Unpacking libhtml-tagset-perl (3.20-3) ...\n",
            "Selecting previously unselected package liburi-perl.\n",
            "Preparing to unpack .../06-liburi-perl_1.73-1_all.deb ...\n",
            "Unpacking liburi-perl (1.73-1) ...\n",
            "Selecting previously unselected package libhtml-parser-perl.\n",
            "Preparing to unpack .../07-libhtml-parser-perl_3.72-3build1_amd64.deb ...\n",
            "Unpacking libhtml-parser-perl (3.72-3build1) ...\n",
            "Selecting previously unselected package libcgi-pm-perl.\n",
            "Preparing to unpack .../08-libcgi-pm-perl_4.38-1_all.deb ...\n",
            "Unpacking libcgi-pm-perl (4.38-1) ...\n",
            "Selecting previously unselected package libfcgi-perl.\n",
            "Preparing to unpack .../09-libfcgi-perl_0.78-2build1_amd64.deb ...\n",
            "Unpacking libfcgi-perl (0.78-2build1) ...\n",
            "Selecting previously unselected package libcgi-fast-perl.\n",
            "Preparing to unpack .../10-libcgi-fast-perl_1%3a2.13-1_all.deb ...\n",
            "Unpacking libcgi-fast-perl (1:2.13-1) ...\n",
            "Selecting previously unselected package libsub-name-perl.\n",
            "Preparing to unpack .../11-libsub-name-perl_0.21-1build1_amd64.deb ...\n",
            "Unpacking libsub-name-perl (0.21-1build1) ...\n",
            "Selecting previously unselected package libclass-accessor-perl.\n",
            "Preparing to unpack .../12-libclass-accessor-perl_0.51-1_all.deb ...\n",
            "Unpacking libclass-accessor-perl (0.51-1) ...\n",
            "Selecting previously unselected package libencode-locale-perl.\n",
            "Preparing to unpack .../13-libencode-locale-perl_1.05-1_all.deb ...\n",
            "Unpacking libencode-locale-perl (1.05-1) ...\n",
            "Selecting previously unselected package libtimedate-perl.\n",
            "Preparing to unpack .../14-libtimedate-perl_2.3000-2_all.deb ...\n",
            "Unpacking libtimedate-perl (2.3000-2) ...\n",
            "Selecting previously unselected package libhttp-date-perl.\n",
            "Preparing to unpack .../15-libhttp-date-perl_6.02-1_all.deb ...\n",
            "Unpacking libhttp-date-perl (6.02-1) ...\n",
            "Selecting previously unselected package libio-html-perl.\n",
            "Preparing to unpack .../16-libio-html-perl_1.001-1_all.deb ...\n",
            "Unpacking libio-html-perl (1.001-1) ...\n",
            "Selecting previously unselected package liblwp-mediatypes-perl.\n",
            "Preparing to unpack .../17-liblwp-mediatypes-perl_6.02-1_all.deb ...\n",
            "Unpacking liblwp-mediatypes-perl (6.02-1) ...\n",
            "Selecting previously unselected package libhttp-message-perl.\n",
            "Preparing to unpack .../18-libhttp-message-perl_6.14-1_all.deb ...\n",
            "Unpacking libhttp-message-perl (6.14-1) ...\n",
            "Selecting previously unselected package libio-string-perl.\n",
            "Preparing to unpack .../19-libio-string-perl_1.08-3_all.deb ...\n",
            "Unpacking libio-string-perl (1.08-3) ...\n",
            "Selecting previously unselected package libparse-debianchangelog-perl.\n",
            "Preparing to unpack .../20-libparse-debianchangelog-perl_1.2.0-12_all.deb ...\n",
            "Unpacking libparse-debianchangelog-perl (1.2.0-12) ...\n",
            "Setting up libhtml-tagset-perl (3.20-3) ...\n",
            "Setting up libxapian30:amd64 (1.4.5-1ubuntu0.1) ...\n",
            "Setting up libencode-locale-perl (1.05-1) ...\n",
            "Setting up libtimedate-perl (2.3000-2) ...\n",
            "Setting up libio-html-perl (1.001-1) ...\n",
            "Setting up aptitude-common (0.8.10-6ubuntu1) ...\n",
            "Setting up liblwp-mediatypes-perl (6.02-1) ...\n",
            "Processing triggers for libc-bin (2.27-3ubuntu1) ...\n",
            "Setting up liburi-perl (1.73-1) ...\n",
            "Setting up libhtml-parser-perl (3.72-3build1) ...\n",
            "Setting up libcgi-pm-perl (4.38-1) ...\n",
            "Setting up libio-string-perl (1.08-3) ...\n",
            "Processing triggers for man-db (2.8.3-2ubuntu0.1) ...\n",
            "Setting up libsub-name-perl (0.21-1build1) ...\n",
            "Setting up libfcgi-perl (0.78-2build1) ...\n",
            "Setting up libsigc++-2.0-0v5:amd64 (2.10.0-2) ...\n",
            "Setting up libclass-accessor-perl (0.51-1) ...\n",
            "Setting up libhttp-date-perl (6.02-1) ...\n",
            "Setting up libcgi-fast-perl (1:2.13-1) ...\n",
            "Setting up libparse-debianchangelog-perl (1.2.0-12) ...\n",
            "Setting up libhttp-message-perl (6.14-1) ...\n",
            "Setting up libcwidget3v5:amd64 (0.5.17-7) ...\n",
            "Setting up aptitude (0.8.10-6ubuntu1) ...\n",
            "update-alternatives: using /usr/bin/aptitude-curses to provide /usr/bin/aptitude (aptitude) in auto mode\n",
            "Processing triggers for libc-bin (2.27-3ubuntu1) ...\n",
            "git is already installed at the requested version (1:2.17.1-1ubuntu0.4)\n",
            "make is already installed at the requested version (4.1-9.1ubuntu1)\n",
            "curl is already installed at the requested version (7.58.0-2ubuntu3.7)\n",
            "xz-utils is already installed at the requested version (5.2.2-1.3)\n",
            "git is already installed at the requested version (1:2.17.1-1ubuntu0.4)\n",
            "make is already installed at the requested version (4.1-9.1ubuntu1)\n",
            "curl is already installed at the requested version (7.58.0-2ubuntu3.7)\n",
            "xz-utils is already installed at the requested version (5.2.2-1.3)\n",
            "The following NEW packages will be installed:\n",
            "  file libmagic-mgc{a} libmagic1{a} libmecab-dev libmecab2{a} mecab mecab-ipadic{a} mecab-ipadic-utf8 mecab-jumandic{a} mecab-jumandic-utf8{a} mecab-utils{a} \n",
            "The following packages will be REMOVED:\n",
            "  libnvidia-common-410{u} \n",
            "0 packages upgraded, 11 newly installed, 1 to remove and 4 not upgraded.\n",
            "Need to get 29.3 MB of archives. After unpacking 282 MB will be used.\n",
            "Get: 1 http://archive.ubuntu.com/ubuntu bionic-updates/main amd64 libmagic-mgc amd64 1:5.32-2ubuntu0.2 [184 kB]\n",
            "Get: 2 http://archive.ubuntu.com/ubuntu bionic-updates/main amd64 libmagic1 amd64 1:5.32-2ubuntu0.2 [68.5 kB]\n",
            "Get: 3 http://archive.ubuntu.com/ubuntu bionic-updates/main amd64 file amd64 1:5.32-2ubuntu0.2 [22.1 kB]\n",
            "Get: 4 http://archive.ubuntu.com/ubuntu bionic/universe amd64 libmecab2 amd64 0.996-5 [257 kB]\n",
            "Get: 5 http://archive.ubuntu.com/ubuntu bionic/universe amd64 libmecab-dev amd64 0.996-5 [308 kB]\n",
            "Get: 6 http://archive.ubuntu.com/ubuntu bionic/universe amd64 mecab-utils amd64 0.996-5 [4,856 B]\n",
            "Get: 7 http://archive.ubuntu.com/ubuntu bionic/universe amd64 mecab-jumandic-utf8 all 7.0-20130310-4 [16.2 MB]\n",
            "Get: 8 http://archive.ubuntu.com/ubuntu bionic/universe amd64 mecab-jumandic all 7.0-20130310-4 [2,212 B]\n",
            "Get: 9 http://archive.ubuntu.com/ubuntu bionic/universe amd64 mecab-ipadic all 2.7.0-20070801+main-1 [12.1 MB]\n",
            "Get: 10 http://archive.ubuntu.com/ubuntu bionic/universe amd64 mecab amd64 0.996-5 [132 kB]\n",
            "Get: 11 http://archive.ubuntu.com/ubuntu bionic/universe amd64 mecab-ipadic-utf8 all 2.7.0-20070801+main-1 [3,522 B]\n",
            "Fetched 29.3 MB in 3s (10.4 MB/s)\n",
            "(Reading database ... 131748 files and directories currently installed.)\n",
            "Removing libnvidia-common-410 (410.104-0ubuntu1) ...\n",
            "Selecting previously unselected package libmagic-mgc.\n",
            "(Reading database ... 131743 files and directories currently installed.)\n",
            "Preparing to unpack .../00-libmagic-mgc_1%3a5.32-2ubuntu0.2_amd64.deb ...\n",
            "Unpacking libmagic-mgc (1:5.32-2ubuntu0.2) ...\n",
            "Selecting previously unselected package libmagic1:amd64.\n",
            "Preparing to unpack .../01-libmagic1_1%3a5.32-2ubuntu0.2_amd64.deb ...\n",
            "Unpacking libmagic1:amd64 (1:5.32-2ubuntu0.2) ...\n",
            "Selecting previously unselected package file.\n",
            "Preparing to unpack .../02-file_1%3a5.32-2ubuntu0.2_amd64.deb ...\n",
            "Unpacking file (1:5.32-2ubuntu0.2) ...\n",
            "Selecting previously unselected package libmecab2:amd64.\n",
            "Preparing to unpack .../03-libmecab2_0.996-5_amd64.deb ...\n",
            "Unpacking libmecab2:amd64 (0.996-5) ...\n",
            "Selecting previously unselected package libmecab-dev.\n",
            "Preparing to unpack .../04-libmecab-dev_0.996-5_amd64.deb ...\n",
            "Unpacking libmecab-dev (0.996-5) ...\n",
            "Selecting previously unselected package mecab-utils.\n",
            "Preparing to unpack .../05-mecab-utils_0.996-5_amd64.deb ...\n",
            "Unpacking mecab-utils (0.996-5) ...\n",
            "Selecting previously unselected package mecab-jumandic-utf8.\n",
            "Preparing to unpack .../06-mecab-jumandic-utf8_7.0-20130310-4_all.deb ...\n",
            "Unpacking mecab-jumandic-utf8 (7.0-20130310-4) ...\n",
            "Selecting previously unselected package mecab-jumandic.\n",
            "Preparing to unpack .../07-mecab-jumandic_7.0-20130310-4_all.deb ...\n",
            "Unpacking mecab-jumandic (7.0-20130310-4) ...\n",
            "Selecting previously unselected package mecab-ipadic.\n",
            "Preparing to unpack .../08-mecab-ipadic_2.7.0-20070801+main-1_all.deb ...\n",
            "Unpacking mecab-ipadic (2.7.0-20070801+main-1) ...\n",
            "Selecting previously unselected package mecab.\n",
            "Preparing to unpack .../09-mecab_0.996-5_amd64.deb ...\n",
            "Unpacking mecab (0.996-5) ...\n",
            "Selecting previously unselected package mecab-ipadic-utf8.\n",
            "Preparing to unpack .../10-mecab-ipadic-utf8_2.7.0-20070801+main-1_all.deb ...\n",
            "Unpacking mecab-ipadic-utf8 (2.7.0-20070801+main-1) ...\n",
            "Setting up libmecab2:amd64 (0.996-5) ...\n",
            "Setting up libmagic-mgc (1:5.32-2ubuntu0.2) ...\n",
            "Setting up libmagic1:amd64 (1:5.32-2ubuntu0.2) ...\n",
            "Processing triggers for libc-bin (2.27-3ubuntu1) ...\n",
            "Processing triggers for man-db (2.8.3-2ubuntu0.1) ...\n",
            "Setting up mecab-utils (0.996-5) ...\n",
            "Setting up mecab-ipadic (2.7.0-20070801+main-1) ...\n",
            "Compiling IPA dictionary for Mecab.  This takes long time...\n",
            "reading /usr/share/mecab/dic/ipadic/unk.def ... 40\n",
            "emitting double-array: 100% |###########################################| \n",
            "/usr/share/mecab/dic/ipadic/model.def is not found. skipped.\n",
            "reading /usr/share/mecab/dic/ipadic/Postp-col.csv ... 91\n",
            "reading /usr/share/mecab/dic/ipadic/Symbol.csv ... 208\n",
            "reading /usr/share/mecab/dic/ipadic/Conjunction.csv ... 171\n",
            "reading /usr/share/mecab/dic/ipadic/Noun.adverbal.csv ... 795\n",
            "reading /usr/share/mecab/dic/ipadic/Noun.csv ... 60477\n",
            "reading /usr/share/mecab/dic/ipadic/Verb.csv ... 130750\n",
            "reading /usr/share/mecab/dic/ipadic/Adnominal.csv ... 135\n",
            "reading /usr/share/mecab/dic/ipadic/Noun.verbal.csv ... 12146\n",
            "reading /usr/share/mecab/dic/ipadic/Noun.name.csv ... 34202\n",
            "reading /usr/share/mecab/dic/ipadic/Noun.proper.csv ... 27327\n",
            "reading /usr/share/mecab/dic/ipadic/Auxil.csv ... 199\n",
            "reading /usr/share/mecab/dic/ipadic/Noun.number.csv ... 42\n",
            "reading /usr/share/mecab/dic/ipadic/Noun.adjv.csv ... 3328\n",
            "reading /usr/share/mecab/dic/ipadic/Noun.others.csv ... 151\n",
            "reading /usr/share/mecab/dic/ipadic/Suffix.csv ... 1393\n",
            "reading /usr/share/mecab/dic/ipadic/Adverb.csv ... 3032\n",
            "reading /usr/share/mecab/dic/ipadic/Postp.csv ... 146\n",
            "reading /usr/share/mecab/dic/ipadic/Interjection.csv ... 252\n",
            "reading /usr/share/mecab/dic/ipadic/Others.csv ... 2\n",
            "reading /usr/share/mecab/dic/ipadic/Noun.demonst.csv ... 120\n",
            "reading /usr/share/mecab/dic/ipadic/Adj.csv ... 27210\n",
            "reading /usr/share/mecab/dic/ipadic/Filler.csv ... 19\n",
            "reading /usr/share/mecab/dic/ipadic/Noun.place.csv ... 72999\n",
            "reading /usr/share/mecab/dic/ipadic/Noun.org.csv ... 16668\n",
            "reading /usr/share/mecab/dic/ipadic/Prefix.csv ... 221\n",
            "reading /usr/share/mecab/dic/ipadic/Noun.nai.csv ... 42\n",
            "emitting double-array: 100% |###########################################| \n",
            "reading /usr/share/mecab/dic/ipadic/matrix.def ... 1316x1316\n",
            "emitting matrix      : 100% |###########################################| \n",
            "\n",
            "done!\n",
            "update-alternatives: using /var/lib/mecab/dic/ipadic to provide /var/lib/mecab/dic/debian (mecab-dictionary) in auto mode\n",
            "Setting up libmecab-dev (0.996-5) ...\n",
            "Setting up file (1:5.32-2ubuntu0.2) ...\n",
            "Setting up mecab-jumandic-utf8 (7.0-20130310-4) ...\n",
            "Compiling Juman dictionary for Mecab.\n",
            "reading /usr/share/mecab/dic/juman/unk.def ... 37\n",
            "emitting double-array: 100% |###########################################| \n",
            "reading /usr/share/mecab/dic/juman/Noun.koyuu.csv ... 7964\n",
            "reading /usr/share/mecab/dic/juman/Noun.hukusi.csv ... 81\n",
            "reading /usr/share/mecab/dic/juman/Emoticon.csv ... 972\n",
            "reading /usr/share/mecab/dic/juman/Rengo.csv ... 1118\n",
            "reading /usr/share/mecab/dic/juman/Auto.csv ... 18931\n",
            "reading /usr/share/mecab/dic/juman/Suffix.csv ... 2128\n",
            "reading /usr/share/mecab/dic/juman/Postp.csv ... 108\n",
            "reading /usr/share/mecab/dic/juman/Special.csv ... 158\n",
            "reading /usr/share/mecab/dic/juman/Noun.keishiki.csv ... 8\n",
            "reading /usr/share/mecab/dic/juman/Assert.csv ... 34\n",
            "reading /usr/share/mecab/dic/juman/Demonstrative.csv ... 97\n",
            "reading /usr/share/mecab/dic/juman/ContentW.csv ... 551145\n",
            "reading /usr/share/mecab/dic/juman/Wikipedia.csv ... 167709\n",
            "reading /usr/share/mecab/dic/juman/Prefix.csv ... 90\n",
            "reading /usr/share/mecab/dic/juman/AuxV.csv ... 593\n",
            "reading /usr/share/mecab/dic/juman/Noun.suusi.csv ... 49\n",
            "emitting double-array: 100% |###########################################| \n",
            "reading /usr/share/mecab/dic/juman/matrix.def ... 1876x1876\n",
            "emitting matrix      : 100% |###########################################| \n",
            "\n",
            "done!\n",
            "Setting up mecab-ipadic-utf8 (2.7.0-20070801+main-1) ...\n",
            "Compiling IPA dictionary for Mecab.  This takes long time...\n",
            "reading /usr/share/mecab/dic/ipadic/unk.def ... 40\n",
            "emitting double-array: 100% |###########################################| \n",
            "/usr/share/mecab/dic/ipadic/model.def is not found. skipped.\n",
            "reading /usr/share/mecab/dic/ipadic/Postp-col.csv ... 91\n",
            "reading /usr/share/mecab/dic/ipadic/Symbol.csv ... 208\n",
            "reading /usr/share/mecab/dic/ipadic/Conjunction.csv ... 171\n",
            "reading /usr/share/mecab/dic/ipadic/Noun.adverbal.csv ... 795\n",
            "reading /usr/share/mecab/dic/ipadic/Noun.csv ... 60477\n",
            "reading /usr/share/mecab/dic/ipadic/Verb.csv ... 130750\n",
            "reading /usr/share/mecab/dic/ipadic/Adnominal.csv ... 135\n",
            "reading /usr/share/mecab/dic/ipadic/Noun.verbal.csv ... 12146\n",
            "reading /usr/share/mecab/dic/ipadic/Noun.name.csv ... 34202\n",
            "reading /usr/share/mecab/dic/ipadic/Noun.proper.csv ... 27327\n",
            "reading /usr/share/mecab/dic/ipadic/Auxil.csv ... 199\n",
            "reading /usr/share/mecab/dic/ipadic/Noun.number.csv ... 42\n",
            "reading /usr/share/mecab/dic/ipadic/Noun.adjv.csv ... 3328\n",
            "reading /usr/share/mecab/dic/ipadic/Noun.others.csv ... 151\n",
            "reading /usr/share/mecab/dic/ipadic/Suffix.csv ... 1393\n",
            "reading /usr/share/mecab/dic/ipadic/Adverb.csv ... 3032\n",
            "reading /usr/share/mecab/dic/ipadic/Postp.csv ... 146\n",
            "reading /usr/share/mecab/dic/ipadic/Interjection.csv ... 252\n",
            "reading /usr/share/mecab/dic/ipadic/Others.csv ... 2\n",
            "reading /usr/share/mecab/dic/ipadic/Noun.demonst.csv ... 120\n",
            "reading /usr/share/mecab/dic/ipadic/Adj.csv ... 27210\n",
            "reading /usr/share/mecab/dic/ipadic/Filler.csv ... 19\n",
            "reading /usr/share/mecab/dic/ipadic/Noun.place.csv ... 72999\n",
            "reading /usr/share/mecab/dic/ipadic/Noun.org.csv ... 16668\n",
            "reading /usr/share/mecab/dic/ipadic/Prefix.csv ... 221\n",
            "reading /usr/share/mecab/dic/ipadic/Noun.nai.csv ... 42\n",
            "emitting double-array: 100% |###########################################| \n",
            "reading /usr/share/mecab/dic/ipadic/matrix.def ... 1316x1316\n",
            "emitting matrix      : 100% |###########################################| \n",
            "\n",
            "done!\n",
            "update-alternatives: using /var/lib/mecab/dic/ipadic-utf8 to provide /var/lib/mecab/dic/debian (mecab-dictionary) in auto mode\n",
            "Setting up mecab (0.996-5) ...\n",
            "Compiling IPA dictionary for Mecab.  This takes long time...\n",
            "reading /usr/share/mecab/dic/ipadic/unk.def ... 40\n",
            "emitting double-array: 100% |###########################################| \n",
            "/usr/share/mecab/dic/ipadic/model.def is not found. skipped.\n",
            "reading /usr/share/mecab/dic/ipadic/Postp-col.csv ... 91\n",
            "reading /usr/share/mecab/dic/ipadic/Symbol.csv ... 208\n",
            "reading /usr/share/mecab/dic/ipadic/Conjunction.csv ... 171\n",
            "reading /usr/share/mecab/dic/ipadic/Noun.adverbal.csv ... 795\n",
            "reading /usr/share/mecab/dic/ipadic/Noun.csv ... 60477\n",
            "reading /usr/share/mecab/dic/ipadic/Verb.csv ... 130750\n",
            "reading /usr/share/mecab/dic/ipadic/Adnominal.csv ... 135\n",
            "reading /usr/share/mecab/dic/ipadic/Noun.verbal.csv ... 12146\n",
            "reading /usr/share/mecab/dic/ipadic/Noun.name.csv ... 34202\n",
            "reading /usr/share/mecab/dic/ipadic/Noun.proper.csv ... 27327\n",
            "reading /usr/share/mecab/dic/ipadic/Auxil.csv ... 199\n",
            "reading /usr/share/mecab/dic/ipadic/Noun.number.csv ... 42\n",
            "reading /usr/share/mecab/dic/ipadic/Noun.adjv.csv ... 3328\n",
            "reading /usr/share/mecab/dic/ipadic/Noun.others.csv ... 151\n",
            "reading /usr/share/mecab/dic/ipadic/Suffix.csv ... 1393\n",
            "reading /usr/share/mecab/dic/ipadic/Adverb.csv ... 3032\n",
            "reading /usr/share/mecab/dic/ipadic/Postp.csv ... 146\n",
            "reading /usr/share/mecab/dic/ipadic/Interjection.csv ... 252\n",
            "reading /usr/share/mecab/dic/ipadic/Others.csv ... 2\n",
            "reading /usr/share/mecab/dic/ipadic/Noun.demonst.csv ... 120\n",
            "reading /usr/share/mecab/dic/ipadic/Adj.csv ... 27210\n",
            "reading /usr/share/mecab/dic/ipadic/Filler.csv ... 19\n",
            "reading /usr/share/mecab/dic/ipadic/Noun.place.csv ... 72999\n",
            "reading /usr/share/mecab/dic/ipadic/Noun.org.csv ... 16668\n",
            "reading /usr/share/mecab/dic/ipadic/Prefix.csv ... 221\n",
            "reading /usr/share/mecab/dic/ipadic/Noun.nai.csv ... 42\n",
            "emitting double-array: 100% |###########################################| \n",
            "reading /usr/share/mecab/dic/ipadic/matrix.def ... 1316x1316\n",
            "emitting matrix      : 100% |###########################################| \n",
            "\n",
            "done!\n",
            "Setting up mecab-jumandic (7.0-20130310-4) ...\n",
            "                            \n",
            "Collecting mecab-python3\n",
            "\u001b[?25l  Downloading https://files.pythonhosted.org/packages/b3/92/e7e7f38df8457fa40c1ca86928be5ddbe2bf341e90a35e6ada30d03ef16d/mecab_python3-0.996.2-cp36-cp36m-manylinux1_x86_64.whl (15.9MB)\n",
            "\u001b[K     |████████████████████████████████| 15.9MB 5.8MB/s \n",
            "\u001b[?25hInstalling collected packages: mecab-python3\n",
            "Successfully installed mecab-python3-0.996.2\n"
          ],
          "name": "stdout"
        }
      ]
    },
    {
      "cell_type": "code",
      "metadata": {
        "id": "dB7PMbg-6foa",
        "colab_type": "code",
        "outputId": "a2d58f78-c610-4682-c775-4a187b171a4b",
        "colab": {
          "resources": {
            "http://localhost:8080/nbextensions/google.colab/files.js": {
              "data": "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",
              "ok": true,
              "headers": [
                [
                  "content-type",
                  "application/javascript"
                ]
              ],
              "status": 200,
              "status_text": ""
            }
          },
          "base_uri": "https://localhost:8080/",
          "height": 81
        }
      },
      "source": [
        "from google.colab import files\n",
        "uploaded = files.upload()"
      ],
      "execution_count": 0,
      "outputs": [
        {
          "output_type": "display_data",
          "data": {
            "text/html": [
              "\n",
              "     <input type=\"file\" id=\"files-da4ede36-ec93-46b0-acb9-dd05a322c6be\" name=\"files[]\" multiple disabled />\n",
              "     <output id=\"result-da4ede36-ec93-46b0-acb9-dd05a322c6be\">\n",
              "      Upload widget is only available when the cell has been executed in the\n",
              "      current browser session. Please rerun this cell to enable.\n",
              "      </output>\n",
              "      <script src=\"/nbextensions/google.colab/files.js\"></script> "
            ],
            "text/plain": [
              "<IPython.core.display.HTML object>"
            ]
          },
          "metadata": {
            "tags": []
          }
        },
        {
          "output_type": "stream",
          "text": [
            "Saving aozora.txt to aozora (1).txt\n"
          ],
          "name": "stdout"
        }
      ]
    },
    {
      "cell_type": "code",
      "metadata": {
        "id": "Ibr5XL61zf8G",
        "colab_type": "code",
        "outputId": "114feed7-de74-41b4-bc97-26620b208049",
        "colab": {
          "base_uri": "https://localhost:8080/",
          "height": 72
        }
      },
      "source": [
        "import MeCab\n",
        "import sys\n",
        "\n",
        "tagger = MeCab.Tagger('-F\\s%f[6] -U\\s%m -E\\\\n')\n",
        "\n",
        "fi = open('aozora.txt', 'r')\n",
        "fo = open('aozora.wakati.txt', 'w')\n",
        "\n",
        "\n",
        "line = fi.readline()\n",
        "\n",
        "while line:\n",
        "    result = tagger.parse(line)\n",
        "    print(result)\n",
        "#    tango = result.rsplit('\\t')\n",
        "   \n",
        "    \n",
        "    fo.write(result[1:]) \n",
        "    line = fi.readline()\n"
      ],
      "execution_count": 43,
      "outputs": [
        {
          "output_type": "stream",
          "text": [
            " ある 日 の 事 だ ござる ます 。 御 釈迦 様 は 極楽 の 蓮池 の ふち を 、 独り で ぶらぶら 御 歩き に なる て いらっしゃる ます た 。 池 の 中 に 咲く て いる 蓮 の 花 は 、 みんな 玉 の よう に まっ白 で 、 その まん中 に ある 金色 の 蕊 から は 、 何とも 云う ない 好い 匂 が 、 絶間 ない あたり へ 溢れる て 居る ます 。 極楽 は 丁度 朝 だ の だ ござる ます う 。 やがて 御 釈迦 様 は その 池 の ふち に 御 佇む に なる て 、 水 の 面 を 蔽う て いる 蓮 の 葉 の 間 から 、 ふと 下 の 容子 を 御覧 に なる ます た 。 この 極楽 の 蓮池 の 下 は 、 丁度 地獄 の 底 に 当る て 居る ます から 、 水晶 の よう だ 水 を 透く 徹す て 、 三 途 の 河 や 針 の 山 の 景色 が 、 丁度 覗き 眼鏡 を 見る よう に 、 はっきり と 見える の だ ござる ます 。 すると その 地獄 の 底 に 、 ※ 陀多 と 云う 男 が 一 人 、 ほか の 罪人 と 一 しょ に 蠢く て いる 姿 が 、 御 眼 に 止まる ます た 。 この ※ 陀多 と 云う 男 は 、 人 を 殺す たり 家 に 火 を つける たり 、 いろいろ 悪事 を 働く た 大 泥坊 だ ござる ます が 、 それでも たった 一つ 、 善い 事 を 致す た 覚え が ござる ます 。 と 申す ます の は 、 ある 時 この 男 が 深い 林 の 中 を 通る ます と 、 小さな 蜘蛛 が 一 匹 、 路 ば た を 這う て 行く の が 見える ます た 。 そこで ※ 陀多 は 早速 足 を 挙げる て 、 踏む 殺す う と 致す ます た が 、 「 いや 、 いや 、 これ も 小さい ながら 、 命 の ある もの に 違い ない 。 その 命 を 無 暗に とる と 云う 事 は 、 いくら 何 でも 可哀そう だ 。 」 と 、 こう 急 に 思い返す て 、 とうとう その 蜘蛛 を 殺す ぬ に 助ける て やる た から だ ござる ます 。 御 釈迦 様 は 地獄 の 容子 を 御覧 に なる ながら 、 この ※ 陀多 に は 蜘蛛 を 助ける た 事 が ある の を 御 思い出す に なる ます た 。 そうして それだけ の 善い 事 を する た 報 に は 、 出来る だ 、 この 男 を 地獄 から 救い出す て やる う と 御 考え に なる ます た 。 幸い 、 側 を 見る ます と 、 翡翠 の よう だ 色 を する た 蓮 の 葉 の 上 に 、 極楽 の 蜘蛛 が 一 匹 、 美しい 銀色 の 糸 を かける て 居る ます 。 御 釈迦 様 は その 蜘蛛 の 糸 を そっと 御 手 に 御 取り に なる て 、 玉 の よう だ 白蓮 の 間 から 、 遥か 下 に ある 地獄 の 底 へ 、 まっすぐ に それ を 御 下す なさる ます た 。 こちら は 地獄 の 底 の 血の池 で 、 ほか の 罪人 と 一 しょ に 、 浮く たり 沈む だり する て いる た ※ 陀多 だ ござる ます 。 何しろ どちら を 見る て も 、 まっ暗 で 、 たまに その くら 暗い ぼんやり 浮く 上る て いる もの が ある と 思う ます と 、 それ は 恐い いる 針 の 山 の 針 が 光る の だ ござる ます から 、 その 心細い さ と 云う た ござる ます ん 。 その 上 あたり は 墓 の 中 の よう に しん と 静まり返る て 、 たま に 聞える もの と 云う て は 、 ただ 罪人 が つく 微 だ 嘆息 ばかり だ ござる ます 。 これ は ここ へ 落ちる て 来る ほど の 人間 は 、 もう さまざま だ 地獄 の 責苦 に 疲れはてる て 、 泣声 を 出す 力 さえ なくなる て いる の だ ござる ます う 。 です から さすが 大 泥坊 の ※ 陀多 も 、 やはり 血の池 の 血 に 咽ぶ ながら 、 まるで 死ぬ かかる た 蛙 の よう に 、 ただ もがく て ばかり 居る ます た 。 ところ が ある 時 の 事 だ ござる ます 。 何気ない ※ 陀多 が 頭 を 挙げる て 、 血の池 の 空 を 眺める ます と 、 その ひっそり と する た 暗い の 中 を 、 遠い 遠い 天上 から 、 銀色 の 蜘蛛 の 糸 が 、 まるで 人目 に かかる の を 恐れる よう に 、 一すじ 細い 光る ながら 、 するする と 自分 の 上 へ 垂れる て 参る の だ は ござる ます ん か 。 ※ 陀多 は これ を 見る と 、 思わず 手 を 拍 って 喜ぶ ます た 。 この 糸 に 縋る つく て 、 どこ まで も のぼる て 行く ば 、 きっと 地獄 から ぬける 出せる の に 相違 ござる ます ん 。 いや 、 うまい 行く と 、 極楽 へ はいる 事 さえ も 出来る ます う 。 そう する ば 、 もう 針 の 山 へ 追い上げる られる 事 も なくなる ば 、 血の池 に 沈める られる 事 も ある 筈 は ござる ます ん 。 こう 思う ます た から ※ 陀多 は 、 早速 その 蜘蛛 の 糸 を 両手 で しっかり と つかむ ながら 、 一生懸命 に 上 へ 上 へ と たぐる のぼる 始める ます た 。 元 より 大 泥坊 の 事 だ ござる ます から 、 こう 云う 事 に は 昔 から 、 慣れる 切る て いる の だ ござる ます 。 しかし 地獄 と 極楽 と の 間 は 、 何 万里 と ない ござる ます から 、 いくら 焦る て 見る た 所 で 、 容易 に 上 へ は 出る られる ます ん 。 やや しばらく のぼる 中 に 、 とうとう ※ 陀多 も くたびれる て 、 もう 一 たぐる も 上 の 方 へ は のぼれる ない なる て しまう ます た 。 そこで 仕方 が ござる ます ん から 、 まず 一休み 休む つもり だ 、 糸 の 中途 に ぶる 下りる ながら 、 遥か に 目の下 を 見下す ます た 。 する と 、 一生懸命 に のぼる た 甲斐 が ある て 、 さっき まで 自分 が いる た 血の池 は 、 今 で は もう 暗い の 底 に いつの間にか かくれる て 居る ます 。 それから あの ぼんやり 光る て いる 恐い いる 針 の 山 も 、 足 の 下 に なる て しまう ます た 。 この 分 で のぼる て 行く ば 、 地獄 から ぬける 出す の も 、 存外 わけ が ない かも 知れる ます ん 。 ※ 陀多 は 両手 を 蜘蛛 の 糸 に からむ ながら 、 ここ へ 来る て から 何 年 に も 出す た 事 の ない 声 で 、 「 しめる た 。 しめる た 。 」 と 笑う ます た 。 ところが ふと 気 が つく ます と 、 蜘蛛 の 糸 の 下 の 方 に は 、 数 限 も ない 罪人 たち が 、 自分 の のぼる た 後 を つける て 、 まるで 蟻 の 行列 の よう に 、 やはり 上 へ 上 へ 一心 に よじのぼる て 来る だ は ござる ます ん か 。 ※ 陀多 は これ を 見る と 、 驚く た の と 恐る する いる の と で 、 しばらく は ただ 、 莫迦 の よう に 大きな 口 を 開く た まま 、 眼 ばかり 動かす て 居る ます た 。 自分 一 人 だ さえ 断れる そう だ 、 この 細い 蜘蛛 の 糸 が 、 どうして あれ だけ の 人数 の 重み に 堪える 事 が 出来る ます う 。 もし 万一 途中 で 断れる た と 致す ます た 、 折角 ここ へ まで のぼる て 来る た この 肝腎 だ 自分 まで も 、 元 の 地獄 へ 逆落し に 落ちる て しまう ない ば なる ます ん 。 そんな 事 が ある た 、 大変 だ ござる ます 。 が 、 そう 云う 中 に も 、 罪人 たち は 何 百 と ない 何 千 と ない 、 まっ暗 だ 血の池 の 底 から 、 うようよ と 這う 上る て 、 細い 光る て いる 蜘蛛 の 糸 を 、 一 列 に なる ながら 、 せっせと のぼる て 参る ます 。 今 の 中 に どうか する ない ば 、 糸 は まん中 から 二つ に 断れる て 、 落ちる て しまう の に 違い ある ます ん 。 そこで ※ 陀多 は 大きな 声 を 出す て 、 「 こら 、 罪人 ども 。 この 蜘蛛 の 糸 は 己 の もの だ ぞ 。 お前 たち は 一体 誰 に 尋 いる て 、 のぼる て 来る た 。 下りる 。 下りる 。 」 と 喚く ます た 。 その 途端 だ ござる ます 。 今 まで 何 と も ない た 蜘蛛 の 糸 が 、 急 に ※ 陀多 の ぶる 下る て いる 所 から 、 ぷつりと 音 を 立てる て 断れる ます た 。 です から ※ 陀多 も たまる ます ん 。 あっと 云う 間もなく 風 を 切る て 、 独楽 の よう に くるくる まわる ながら 、 見る 見る 中 に 暗い の 底 へ 、 まっ さ か さま に 落ちる て しまう ます た 。 後 に は ただ 極楽 の 蜘蛛 の 糸 が 、 きらきら と 細い 光る ながら 、 月 も 星 も ない 空 の 中途 に 、 短い 垂れる て いる ばかり だ ござる ます 。 御 釈迦 様 は 極楽 の 蓮池 の ふち に 立つ て 、 この 一部始終 を じっと 見る て いらっしゃる ます た が 、 やがて ※ 陀多 が 血の池 の 底 へ 石 の よう に 沈む で しまう ます と 、 悲しい そう だ 御 顔 を なす り ながら 、 また ぶらぶら 御 歩き に なる 始める ます た 。 自分 ばかり 地獄 から ぬける 出す う と する 、 ※ 陀多 の 無慈悲 だ 心 が 、 そうして その 心 相当 だ 罰 を うける て 、 元 の 地獄 へ 落ちる て しまう た の が 、 御 釈迦 様 の 御 目 から 見る と 、 浅間 しく 思召 する れる た の だ ござる ます う 。 しかし 極楽 の 蓮池 の 蓮 は 、 少し も そんな 事 に は 頓着 致す ます ん 。 その 玉 の よう だ 白い 花 は 、 御 釈迦 様 の 御 足 の まわり に 、 ゆらゆら 萼 を 動かす て 、 その まん中 に ある 金色 の 蕊 から は 、 何とも 云う ない 好い 匂 が 、 絶間 ない あたり へ 溢れる て 居る ます 。 極楽 も もう 午 に 近く なる た の だ ござる ます う 。\n",
            "\n"
          ],
          "name": "stdout"
        }
      ]
    },
    {
      "cell_type": "code",
      "metadata": {
        "id": "cwuaGAEM_z8U",
        "colab_type": "code",
        "outputId": "7bc8f29f-c0c4-4c51-faf2-26d0210b9e20",
        "colab": {
          "base_uri": "https://localhost:8080/",
          "height": 72
        }
      },
      "source": [
        "line = result\n",
        "print(line)"
      ],
      "execution_count": 44,
      "outputs": [
        {
          "output_type": "stream",
          "text": [
            " ある 日 の 事 だ ござる ます 。 御 釈迦 様 は 極楽 の 蓮池 の ふち を 、 独り で ぶらぶら 御 歩き に なる て いらっしゃる ます た 。 池 の 中 に 咲く て いる 蓮 の 花 は 、 みんな 玉 の よう に まっ白 で 、 その まん中 に ある 金色 の 蕊 から は 、 何とも 云う ない 好い 匂 が 、 絶間 ない あたり へ 溢れる て 居る ます 。 極楽 は 丁度 朝 だ の だ ござる ます う 。 やがて 御 釈迦 様 は その 池 の ふち に 御 佇む に なる て 、 水 の 面 を 蔽う て いる 蓮 の 葉 の 間 から 、 ふと 下 の 容子 を 御覧 に なる ます た 。 この 極楽 の 蓮池 の 下 は 、 丁度 地獄 の 底 に 当る て 居る ます から 、 水晶 の よう だ 水 を 透く 徹す て 、 三 途 の 河 や 針 の 山 の 景色 が 、 丁度 覗き 眼鏡 を 見る よう に 、 はっきり と 見える の だ ござる ます 。 すると その 地獄 の 底 に 、 ※ 陀多 と 云う 男 が 一 人 、 ほか の 罪人 と 一 しょ に 蠢く て いる 姿 が 、 御 眼 に 止まる ます た 。 この ※ 陀多 と 云う 男 は 、 人 を 殺す たり 家 に 火 を つける たり 、 いろいろ 悪事 を 働く た 大 泥坊 だ ござる ます が 、 それでも たった 一つ 、 善い 事 を 致す た 覚え が ござる ます 。 と 申す ます の は 、 ある 時 この 男 が 深い 林 の 中 を 通る ます と 、 小さな 蜘蛛 が 一 匹 、 路 ば た を 這う て 行く の が 見える ます た 。 そこで ※ 陀多 は 早速 足 を 挙げる て 、 踏む 殺す う と 致す ます た が 、 「 いや 、 いや 、 これ も 小さい ながら 、 命 の ある もの に 違い ない 。 その 命 を 無 暗に とる と 云う 事 は 、 いくら 何 でも 可哀そう だ 。 」 と 、 こう 急 に 思い返す て 、 とうとう その 蜘蛛 を 殺す ぬ に 助ける て やる た から だ ござる ます 。 御 釈迦 様 は 地獄 の 容子 を 御覧 に なる ながら 、 この ※ 陀多 に は 蜘蛛 を 助ける た 事 が ある の を 御 思い出す に なる ます た 。 そうして それだけ の 善い 事 を する た 報 に は 、 出来る だ 、 この 男 を 地獄 から 救い出す て やる う と 御 考え に なる ます た 。 幸い 、 側 を 見る ます と 、 翡翠 の よう だ 色 を する た 蓮 の 葉 の 上 に 、 極楽 の 蜘蛛 が 一 匹 、 美しい 銀色 の 糸 を かける て 居る ます 。 御 釈迦 様 は その 蜘蛛 の 糸 を そっと 御 手 に 御 取り に なる て 、 玉 の よう だ 白蓮 の 間 から 、 遥か 下 に ある 地獄 の 底 へ 、 まっすぐ に それ を 御 下す なさる ます た 。 こちら は 地獄 の 底 の 血の池 で 、 ほか の 罪人 と 一 しょ に 、 浮く たり 沈む だり する て いる た ※ 陀多 だ ござる ます 。 何しろ どちら を 見る て も 、 まっ暗 で 、 たまに その くら 暗い ぼんやり 浮く 上る て いる もの が ある と 思う ます と 、 それ は 恐い いる 針 の 山 の 針 が 光る の だ ござる ます から 、 その 心細い さ と 云う た ござる ます ん 。 その 上 あたり は 墓 の 中 の よう に しん と 静まり返る て 、 たま に 聞える もの と 云う て は 、 ただ 罪人 が つく 微 だ 嘆息 ばかり だ ござる ます 。 これ は ここ へ 落ちる て 来る ほど の 人間 は 、 もう さまざま だ 地獄 の 責苦 に 疲れはてる て 、 泣声 を 出す 力 さえ なくなる て いる の だ ござる ます う 。 です から さすが 大 泥坊 の ※ 陀多 も 、 やはり 血の池 の 血 に 咽ぶ ながら 、 まるで 死ぬ かかる た 蛙 の よう に 、 ただ もがく て ばかり 居る ます た 。 ところ が ある 時 の 事 だ ござる ます 。 何気ない ※ 陀多 が 頭 を 挙げる て 、 血の池 の 空 を 眺める ます と 、 その ひっそり と する た 暗い の 中 を 、 遠い 遠い 天上 から 、 銀色 の 蜘蛛 の 糸 が 、 まるで 人目 に かかる の を 恐れる よう に 、 一すじ 細い 光る ながら 、 するする と 自分 の 上 へ 垂れる て 参る の だ は ござる ます ん か 。 ※ 陀多 は これ を 見る と 、 思わず 手 を 拍 って 喜ぶ ます た 。 この 糸 に 縋る つく て 、 どこ まで も のぼる て 行く ば 、 きっと 地獄 から ぬける 出せる の に 相違 ござる ます ん 。 いや 、 うまい 行く と 、 極楽 へ はいる 事 さえ も 出来る ます う 。 そう する ば 、 もう 針 の 山 へ 追い上げる られる 事 も なくなる ば 、 血の池 に 沈める られる 事 も ある 筈 は ござる ます ん 。 こう 思う ます た から ※ 陀多 は 、 早速 その 蜘蛛 の 糸 を 両手 で しっかり と つかむ ながら 、 一生懸命 に 上 へ 上 へ と たぐる のぼる 始める ます た 。 元 より 大 泥坊 の 事 だ ござる ます から 、 こう 云う 事 に は 昔 から 、 慣れる 切る て いる の だ ござる ます 。 しかし 地獄 と 極楽 と の 間 は 、 何 万里 と ない ござる ます から 、 いくら 焦る て 見る た 所 で 、 容易 に 上 へ は 出る られる ます ん 。 やや しばらく のぼる 中 に 、 とうとう ※ 陀多 も くたびれる て 、 もう 一 たぐる も 上 の 方 へ は のぼれる ない なる て しまう ます た 。 そこで 仕方 が ござる ます ん から 、 まず 一休み 休む つもり だ 、 糸 の 中途 に ぶる 下りる ながら 、 遥か に 目の下 を 見下す ます た 。 する と 、 一生懸命 に のぼる た 甲斐 が ある て 、 さっき まで 自分 が いる た 血の池 は 、 今 で は もう 暗い の 底 に いつの間にか かくれる て 居る ます 。 それから あの ぼんやり 光る て いる 恐い いる 針 の 山 も 、 足 の 下 に なる て しまう ます た 。 この 分 で のぼる て 行く ば 、 地獄 から ぬける 出す の も 、 存外 わけ が ない かも 知れる ます ん 。 ※ 陀多 は 両手 を 蜘蛛 の 糸 に からむ ながら 、 ここ へ 来る て から 何 年 に も 出す た 事 の ない 声 で 、 「 しめる た 。 しめる た 。 」 と 笑う ます た 。 ところが ふと 気 が つく ます と 、 蜘蛛 の 糸 の 下 の 方 に は 、 数 限 も ない 罪人 たち が 、 自分 の のぼる た 後 を つける て 、 まるで 蟻 の 行列 の よう に 、 やはり 上 へ 上 へ 一心 に よじのぼる て 来る だ は ござる ます ん か 。 ※ 陀多 は これ を 見る と 、 驚く た の と 恐る する いる の と で 、 しばらく は ただ 、 莫迦 の よう に 大きな 口 を 開く た まま 、 眼 ばかり 動かす て 居る ます た 。 自分 一 人 だ さえ 断れる そう だ 、 この 細い 蜘蛛 の 糸 が 、 どうして あれ だけ の 人数 の 重み に 堪える 事 が 出来る ます う 。 もし 万一 途中 で 断れる た と 致す ます た 、 折角 ここ へ まで のぼる て 来る た この 肝腎 だ 自分 まで も 、 元 の 地獄 へ 逆落し に 落ちる て しまう ない ば なる ます ん 。 そんな 事 が ある た 、 大変 だ ござる ます 。 が 、 そう 云う 中 に も 、 罪人 たち は 何 百 と ない 何 千 と ない 、 まっ暗 だ 血の池 の 底 から 、 うようよ と 這う 上る て 、 細い 光る て いる 蜘蛛 の 糸 を 、 一 列 に なる ながら 、 せっせと のぼる て 参る ます 。 今 の 中 に どうか する ない ば 、 糸 は まん中 から 二つ に 断れる て 、 落ちる て しまう の に 違い ある ます ん 。 そこで ※ 陀多 は 大きな 声 を 出す て 、 「 こら 、 罪人 ども 。 この 蜘蛛 の 糸 は 己 の もの だ ぞ 。 お前 たち は 一体 誰 に 尋 いる て 、 のぼる て 来る た 。 下りる 。 下りる 。 」 と 喚く ます た 。 その 途端 だ ござる ます 。 今 まで 何 と も ない た 蜘蛛 の 糸 が 、 急 に ※ 陀多 の ぶる 下る て いる 所 から 、 ぷつりと 音 を 立てる て 断れる ます た 。 です から ※ 陀多 も たまる ます ん 。 あっと 云う 間もなく 風 を 切る て 、 独楽 の よう に くるくる まわる ながら 、 見る 見る 中 に 暗い の 底 へ 、 まっ さ か さま に 落ちる て しまう ます た 。 後 に は ただ 極楽 の 蜘蛛 の 糸 が 、 きらきら と 細い 光る ながら 、 月 も 星 も ない 空 の 中途 に 、 短い 垂れる て いる ばかり だ ござる ます 。 御 釈迦 様 は 極楽 の 蓮池 の ふち に 立つ て 、 この 一部始終 を じっと 見る て いらっしゃる ます た が 、 やがて ※ 陀多 が 血の池 の 底 へ 石 の よう に 沈む で しまう ます と 、 悲しい そう だ 御 顔 を なす り ながら 、 また ぶらぶら 御 歩き に なる 始める ます た 。 自分 ばかり 地獄 から ぬける 出す う と する 、 ※ 陀多 の 無慈悲 だ 心 が 、 そうして その 心 相当 だ 罰 を うける て 、 元 の 地獄 へ 落ちる て しまう た の が 、 御 釈迦 様 の 御 目 から 見る と 、 浅間 しく 思召 する れる た の だ ござる ます う 。 しかし 極楽 の 蓮池 の 蓮 は 、 少し も そんな 事 に は 頓着 致す ます ん 。 その 玉 の よう だ 白い 花 は 、 御 釈迦 様 の 御 足 の まわり に 、 ゆらゆら 萼 を 動かす て 、 その まん中 に ある 金色 の 蕊 から は 、 何とも 云う ない 好い 匂 が 、 絶間 ない あたり へ 溢れる て 居る ます 。 極楽 も もう 午 に 近く なる た の だ ござる ます う 。\n",
            "\n"
          ],
          "name": "stdout"
        }
      ]
    },
    {
      "cell_type": "code",
      "metadata": {
        "id": "mPKgtHuiHy8z",
        "colab_type": "code",
        "colab": {}
      },
      "source": [
        "n = 0\n",
        "count = 0\n",
        "tangosu = 0\n",
        "words = []"
      ],
      "execution_count": 0,
      "outputs": []
    },
    {
      "cell_type": "code",
      "metadata": {
        "id": "UCtDptL-HGcP",
        "colab_type": "code",
        "outputId": "c91bd1a3-f511-463c-e4fc-3da8254e74dc",
        "colab": {
          "base_uri": "https://localhost:8080/",
          "height": 55
        }
      },
      "source": [
        "word = line.split(' ')\n",
        "print(word)"
      ],
      "execution_count": 48,
      "outputs": [
        {
          "output_type": "stream",
          "text": [
            "['', 'ある', '日', 'の', '事', 'だ', 'ござる', 'ます', '。', '御', '釈迦', '様', 'は', '極楽', 'の', '蓮池', 'の', 'ふち', 'を', '、', '独り', 'で', 'ぶらぶら', '御', '歩き', 'に', 'なる', 'て', 'いらっしゃる', 'ます', 'た', '。', '池', 'の', '中', 'に', '咲く', 'て', 'いる', '蓮', 'の', '花', 'は', '、', 'みんな', '玉', 'の', 'よう', 'に', 'まっ白', 'で', '、', 'その', 'まん中', 'に', 'ある', '金色', 'の', '蕊', 'から', 'は', '、', '何とも', '云う', 'ない', '好い', '匂', 'が', '、', '絶間', 'ない', 'あたり', 'へ', '溢れる', 'て', '居る', 'ます', '。', '極楽', 'は', '丁度', '朝', 'だ', 'の', 'だ', 'ござる', 'ます', 'う', '。', 'やがて', '御', '釈迦', '様', 'は', 'その', '池', 'の', 'ふち', 'に', '御', '佇む', 'に', 'なる', 'て', '、', '水', 'の', '面', 'を', '蔽う', 'て', 'いる', '蓮', 'の', '葉', 'の', '間', 'から', '、', 'ふと', '下', 'の', '容子', 'を', '御覧', 'に', 'なる', 'ます', 'た', '。', 'この', '極楽', 'の', '蓮池', 'の', '下', 'は', '、', '丁度', '地獄', 'の', '底', 'に', '当る', 'て', '居る', 'ます', 'から', '、', '水晶', 'の', 'よう', 'だ', '水', 'を', '透く', '徹す', 'て', '、', '三', '途', 'の', '河', 'や', '針', 'の', '山', 'の', '景色', 'が', '、', '丁度', '覗き', '眼鏡', 'を', '見る', 'よう', 'に', '、', 'はっきり', 'と', '見える', 'の', 'だ', 'ござる', 'ます', '。', 'すると', 'その', '地獄', 'の', '底', 'に', '、', '※', '陀多', 'と', '云う', '男', 'が', '一', '人', '、', 'ほか', 'の', '罪人', 'と', '一', 'しょ', 'に', '蠢く', 'て', 'いる', '姿', 'が', '、', '御', '眼', 'に', '止まる', 'ます', 'た', '。', 'この', '※', '陀多', 'と', '云う', '男', 'は', '、', '人', 'を', '殺す', 'たり', '家', 'に', '火', 'を', 'つける', 'たり', '、', 'いろいろ', '悪事', 'を', '働く', 'た', '大', '泥坊', 'だ', 'ござる', 'ます', 'が', '、', 'それでも', 'たった', '一つ', '、', '善い', '事', 'を', '致す', 'た', '覚え', 'が', 'ござる', 'ます', '。', 'と', '申す', 'ます', 'の', 'は', '、', 'ある', '時', 'この', '男', 'が', '深い', '林', 'の', '中', 'を', '通る', 'ます', 'と', '、', '小さな', '蜘蛛', 'が', '一', '匹', '、', '路', 'ば', 'た', 'を', '這う', 'て', '行く', 'の', 'が', '見える', 'ます', 'た', '。', 'そこで', '※', '陀多', 'は', '早速', '足', 'を', '挙げる', 'て', '、', '踏む', '殺す', 'う', 'と', '致す', 'ます', 'た', 'が', '、', '「', 'いや', '、', 'いや', '、', 'これ', 'も', '小さい', 'ながら', '、', '命', 'の', 'ある', 'もの', 'に', '違い', 'ない', '。', 'その', '命', 'を', '無', '暗に', 'とる', 'と', '云う', '事', 'は', '、', 'いくら', '何', 'でも', '可哀そう', 'だ', '。', '」', 'と', '、', 'こう', '急', 'に', '思い返す', 'て', '、', 'とうとう', 'その', '蜘蛛', 'を', '殺す', 'ぬ', 'に', '助ける', 'て', 'やる', 'た', 'から', 'だ', 'ござる', 'ます', '。', '御', '釈迦', '様', 'は', '地獄', 'の', '容子', 'を', '御覧', 'に', 'なる', 'ながら', '、', 'この', '※', '陀多', 'に', 'は', '蜘蛛', 'を', '助ける', 'た', '事', 'が', 'ある', 'の', 'を', '御', '思い出す', 'に', 'なる', 'ます', 'た', '。', 'そうして', 'それだけ', 'の', '善い', '事', 'を', 'する', 'た', '報', 'に', 'は', '、', '出来る', 'だ', '、', 'この', '男', 'を', '地獄', 'から', '救い出す', 'て', 'やる', 'う', 'と', '御', '考え', 'に', 'なる', 'ます', 'た', '。', '幸い', '、', '側', 'を', '見る', 'ます', 'と', '、', '翡翠', 'の', 'よう', 'だ', '色', 'を', 'する', 'た', '蓮', 'の', '葉', 'の', '上', 'に', '、', '極楽', 'の', '蜘蛛', 'が', '一', '匹', '、', '美しい', '銀色', 'の', '糸', 'を', 'かける', 'て', '居る', 'ます', '。', '御', '釈迦', '様', 'は', 'その', '蜘蛛', 'の', '糸', 'を', 'そっと', '御', '手', 'に', '御', '取り', 'に', 'なる', 'て', '、', '玉', 'の', 'よう', 'だ', '白蓮', 'の', '間', 'から', '、', '遥か', '下', 'に', 'ある', '地獄', 'の', '底', 'へ', '、', 'まっすぐ', 'に', 'それ', 'を', '御', '下す', 'なさる', 'ます', 'た', '。', 'こちら', 'は', '地獄', 'の', '底', 'の', '血の池', 'で', '、', 'ほか', 'の', '罪人', 'と', '一', 'しょ', 'に', '、', '浮く', 'たり', '沈む', 'だり', 'する', 'て', 'いる', 'た', '※', '陀多', 'だ', 'ござる', 'ます', '。', '何しろ', 'どちら', 'を', '見る', 'て', 'も', '、', 'まっ暗', 'で', '、', 'たまに', 'その', 'くら', '暗い', 'ぼんやり', '浮く', '上る', 'て', 'いる', 'もの', 'が', 'ある', 'と', '思う', 'ます', 'と', '、', 'それ', 'は', '恐い', 'いる', '針', 'の', '山', 'の', '針', 'が', '光る', 'の', 'だ', 'ござる', 'ます', 'から', '、', 'その', '心細い', 'さ', 'と', '云う', 'た', 'ござる', 'ます', 'ん', '。', 'その', '上', 'あたり', 'は', '墓', 'の', '中', 'の', 'よう', 'に', 'しん', 'と', '静まり返る', 'て', '、', 'たま', 'に', '聞える', 'もの', 'と', '云う', 'て', 'は', '、', 'ただ', '罪人', 'が', 'つく', '微', 'だ', '嘆息', 'ばかり', 'だ', 'ござる', 'ます', '。', 'これ', 'は', 'ここ', 'へ', '落ちる', 'て', '来る', 'ほど', 'の', '人間', 'は', '、', 'もう', 'さまざま', 'だ', '地獄', 'の', '責苦', 'に', '疲れはてる', 'て', '、', '泣声', 'を', '出す', '力', 'さえ', 'なくなる', 'て', 'いる', 'の', 'だ', 'ござる', 'ます', 'う', '。', 'です', 'から', 'さすが', '大', '泥坊', 'の', '※', '陀多', 'も', '、', 'やはり', '血の池', 'の', '血', 'に', '咽ぶ', 'ながら', '、', 'まるで', '死ぬ', 'かかる', 'た', '蛙', 'の', 'よう', 'に', '、', 'ただ', 'もがく', 'て', 'ばかり', '居る', 'ます', 'た', '。', 'ところ', 'が', 'ある', '時', 'の', '事', 'だ', 'ござる', 'ます', '。', '何気ない', '※', '陀多', 'が', '頭', 'を', '挙げる', 'て', '、', '血の池', 'の', '空', 'を', '眺める', 'ます', 'と', '、', 'その', 'ひっそり', 'と', 'する', 'た', '暗い', 'の', '中', 'を', '、', '遠い', '遠い', '天上', 'から', '、', '銀色', 'の', '蜘蛛', 'の', '糸', 'が', '、', 'まるで', '人目', 'に', 'かかる', 'の', 'を', '恐れる', 'よう', 'に', '、', '一すじ', '細い', '光る', 'ながら', '、', 'するする', 'と', '自分', 'の', '上', 'へ', '垂れる', 'て', '参る', 'の', 'だ', 'は', 'ござる', 'ます', 'ん', 'か', '。', '※', '陀多', 'は', 'これ', 'を', '見る', 'と', '、', '思わず', '手', 'を', '拍', 'って', '喜ぶ', 'ます', 'た', '。', 'この', '糸', 'に', '縋る', 'つく', 'て', '、', 'どこ', 'まで', 'も', 'のぼる', 'て', '行く', 'ば', '、', 'きっと', '地獄', 'から', 'ぬける', '出せる', 'の', 'に', '相違', 'ござる', 'ます', 'ん', '。', 'いや', '、', 'うまい', '行く', 'と', '、', '極楽', 'へ', 'はいる', '事', 'さえ', 'も', '出来る', 'ます', 'う', '。', 'そう', 'する', 'ば', '、', 'もう', '針', 'の', '山', 'へ', '追い上げる', 'られる', '事', 'も', 'なくなる', 'ば', '、', '血の池', 'に', '沈める', 'られる', '事', 'も', 'ある', '筈', 'は', 'ござる', 'ます', 'ん', '。', 'こう', '思う', 'ます', 'た', 'から', '※', '陀多', 'は', '、', '早速', 'その', '蜘蛛', 'の', '糸', 'を', '両手', 'で', 'しっかり', 'と', 'つかむ', 'ながら', '、', '一生懸命', 'に', '上', 'へ', '上', 'へ', 'と', 'たぐる', 'のぼる', '始める', 'ます', 'た', '。', '元', 'より', '大', '泥坊', 'の', '事', 'だ', 'ござる', 'ます', 'から', '、', 'こう', '云う', '事', 'に', 'は', '昔', 'から', '、', '慣れる', '切る', 'て', 'いる', 'の', 'だ', 'ござる', 'ます', '。', 'しかし', '地獄', 'と', '極楽', 'と', 'の', '間', 'は', '、', '何', '万里', 'と', 'ない', 'ござる', 'ます', 'から', '、', 'いくら', '焦る', 'て', '見る', 'た', '所', 'で', '、', '容易', 'に', '上', 'へ', 'は', '出る', 'られる', 'ます', 'ん', '。', 'やや', 'しばらく', 'のぼる', '中', 'に', '、', 'とうとう', '※', '陀多', 'も', 'くたびれる', 'て', '、', 'もう', '一', 'たぐる', 'も', '上', 'の', '方', 'へ', 'は', 'のぼれる', 'ない', 'なる', 'て', 'しまう', 'ます', 'た', '。', 'そこで', '仕方', 'が', 'ござる', 'ます', 'ん', 'から', '、', 'まず', '一休み', '休む', 'つもり', 'だ', '、', '糸', 'の', '中途', 'に', 'ぶる', '下りる', 'ながら', '、', '遥か', 'に', '目の下', 'を', '見下す', 'ます', 'た', '。', 'する', 'と', '、', '一生懸命', 'に', 'のぼる', 'た', '甲斐', 'が', 'ある', 'て', '、', 'さっき', 'まで', '自分', 'が', 'いる', 'た', '血の池', 'は', '、', '今', 'で', 'は', 'もう', '暗い', 'の', '底', 'に', 'いつの間にか', 'かくれる', 'て', '居る', 'ます', '。', 'それから', 'あの', 'ぼんやり', '光る', 'て', 'いる', '恐い', 'いる', '針', 'の', '山', 'も', '、', '足', 'の', '下', 'に', 'なる', 'て', 'しまう', 'ます', 'た', '。', 'この', '分', 'で', 'のぼる', 'て', '行く', 'ば', '、', '地獄', 'から', 'ぬける', '出す', 'の', 'も', '、', '存外', 'わけ', 'が', 'ない', 'かも', '知れる', 'ます', 'ん', '。', '※', '陀多', 'は', '両手', 'を', '蜘蛛', 'の', '糸', 'に', 'からむ', 'ながら', '、', 'ここ', 'へ', '来る', 'て', 'から', '何', '年', 'に', 'も', '出す', 'た', '事', 'の', 'ない', '声', 'で', '、', '「', 'しめる', 'た', '。', 'しめる', 'た', '。', '」', 'と', '笑う', 'ます', 'た', '。', 'ところが', 'ふと', '気', 'が', 'つく', 'ます', 'と', '、', '蜘蛛', 'の', '糸', 'の', '下', 'の', '方', 'に', 'は', '、', '数', '限', 'も', 'ない', '罪人', 'たち', 'が', '、', '自分', 'の', 'のぼる', 'た', '後', 'を', 'つける', 'て', '、', 'まるで', '蟻', 'の', '行列', 'の', 'よう', 'に', '、', 'やはり', '上', 'へ', '上', 'へ', '一心', 'に', 'よじのぼる', 'て', '来る', 'だ', 'は', 'ござる', 'ます', 'ん', 'か', '。', '※', '陀多', 'は', 'これ', 'を', '見る', 'と', '、', '驚く', 'た', 'の', 'と', '恐る', 'する', 'いる', 'の', 'と', 'で', '、', 'しばらく', 'は', 'ただ', '、', '莫迦', 'の', 'よう', 'に', '大きな', '口', 'を', '開く', 'た', 'まま', '、', '眼', 'ばかり', '動かす', 'て', '居る', 'ます', 'た', '。', '自分', '一', '人', 'だ', 'さえ', '断れる', 'そう', 'だ', '、', 'この', '細い', '蜘蛛', 'の', '糸', 'が', '、', 'どうして', 'あれ', 'だけ', 'の', '人数', 'の', '重み', 'に', '堪える', '事', 'が', '出来る', 'ます', 'う', '。', 'もし', '万一', '途中', 'で', '断れる', 'た', 'と', '致す', 'ます', 'た', '、', '折角', 'ここ', 'へ', 'まで', 'のぼる', 'て', '来る', 'た', 'この', '肝腎', 'だ', '自分', 'まで', 'も', '、', '元', 'の', '地獄', 'へ', '逆落し', 'に', '落ちる', 'て', 'しまう', 'ない', 'ば', 'なる', 'ます', 'ん', '。', 'そんな', '事', 'が', 'ある', 'た', '、', '大変', 'だ', 'ござる', 'ます', '。', 'が', '、', 'そう', '云う', '中', 'に', 'も', '、', '罪人', 'たち', 'は', '何', '百', 'と', 'ない', '何', '千', 'と', 'ない', '、', 'まっ暗', 'だ', '血の池', 'の', '底', 'から', '、', 'うようよ', 'と', '這う', '上る', 'て', '、', '細い', '光る', 'て', 'いる', '蜘蛛', 'の', '糸', 'を', '、', '一', '列', 'に', 'なる', 'ながら', '、', 'せっせと', 'のぼる', 'て', '参る', 'ます', '。', '今', 'の', '中', 'に', 'どうか', 'する', 'ない', 'ば', '、', '糸', 'は', 'まん中', 'から', '二つ', 'に', '断れる', 'て', '、', '落ちる', 'て', 'しまう', 'の', 'に', '違い', 'ある', 'ます', 'ん', '。', 'そこで', '※', '陀多', 'は', '大きな', '声', 'を', '出す', 'て', '、', '「', 'こら', '、', '罪人', 'ども', '。', 'この', '蜘蛛', 'の', '糸', 'は', '己', 'の', 'もの', 'だ', 'ぞ', '。', 'お前', 'たち', 'は', '一体', '誰', 'に', '尋', 'いる', 'て', '、', 'のぼる', 'て', '来る', 'た', '。', '下りる', '。', '下りる', '。', '」', 'と', '喚く', 'ます', 'た', '。', 'その', '途端', 'だ', 'ござる', 'ます', '。', '今', 'まで', '何', 'と', 'も', 'ない', 'た', '蜘蛛', 'の', '糸', 'が', '、', '急', 'に', '※', '陀多', 'の', 'ぶる', '下る', 'て', 'いる', '所', 'から', '、', 'ぷつりと', '音', 'を', '立てる', 'て', '断れる', 'ます', 'た', '。', 'です', 'から', '※', '陀多', 'も', 'たまる', 'ます', 'ん', '。', 'あっと', '云う', '間もなく', '風', 'を', '切る', 'て', '、', '独楽', 'の', 'よう', 'に', 'くるくる', 'まわる', 'ながら', '、', '見る', '見る', '中', 'に', '暗い', 'の', '底', 'へ', '、', 'まっ', 'さ', 'か', 'さま', 'に', '落ちる', 'て', 'しまう', 'ます', 'た', '。', '後', 'に', 'は', 'ただ', '極楽', 'の', '蜘蛛', 'の', '糸', 'が', '、', 'きらきら', 'と', '細い', '光る', 'ながら', '、', '月', 'も', '星', 'も', 'ない', '空', 'の', '中途', 'に', '、', '短い', '垂れる', 'て', 'いる', 'ばかり', 'だ', 'ござる', 'ます', '。', '御', '釈迦', '様', 'は', '極楽', 'の', '蓮池', 'の', 'ふち', 'に', '立つ', 'て', '、', 'この', '一部始終', 'を', 'じっと', '見る', 'て', 'いらっしゃる', 'ます', 'た', 'が', '、', 'やがて', '※', '陀多', 'が', '血の池', 'の', '底', 'へ', '石', 'の', 'よう', 'に', '沈む', 'で', 'しまう', 'ます', 'と', '、', '悲しい', 'そう', 'だ', '御', '顔', 'を', 'なす', 'り', 'ながら', '、', 'また', 'ぶらぶら', '御', '歩き', 'に', 'なる', '始める', 'ます', 'た', '。', '自分', 'ばかり', '地獄', 'から', 'ぬける', '出す', 'う', 'と', 'する', '、', '※', '陀多', 'の', '無慈悲', 'だ', '心', 'が', '、', 'そうして', 'その', '心', '相当', 'だ', '罰', 'を', 'うける', 'て', '、', '元', 'の', '地獄', 'へ', '落ちる', 'て', 'しまう', 'た', 'の', 'が', '、', '御', '釈迦', '様', 'の', '御', '目', 'から', '見る', 'と', '、', '浅間', 'しく', '思召', 'する', 'れる', 'た', 'の', 'だ', 'ござる', 'ます', 'う', '。', 'しかし', '極楽', 'の', '蓮池', 'の', '蓮', 'は', '、', '少し', 'も', 'そんな', '事', 'に', 'は', '頓着', '致す', 'ます', 'ん', '。', 'その', '玉', 'の', 'よう', 'だ', '白い', '花', 'は', '、', '御', '釈迦', '様', 'の', '御', '足', 'の', 'まわり', 'に', '、', 'ゆらゆら', '萼', 'を', '動かす', 'て', '、', 'その', 'まん中', 'に', 'ある', '金色', 'の', '蕊', 'から', 'は', '、', '何とも', '云う', 'ない', '好い', '匂', 'が', '、', '絶間', 'ない', 'あたり', 'へ', '溢れる', 'て', '居る', 'ます', '。', '極楽', 'も', 'もう', '午', 'に', '近く', 'なる', 'た', 'の', 'だ', 'ござる', 'ます', 'う', '。\\n']\n"
          ],
          "name": "stdout"
        }
      ]
    },
    {
      "cell_type": "code",
      "metadata": {
        "id": "pskxdoIgS_Kl",
        "colab_type": "code",
        "outputId": "b4ef3ae5-fad2-4291-8336-9973d4943291",
        "colab": {
          "base_uri": "https://localhost:8080/",
          "height": 1000
        }
      },
      "source": [
        "nox = []\n",
        "county = []\n",
        "\n",
        "for word in line:\n",
        "  if word == '※':\n",
        "    continue\n",
        "  elif word != '。':\n",
        "    tangosu += 1\n",
        "  elif word == '。':\n",
        "    n += 1\n",
        "    count = tangosu\n",
        "    tangosu = 0\n",
        "    county.append(count)\n",
        "    nox.append(n)    \n",
        "    \n",
        "#    print(tango_count)  \n",
        "    print(n)\n",
        "    print(count)\n",
        "    count = 0\n",
        "\n",
        "#　  nox.append(bun_no)\n",
        "\n",
        "    \n"
      ],
      "execution_count": 66,
      "outputs": [
        {
          "output_type": "stream",
          "text": [
            "1\n",
            "20\n",
            "2\n",
            "61\n",
            "3\n",
            "117\n",
            "4\n",
            "26\n",
            "5\n",
            "96\n",
            "6\n",
            "140\n",
            "7\n",
            "84\n",
            "8\n",
            "117\n",
            "9\n",
            "92\n",
            "10\n",
            "93\n",
            "11\n",
            "43\n",
            "12\n",
            "66\n",
            "13\n",
            "84\n",
            "14\n",
            "83\n",
            "15\n",
            "94\n",
            "16\n",
            "114\n",
            "17\n",
            "78\n",
            "18\n",
            "144\n",
            "19\n",
            "94\n",
            "20\n",
            "98\n",
            "21\n",
            "94\n",
            "22\n",
            "25\n",
            "23\n",
            "187\n",
            "24\n",
            "40\n",
            "25\n",
            "73\n",
            "26\n",
            "42\n",
            "27\n",
            "79\n",
            "28\n",
            "94\n",
            "29\n",
            "71\n",
            "30\n",
            "88\n",
            "31\n",
            "83\n",
            "32\n",
            "84\n",
            "33\n",
            "96\n",
            "34\n",
            "60\n",
            "35\n",
            "63\n",
            "36\n",
            "78\n",
            "37\n",
            "7\n",
            "38\n",
            "13\n",
            "39\n",
            "149\n",
            "40\n",
            "105\n",
            "41\n",
            "81\n",
            "42\n",
            "108\n",
            "43\n",
            "28\n",
            "44\n",
            "137\n",
            "45\n",
            "72\n",
            "46\n",
            "39\n",
            "47\n",
            "24\n",
            "48\n",
            "36\n",
            "49\n",
            "5\n",
            "50\n",
            "5\n",
            "51\n",
            "13\n",
            "52\n",
            "16\n",
            "53\n",
            "80\n",
            "54\n",
            "22\n",
            "55\n",
            "97\n",
            "56\n",
            "92\n",
            "57\n",
            "165\n",
            "58\n",
            "155\n",
            "59\n",
            "47\n",
            "60\n",
            "131\n",
            "61\n",
            "34\n"
          ],
          "name": "stdout"
        }
      ]
    },
    {
      "cell_type": "code",
      "metadata": {
        "id": "cFgbR-O1Vza4",
        "colab_type": "code",
        "outputId": "f7515b70-29d8-4748-a981-798ef0e4a6dd",
        "colab": {
          "base_uri": "https://localhost:8080/",
          "height": 35
        }
      },
      "source": [
        "!pip install japanize_matplotlib"
      ],
      "execution_count": 67,
      "outputs": [
        {
          "output_type": "stream",
          "text": [
            "Requirement already satisfied: japanize_matplotlib in /usr/local/lib/python3.6/dist-packages (1.0.4)\n"
          ],
          "name": "stdout"
        }
      ]
    },
    {
      "cell_type": "code",
      "metadata": {
        "id": "7bX1psFBWH0Z",
        "colab_type": "code",
        "colab": {}
      },
      "source": [
        "import matplotlib.pyplot as plt\n",
        "import  japanize_matplotlib   "
      ],
      "execution_count": 0,
      "outputs": []
    },
    {
      "cell_type": "code",
      "metadata": {
        "id": "JBDmaPhuWOCH",
        "colab_type": "code",
        "outputId": "a7b9ab8b-a1af-4ff6-cbf4-68fc52ecb56a",
        "colab": {
          "base_uri": "https://localhost:8080/",
          "height": 268
        }
      },
      "source": [
        "plt.bar(nox, county)\n",
        "plt.show()"
      ],
      "execution_count": 69,
      "outputs": [
        {
          "output_type": "display_data",
          "data": {
            "image/png": "[encoded data removed]",
            "text/plain": [
              "<Figure size 432x288 with 1 Axes>"
            ]
          },
          "metadata": {
            "tags": []
          }
        }
      ]
    },
    {
      "cell_type": "code",
      "metadata": {
        "id": "KR0NXJltiJa6",
        "colab_type": "code",
        "colab": {
          "base_uri": "https://localhost:8080/",
          "height": 286
        },
        "outputId": "b32f780e-0496-4742-dd32-1d888c2511b9"
      },
      "source": [
        "import numpy as np\n",
        "import matplotlib.pyplot as plt\n",
        " \n",
        "# 折れ線グラフを出力\n",
        "left = np.array(nox)\n",
        "height = np.array(county)\n",
        "plt.plot(left, height)"
      ],
      "execution_count": 70,
      "outputs": [
        {
          "output_type": "execute_result",
          "data": {
            "text/plain": [
              "[<matplotlib.lines.Line2D at 0x7fb44fe7efd0>]"
            ]
          },
          "metadata": {
            "tags": []
          },
          "execution_count": 70
        },
        {
          "output_type": "display_data",
          "data": {
            "image/png": "[encoded data removed]",
            "text/plain": [
              "<Figure size 432x288 with 1 Axes>"
            ]
          },
          "metadata": {
            "tags": []
          }
        }
      ]
    },
    {
      "cell_type": "code",
      "metadata": {
        "id": "YK5BX7Hadlzm",
        "colab_type": "code",
        "outputId": "a317cdaa-a5c2-4e96-f2ba-9294bbf74fb7",
        "colab": {
          "base_uri": "https://localhost:8080/",
          "height": 35
        }
      },
      "source": [
        "print(fo)"
      ],
      "execution_count": 0,
      "outputs": [
        {
          "output_type": "stream",
          "text": [
            "<_io.TextIOWrapper name='aozora.wakati.txt' mode='w' encoding='UTF-8'>\n"
          ],
          "name": "stdout"
        }
      ]
    },
    {
      "cell_type": "code",
      "metadata": {
        "id": "5WmRvVa0Y6TM",
        "colab_type": "code",
        "outputId": "83d78722-fe18-4fcc-f04e-58f2ea3becc8",
        "colab": {
          "base_uri": "https://localhost:8080/",
          "height": 161
        }
      },
      "source": [
        "tagger = MeCab.Tagger()\n",
        "sample = '私の名前は近藤です'\n",
        "print(tagger.parse(sample))"
      ],
      "execution_count": 0,
      "outputs": [
        {
          "output_type": "stream",
          "text": [
            "私\t名詞,代名詞,一般,*,*,*,私,ワタシ,ワタシ\n",
            "の\t助詞,連体化,*,*,*,*,の,ノ,ノ\n",
            "名前\t名詞,一般,*,*,*,*,名前,ナマエ,ナマエ\n",
            "は\t助詞,係助詞,*,*,*,*,は,ハ,ワ\n",
            "近藤\t名詞,固有名詞,人名,姓,*,*,近藤,コンドウ,コンドー\n",
            "です\t助動詞,*,*,*,特殊・デス,基本形,です,デス,デス\n",
            "EOS\n",
            "\n"
          ],
          "name": "stdout"
        }
      ]
    },
    {
      "cell_type": "code",
      "metadata": {
        "id": "Zv_ZMpiUZ3iu",
        "colab_type": "code",
        "outputId": "8a220792-5a10-42eb-cc8c-cc119fd20f89",
        "colab": {
          "resources": {
            "http://localhost:8080/nbextensions/google.colab/files.js": {
              "data": "Ly8gQ29weXJpZ2h0IDIwMTcgR29vZ2xlIExMQwovLwovLyBMaWNlbnNlZCB1bmRlciB0aGUgQXBhY2hlIExpY2Vuc2UsIFZlcnNpb24gMi4wICh0aGUgIkxpY2Vuc2UiKTsKLy8geW91IG1heSBub3QgdXNlIHRoaXMgZmlsZSBleGNlcHQgaW4gY29tcGxpYW5jZSB3aXRoIHRoZSBMaWNlbnNlLgovLyBZb3UgbWF5IG9idGFpbiBhIGNvcHkgb2YgdGhlIExpY2Vuc2UgYXQKLy8KLy8gICAgICBodHRwOi8vd3d3LmFwYWNoZS5vcmcvbGljZW5zZXMvTElDRU5TRS0yLjAKLy8KLy8gVW5sZXNzIHJlcXVpcmVkIGJ5IGFwcGxpY2FibGUgbGF3IG9yIGFncmVlZCB0byBpbiB3cml0aW5nLCBzb2Z0d2FyZQovLyBkaXN0cmlidXRlZCB1bmRlciB0aGUgTGljZW5zZSBpcyBkaXN0cmlidXRlZCBvbiBhbiAiQVMgSVMiIEJBU0lTLAovLyBXSVRIT1VUIFdBUlJBTlRJRVMgT1IgQ09ORElUSU9OUyBPRiBBTlkgS0lORCwgZWl0aGVyIGV4cHJlc3Mgb3IgaW1wbGllZC4KLy8gU2VlIHRoZSBMaWNlbnNlIGZvciB0aGUgc3BlY2lmaWMgbGFuZ3VhZ2UgZ292ZXJuaW5nIHBlcm1pc3Npb25zIGFuZAovLyBsaW1pdGF0aW9ucyB1bmRlciB0aGUgTGljZW5zZS4KCi8qKgogKiBAZmlsZW92ZXJ2aWV3IEhlbHBlcnMgZm9yIGdvb2dsZS5jb2xhYiBQeXRob24gbW9kdWxlLgogKi8KKGZ1bmN0aW9uKHNjb3BlKSB7CmZ1bmN0aW9uIHNwYW4odGV4dCwgc3R5bGVBdHRyaWJ1dGVzID0ge30pIHsKICBjb25zdCBlbGVtZW50ID0gZG9jdW1lbnQuY3JlYXRlRWxlbWVudCgnc3BhbicpOwogIGVsZW1lbnQudGV4dENvbnRlbnQgPSB0ZXh0OwogIGZvciAoY29uc3Qga2V5IG9mIE9iamVjdC5rZXlzKHN0eWxlQXR0cmlidXRlcykpIHsKICAgIGVsZW1lbnQuc3R5bGVba2V5XSA9IHN0eWxlQXR0cmlidXRlc1trZXldOwogIH0KICByZXR1cm4gZWxlbWVudDsKfQoKLy8gTWF4IG51bWJlciBvZiBieXRlcyB3aGljaCB3aWxsIGJlIHVwbG9hZGVkIGF0IGEgdGltZS4KY29uc3QgTUFYX1BBWUxPQURfU0laRSA9IDEwMCAqIDEwMjQ7Ci8vIE1heCBhbW91bnQgb2YgdGltZSB0byBibG9jayB3YWl0aW5nIGZvciB0aGUgdXNlci4KY29uc3QgRklMRV9DSEFOR0VfVElNRU9VVF9NUyA9IDMwICogMTAwMDsKCmZ1bmN0aW9uIF91cGxvYWRGaWxlcyhpbnB1dElkLCBvdXRwdXRJZCkgewogIGNvbnN0IHN0ZXBzID0gdXBsb2FkRmlsZXNTdGVwKGlucHV0SWQsIG91dHB1dElkKTsKICBjb25zdCBvdXRwdXRFbGVtZW50ID0gZG9jdW1lbnQuZ2V0RWxlbWVudEJ5SWQob3V0cHV0SWQpOwogIC8vIENhY2hlIHN0ZXBzIG9uIHRoZSBvdXRwdXRFbGVtZW50IHRvIG1ha2UgaXQgYXZhaWxhYmxlIGZvciB0aGUgbmV4dCBjYWxsCiAgLy8gdG8gdXBsb2FkRmlsZXNDb250aW51ZSBmcm9tIFB5dGhvbi4KICBvdXRwdXRFbGVtZW50LnN0ZXBzID0gc3RlcHM7CgogIHJldHVybiBfdXBsb2FkRmlsZXNDb250aW51ZShvdXRwdXRJZCk7Cn0KCi8vIFRoaXMgaXMgcm91Z2hseSBhbiBhc3luYyBnZW5lcmF0b3IgKG5vdCBzdXBwb3J0ZWQgaW4gdGhlIGJyb3dzZXIgeWV0KSwKLy8gd2hlcmUgdGhlcmUgYXJlIG11bHRpcGxlIGFzeW5jaHJvbm91cyBzdGVwcyBhbmQgdGhlIFB5dGhvbiBzaWRlIGlzIGdvaW5nCi8vIHRvIHBvbGwgZm9yIGNvbXBsZXRpb24gb2YgZWFjaCBzdGVwLgovLyBUaGlzIHVzZXMgYSBQcm9taXNlIHRvIGJsb2NrIHRoZSBweXRob24gc2lkZSBvbiBjb21wbGV0aW9uIG9mIGVhY2ggc3RlcCwKLy8gdGhlbiBwYXNzZXMgdGhlIHJlc3VsdCBvZiB0aGUgcHJldmlvdXMgc3RlcCBhcyB0aGUgaW5wdXQgdG8gdGhlIG5leHQgc3RlcC4KZnVuY3Rpb24gX3VwbG9hZEZpbGVzQ29udGludWUob3V0cHV0SWQpIHsKICBjb25zdCBvdXRwdXRFbGVtZW50ID0gZG9jdW1lbnQuZ2V0RWxlbWVudEJ5SWQob3V0cHV0SWQpOwogIGNvbnN0IHN0ZXBzID0gb3V0cHV0RWxlbWVudC5zdGVwczsKCiAgY29uc3QgbmV4dCA9IHN0ZXBzLm5leHQob3V0cHV0RWxlbWVudC5sYXN0UHJvbWlzZVZhbHVlKTsKICByZXR1cm4gUHJvbWlzZS5yZXNvbHZlKG5leHQudmFsdWUucHJvbWlzZSkudGhlbigodmFsdWUpID0+IHsKICAgIC8vIENhY2hlIHRoZSBsYXN0IHByb21pc2UgdmFsdWUgdG8gbWFrZSBpdCBhdmFpbGFibGUgdG8gdGhlIG5leHQKICAgIC8vIHN0ZXAgb2YgdGhlIGdlbmVyYXRvci4KICAgIG91dHB1dEVsZW1lbnQubGFzdFByb21pc2VWYWx1ZSA9IHZhbHVlOwogICAgcmV0dXJuIG5leHQudmFsdWUucmVzcG9uc2U7CiAgfSk7Cn0KCi8qKgogKiBHZW5lcmF0b3IgZnVuY3Rpb24gd2hpY2ggaXMgY2FsbGVkIGJldHdlZW4gZWFjaCBhc3luYyBzdGVwIG9mIHRoZSB1cGxvYWQKICogcHJvY2Vzcy4KICogQHBhcmFtIHtzdHJpbmd9IGlucHV0SWQgRWxlbWVudCBJRCBvZiB0aGUgaW5wdXQgZmlsZSBwaWNrZXIgZWxlbWVudC4KICogQHBhcmFtIHtzdHJpbmd9IG91dHB1dElkIEVsZW1lbnQgSUQgb2YgdGhlIG91dHB1dCBkaXNwbGF5LgogKiBAcmV0dXJuIHshSXRlcmFibGU8IU9iamVjdD59IEl0ZXJhYmxlIG9mIG5leHQgc3RlcHMuCiAqLwpmdW5jdGlvbiogdXBsb2FkRmlsZXNTdGVwKGlucHV0SWQsIG91dHB1dElkKSB7CiAgY29uc3QgaW5wdXRFbGVtZW50ID0gZG9jdW1lbnQuZ2V0RWxlbWVudEJ5SWQoaW5wdXRJZCk7CiAgaW5wdXRFbGVtZW50LmRpc2FibGVkID0gZmFsc2U7CgogIGNvbnN0IG91dHB1dEVsZW1lbnQgPSBkb2N1bWVudC5nZXRFbGVtZW50QnlJZChvdXRwdXRJZCk7CiAgb3V0cHV0RWxlbWVudC5pbm5lckhUTUwgPSAnJzsKCiAgY29uc3QgcGlja2VkUHJvbWlzZSA9IG5ldyBQcm9taXNlKChyZXNvbHZlKSA9PiB7CiAgICBpbnB1dEVsZW1lbnQuYWRkRXZlbnRMaXN0ZW5lcignY2hhbmdlJywgKGUpID0+IHsKICAgICAgcmVzb2x2ZShlLnRhcmdldC5maWxlcyk7CiAgICB9KTsKICB9KTsKCiAgY29uc3QgY2FuY2VsID0gZG9jdW1lbnQuY3JlYXRlRWxlbWVudCgnYnV0dG9uJyk7CiAgaW5wdXRFbGVtZW50LnBhcmVudEVsZW1lbnQuYXBwZW5kQ2hpbGQoY2FuY2VsKTsKICBjYW5jZWwudGV4dENvbnRlbnQgPSAnQ2FuY2VsIHVwbG9hZCc7CiAgY29uc3QgY2FuY2VsUHJvbWlzZSA9IG5ldyBQcm9taXNlKChyZXNvbHZlKSA9PiB7CiAgICBjYW5jZWwub25jbGljayA9ICgpID0+IHsKICAgICAgcmVzb2x2ZShudWxsKTsKICAgIH07CiAgfSk7CgogIC8vIENhbmNlbCB1cGxvYWQgaWYgdXNlciBoYXNuJ3QgcGlja2VkIGFueXRoaW5nIGluIHRpbWVvdXQuCiAgY29uc3QgdGltZW91dFByb21pc2UgPSBuZXcgUHJvbWlzZSgocmVzb2x2ZSkgPT4gewogICAgc2V0VGltZW91dCgoKSA9PiB7CiAgICAgIHJlc29sdmUobnVsbCk7CiAgICB9LCBGSUxFX0NIQU5HRV9USU1FT1VUX01TKTsKICB9KTsKCiAgLy8gV2FpdCBmb3IgdGhlIHVzZXIgdG8gcGljayB0aGUgZmlsZXMuCiAgY29uc3QgZmlsZXMgPSB5aWVsZCB7CiAgICBwcm9taXNlOiBQcm9taXNlLnJhY2UoW3BpY2tlZFByb21pc2UsIHRpbWVvdXRQcm9taXNlLCBjYW5jZWxQcm9taXNlXSksCiAgICByZXNwb25zZTogewogICAgICBhY3Rpb246ICdzdGFydGluZycsCiAgICB9CiAgfTsKCiAgaWYgKCFmaWxlcykgewogICAgcmV0dXJuIHsKICAgICAgcmVzcG9uc2U6IHsKICAgICAgICBhY3Rpb246ICdjb21wbGV0ZScsCiAgICAgIH0KICAgIH07CiAgfQoKICBjYW5jZWwucmVtb3ZlKCk7CgogIC8vIERpc2FibGUgdGhlIGlucHV0IGVsZW1lbnQgc2luY2UgZnVydGhlciBwaWNrcyBhcmUgbm90IGFsbG93ZWQuCiAgaW5wdXRFbGVtZW50LmRpc2FibGVkID0gdHJ1ZTsKCiAgZm9yIChjb25zdCBmaWxlIG9mIGZpbGVzKSB7CiAgICBjb25zdCBsaSA9IGRvY3VtZW50LmNyZWF0ZUVsZW1lbnQoJ2xpJyk7CiAgICBsaS5hcHBlbmQoc3BhbihmaWxlLm5hbWUsIHtmb250V2VpZ2h0OiAnYm9sZCd9KSk7CiAgICBsaS5hcHBlbmQoc3BhbigKICAgICAgICBgKCR7ZmlsZS50eXBlIHx8ICduL2EnfSkgLSAke2ZpbGUuc2l6ZX0gYnl0ZXMsIGAgKwogICAgICAgIGBsYXN0IG1vZGlmaWVkOiAkewogICAgICAgICAgICBmaWxlLmxhc3RNb2RpZmllZERhdGUgPyBmaWxlLmxhc3RNb2RpZmllZERhdGUudG9Mb2NhbGVEYXRlU3RyaW5nKCkgOgogICAgICAgICAgICAgICAgICAgICAgICAgICAgICAgICAgICAnbi9hJ30gLSBgKSk7CiAgICBjb25zdCBwZXJjZW50ID0gc3BhbignMCUgZG9uZScpOwogICAgbGkuYXBwZW5kQ2hpbGQocGVyY2VudCk7CgogICAgb3V0cHV0RWxlbWVudC5hcHBlbmRDaGlsZChsaSk7CgogICAgY29uc3QgZmlsZURhdGFQcm9taXNlID0gbmV3IFByb21pc2UoKHJlc29sdmUpID0+IHsKICAgICAgY29uc3QgcmVhZGVyID0gbmV3IEZpbGVSZWFkZXIoKTsKICAgICAgcmVhZGVyLm9ubG9hZCA9IChlKSA9PiB7CiAgICAgICAgcmVzb2x2ZShlLnRhcmdldC5yZXN1bHQpOwogICAgICB9OwogICAgICByZWFkZXIucmVhZEFzQXJyYXlCdWZmZXIoZmlsZSk7CiAgICB9KTsKICAgIC8vIFdhaXQgZm9yIHRoZSBkYXRhIHRvIGJlIHJlYWR5LgogICAgbGV0IGZpbGVEYXRhID0geWllbGQgewogICAgICBwcm9taXNlOiBmaWxlRGF0YVByb21pc2UsCiAgICAgIHJlc3BvbnNlOiB7CiAgICAgICAgYWN0aW9uOiAnY29udGludWUnLAogICAgICB9CiAgICB9OwoKICAgIC8vIFVzZSBhIGNodW5rZWQgc2VuZGluZyB0byBhdm9pZCBtZXNzYWdlIHNpemUgbGltaXRzLiBTZWUgYi82MjExNTY2MC4KICAgIGxldCBwb3NpdGlvbiA9IDA7CiAgICB3aGlsZSAocG9zaXRpb24gPCBmaWxlRGF0YS5ieXRlTGVuZ3RoKSB7CiAgICAgIGNvbnN0IGxlbmd0aCA9IE1hdGgubWluKGZpbGVEYXRhLmJ5dGVMZW5ndGggLSBwb3NpdGlvbiwgTUFYX1BBWUxPQURfU0laRSk7CiAgICAgIGNvbnN0IGNodW5rID0gbmV3IFVpbnQ4QXJyYXkoZmlsZURhdGEsIHBvc2l0aW9uLCBsZW5ndGgpOwogICAgICBwb3NpdGlvbiArPSBsZW5ndGg7CgogICAgICBjb25zdCBiYXNlNjQgPSBidG9hKFN0cmluZy5mcm9tQ2hhckNvZGUuYXBwbHkobnVsbCwgY2h1bmspKTsKICAgICAgeWllbGQgewogICAgICAgIHJlc3BvbnNlOiB7CiAgICAgICAgICBhY3Rpb246ICdhcHBlbmQnLAogICAgICAgICAgZmlsZTogZmlsZS5uYW1lLAogICAgICAgICAgZGF0YTogYmFzZTY0LAogICAgICAgIH0sCiAgICAgIH07CiAgICAgIHBlcmNlbnQudGV4dENvbnRlbnQgPQogICAgICAgICAgYCR7TWF0aC5yb3VuZCgocG9zaXRpb24gLyBmaWxlRGF0YS5ieXRlTGVuZ3RoKSAqIDEwMCl9JSBkb25lYDsKICAgIH0KICB9CgogIC8vIEFsbCBkb25lLgogIHlpZWxkIHsKICAgIHJlc3BvbnNlOiB7CiAgICAgIGFjdGlvbjogJ2NvbXBsZXRlJywKICAgIH0KICB9Owp9CgpzY29wZS5nb29nbGUgPSBzY29wZS5nb29nbGUgfHwge307CnNjb3BlLmdvb2dsZS5jb2xhYiA9IHNjb3BlLmdvb2dsZS5jb2xhYiB8fCB7fTsKc2NvcGUuZ29vZ2xlLmNvbGFiLl9maWxlcyA9IHsKICBfdXBsb2FkRmlsZXMsCiAgX3VwbG9hZEZpbGVzQ29udGludWUsCn07Cn0pKHNlbGYpOwo=",
              "ok": true,
              "headers": [
                [
                  "content-type",
                  "application/javascript"
                ]
              ],
              "status": 200,
              "status_text": ""
            }
          },
          "base_uri": "https://localhost:8080/",
          "height": 78
        }
      },
      "source": [
        "from google.colab import files\n",
        "upload = files.upload()\n"
      ],
      "execution_count": 0,
      "outputs": [
        {
          "output_type": "display_data",
          "data": {
            "text/html": [
              "\n",
              "     <input type=\"file\" id=\"files-4d6983e8-4052-4d54-bd77-87cc7ae177d2\" name=\"files[]\" multiple disabled />\n",
              "     <output id=\"result-4d6983e8-4052-4d54-bd77-87cc7ae177d2\">\n",
              "      Upload widget is only available when the cell has been executed in the\n",
              "      current browser session. Please rerun this cell to enable.\n",
              "      </output>\n",
              "      <script src=\"/nbextensions/google.colab/files.js\"></script> "
            ],
            "text/plain": [
              "<IPython.core.display.HTML object>"
            ]
          },
          "metadata": {
            "tags": []
          }
        },
        {
          "output_type": "stream",
          "text": [
            "Saving sample.txt to sample.txt\n"
          ],
          "name": "stdout"
        }
      ]
    },
    {
      "cell_type": "code",
      "metadata": {
        "id": "A-iO2kxmanbR",
        "colab_type": "code",
        "outputId": "f4eac830-1a62-4deb-bc6d-43a155d190d0",
        "colab": {
          "base_uri": "https://localhost:8080/",
          "height": 1214
        }
      },
      "source": [
        "datafile = open('sample.txt')\n",
        "for line in datafile:\n",
        "  line = line.rstrip()\n",
        "  line_mecab = tagger.parse(line)\n",
        "  print(line_mecab)\n"
      ],
      "execution_count": 0,
      "outputs": [
        {
          "output_type": "stream",
          "text": [
            "﻿\t記号,一般,*,*,*,*,*\n",
            "Java\t名詞,固有名詞,組織,*,*,*,*\n",
            "から\t助詞,格助詞,一般,*,*,*,から,カラ,カラ\n",
            "使う\t動詞,自立,*,*,五段・ワ行促音便,基本形,使う,ツカウ,ツカウ\n",
            "に\t助詞,格助詞,一般,*,*,*,に,ニ,ニ\n",
            "は\t助詞,係助詞,*,*,*,*,は,ハ,ワ\n",
            "、\t記号,読点,*,*,*,*,、,、,、\n",
            "まず\t副詞,一般,*,*,*,*,まず,マズ,マズ\n",
            "辞書\t名詞,一般,*,*,*,*,辞書,ジショ,ジショ\n",
            "を\t助詞,格助詞,一般,*,*,*,を,ヲ,ヲ\n",
            "utf\t名詞,固有名詞,組織,*,*,*,*\n",
            "-\t名詞,サ変接続,*,*,*,*,*\n",
            "8\t名詞,数,*,*,*,*,*\n",
            "に\t助詞,格助詞,一般,*,*,*,に,ニ,ニ\n",
            "し\t動詞,自立,*,*,サ変・スル,連用形,する,シ,シ\n",
            "て\t助詞,接続助詞,*,*,*,*,て,テ,テ\n",
            "おき\t動詞,非自立,*,*,五段・カ行イ音便,連用形,おく,オキ,オキ\n",
            "、\t記号,読点,*,*,*,*,、,、,、\n",
            "mecab\t名詞,固有名詞,組織,*,*,*,*\n",
            "-\t名詞,サ変接続,*,*,*,*,*\n",
            "java\t名詞,一般,*,*,*,*,*\n",
            "-\t名詞,サ変接続,*,*,*,*,*\n",
            "X\t名詞,一般,*,*,*,*,*\n",
            ".\t名詞,サ変接続,*,*,*,*,*\n",
            "XX\t名詞,一般,*,*,*,*,*\n",
            ".\t名詞,サ変接続,*,*,*,*,*\n",
            "tar\t名詞,一般,*,*,*,*,*\n",
            ".\t名詞,サ変接続,*,*,*,*,*\n",
            "gz\t名詞,一般,*,*,*,*,*\n",
            "を\t助詞,格助詞,一般,*,*,*,を,ヲ,ヲ\n",
            "追加\t名詞,サ変接続,*,*,*,*,追加,ツイカ,ツイカ\n",
            "で\t助詞,格助詞,一般,*,*,*,で,デ,デ\n",
            "インストール\t名詞,一般,*,*,*,*,インストール,インストール,インストール\n",
            "する\t動詞,自立,*,*,サ変・スル,基本形,する,スル,スル\n",
            "。\t記号,句点,*,*,*,*,。,。,。\n",
            "EOS\n",
            "\n",
            "EOS\n",
            "\n",
            "ここ\t名詞,代名詞,一般,*,*,*,ここ,ココ,ココ\n",
            "で\t助詞,格助詞,一般,*,*,*,で,デ,デ\n",
            "は\t助詞,係助詞,*,*,*,*,は,ハ,ワ\n",
            "mecab\t名詞,固有名詞,組織,*,*,*,*\n",
            "-\t名詞,サ変接続,*,*,*,*,*\n",
            "java\t名詞,一般,*,*,*,*,*\n",
            "-\t名詞,サ変接続,*,*,*,*,*\n",
            "0\t名詞,数,*,*,*,*,*\n",
            ".\t名詞,サ変接続,*,*,*,*,*\n",
            "98\t名詞,数,*,*,*,*,*\n",
            ".\t名詞,サ変接続,*,*,*,*,*\n",
            "tar\t名詞,一般,*,*,*,*,*\n",
            ".\t名詞,サ変接続,*,*,*,*,*\n",
            "gz\t名詞,一般,*,*,*,*,*\n",
            "を\t助詞,格助詞,一般,*,*,*,を,ヲ,ヲ\n",
            "ダウンロード\t名詞,サ変接続,*,*,*,*,ダウンロード,ダウンロード,ダウンロード\n",
            "し\t動詞,自立,*,*,サ変・スル,連用形,する,シ,シ\n",
            "て\t助詞,接続助詞,*,*,*,*,て,テ,テ\n",
            "~/\t名詞,サ変接続,*,*,*,*,*\n",
            "src\t名詞,一般,*,*,*,*,*\n",
            "に\t助詞,格助詞,一般,*,*,*,に,ニ,ニ\n",
            "置い\t動詞,自立,*,*,五段・カ行イ音便,連用タ接続,置く,オイ,オイ\n",
            "た\t助動詞,*,*,*,特殊・タ,基本形,た,タ,タ\n",
            "もの\t名詞,非自立,一般,*,*,*,もの,モノ,モノ\n",
            "と\t助詞,格助詞,一般,*,*,*,と,ト,ト\n",
            "する\t動詞,自立,*,*,サ変・スル,基本形,する,スル,スル\n",
            "。\t記号,句点,*,*,*,*,。,。,。\n",
            "EOS\n",
            "\n"
          ],
          "name": "stdout"
        }
      ]
    },
    {
      "cell_type": "code",
      "metadata": {
        "id": "XsmHWALjeSSh",
        "colab_type": "code",
        "outputId": "fc07c762-4145-400b-97c3-e46f18b971d0",
        "colab": {
          "base_uri": "https://localhost:8080/",
          "height": 34
        }
      },
      "source": [
        "words = line_mecab.split(',')\n",
        "word = words[0]\n",
        "print(words[0])"
      ],
      "execution_count": 0,
      "outputs": [
        {
          "output_type": "stream",
          "text": [
            "ここ\t名詞\n"
          ],
          "name": "stdout"
        }
      ]
    }
  ]
}