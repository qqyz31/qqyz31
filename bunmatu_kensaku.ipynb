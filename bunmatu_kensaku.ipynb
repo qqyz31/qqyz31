{
  "nbformat": 4,
  "nbformat_minor": 0,
  "metadata": {
    "colab": {
      "name": "bunmatu_kensaku.ipynb",
      "version": "0.3.2",
      "provenance": [],
      "collapsed_sections": [],
      "include_colab_link": true
    },
    "kernelspec": {
      "name": "python3",
      "display_name": "Python 3"
    }
  },
  "cells": [
    {
      "cell_type": "markdown",
      "metadata": {
        "id": "view-in-github",
        "colab_type": "text"
      },
      "source": [
        "[View in Colaboratory](https://colab.research.google.com/github/qqyz31/qqyz31/blob/master/bunmatu_kensaku.ipynb)"
      ]
    },
    {
      "metadata": {
        "id": "F-oPTF_awrtK",
        "colab_type": "text"
      },
      "cell_type": "markdown",
      "source": [
        "# 文末形式による文の検索\n",
        "\n",
        "> テキストを文で分割し、文番号を付与、文末形式によって出力する。\n",
        "\n",
        "> あわせて文末形式による文の長さを比較するために文の単語長も出力する。\n",
        "\n",
        "\n",
        "\n"
      ]
    },
    {
      "metadata": {
        "id": "fmFLboNC2_O9",
        "colab_type": "text"
      },
      "cell_type": "markdown",
      "source": [
        "## 目的\n",
        "\n",
        "\n",
        "*   連体形終止文の検索と出力\n",
        "\n",
        "> （係り結び文も含む。そのため後の分類が必要になる可能性はある）\n",
        "\n",
        "*   終止形終止文の文長と比較する\n",
        "\n",
        "\n"
      ]
    },
    {
      "metadata": {
        "id": "Wq_GPINo4VdE",
        "colab_type": "text"
      },
      "cell_type": "markdown",
      "source": [
        "## 連体形終止文の検索と文の単語長の出力コード\n",
        "### テキストの準備\n",
        "\n",
        "\n",
        "1.   連体形終止文の初期の例を想定し、中古和文のテキストを使う\n",
        "2.   テキストの前処理\n",
        "\n",
        "> タイトル・章タイトルなどを削除し、文だけにする。\n",
        "\n",
        "> 必要があればルビなどの処理もする。　\n",
        "\n",
        "3.  web茶豆でテキストを中古和文unidicで解析　csvファイルとして出力して使う\n",
        "\n",
        "\n",
        "> 必要な項目\n",
        "\n",
        "\n",
        "*   出現形\n",
        "*   語彙素\n",
        "*   品詞\n",
        "*   活用形\n",
        "*   語種　　　　　　　など\n",
        "\n",
        "\n",
        "\n",
        "\n"
      ]
    },
    {
      "metadata": {
        "id": "4u8VNDW58LGg",
        "colab_type": "code",
        "colab": {}
      },
      "cell_type": "code",
      "source": [
        "from google.colab import files\n",
        "\n",
        "upload = files.upload()"
      ],
      "execution_count": 0,
      "outputs": []
    },
    {
      "metadata": {
        "id": "dwvJ_OF08qGJ",
        "colab_type": "text"
      },
      "cell_type": "markdown",
      "source": [
        "### 連体形終止文検索の試作\n",
        "\n",
        "\n",
        "> ここでは「蜻蛉日記」をweb茶豆で解析したmame_kage.csvを使っている。\n",
        "\n",
        "*   n　は文番号（冒頭1から数える）\n",
        "*   count　一文の単語長\n",
        "*   bun　当該の連体形終止文\n",
        "\n",
        "*   header　csvのheaderをスルーするために使う\n",
        "*   flag　連体形である場合に立てる（その次に句点が来た場合にのみ出力する設定にする）\n",
        "\n",
        "\n",
        "\n",
        "\n",
        "\n"
      ]
    },
    {
      "metadata": {
        "id": "8J4zoW2-8NUX",
        "colab_type": "code",
        "colab": {}
      },
      "cell_type": "code",
      "source": [
        "datafile = open('mame_kage.csv')\n",
        "n = 0        #文番号\n",
        "count = 0\n",
        "bun = ''  \n",
        "header = True\n",
        "flag = False  #Trueの場合に出力（文番号、文長、文）"
      ],
      "execution_count": 0,
      "outputs": []
    },
    {
      "metadata": {
        "id": "jtrAkxlw_Ifb",
        "colab_type": "text"
      },
      "cell_type": "markdown",
      "source": [
        "### 手順\n",
        "\n",
        "1.   1行ずつ読み込む\n",
        "2.   header行であればとばす\n",
        "3.   lineを,で分割（line_list)\n",
        "\n",
        "\n",
        ">  lineを1行読むたびにcountを1増やす（単語数はlineの数になるから）\n",
        "\n",
        "> 出現形(line_list[2])を足していく（。までが文bun)\n",
        "\n",
        "4.   読み込んだlineの活用形(line_list[9])が連体形であればflagを立てる\n",
        "\n",
        "\n",
        "> 「連体形ー一般」など何種類かあるためstartswithを使う\n",
        "\n",
        "\n",
        "> 次のループで連体形以外、かつ「。」でないものがくればflagを倒す\n",
        "\n",
        "\n",
        "5.   line_list[2]句点のlineがくればそこでcount数をtangosuとし、文をbunとする\n",
        "\n",
        "\n",
        "> 古文を扱うため、記号（語種　line_list[12])は単語数として数えない(count-1)\n",
        "\n",
        "\n",
        "6.   flagが立っている場合のみ文番号と単語長、文を出力する。\n",
        "\n",
        "\n",
        "7.   count bun　を初期値０にもどす。\n",
        "\n",
        "\n",
        "\n",
        "\n",
        "\n",
        "\n",
        "\n",
        "\n",
        "\n",
        "\n",
        "\n",
        "\n",
        "\n"
      ]
    },
    {
      "metadata": {
        "id": "ML3pXlrr3BU1",
        "colab_type": "text"
      },
      "cell_type": "markdown",
      "source": [
        ""
      ]
    },
    {
      "metadata": {
        "id": "lwnTPzhp_Msj",
        "colab_type": "code",
        "colab": {}
      },
      "cell_type": "code",
      "source": [
        "for line in datafile:\n",
        "  line = line.rstrip()\n",
        "  \n",
        "  if header:         #header行をスルー\n",
        "    header = False\n",
        "    continue\n",
        "  line_list = line.split(',')\n",
        "  count = count + 1\n",
        "  bun = bun + line_list[2]   #list[2]は出現形　これを足していく\n",
        "  if line_list[9].startswith('連体形'):   #list[9]の活用形が連体形（一般、その他）であれば旗を立てる\n",
        "    flag = True\n",
        "  if not line_list[2] == '。' and not line_list[9].startswith('連体形'): #連体形のあと句点以外のlineがくれば旗を倒す\n",
        "    flag = False\n",
        "  if line_list[12] == '記号':  #古文を想定しているので読点やカギ括弧などの記号（語種）は単語数に数えない\n",
        "    count = count - 1\n",
        "  if line_list[2] == '。':    #句点で文番号を取得し、読み込んだline数を単語数（文長）とする\n",
        "    n = n + 1\n",
        "    tangosu = count\n",
        "    if flag:\n",
        "      flag = True\n",
        "      print(n,tangosu,bun)\n",
        "    count = 0\n",
        "    bun = ''\n",
        "    flag = False\n",
        "  "
      ],
      "execution_count": 0,
      "outputs": []
    },
    {
      "metadata": {
        "id": "QABN0rE6755m",
        "colab_type": "text"
      },
      "cell_type": "markdown",
      "source": [
        "### 問題点\n",
        "\n",
        "\n",
        "> 文の切れ目の認定は古典大系本の句点に従っているが、歌で切れている場合、句点のないところがある。手作業で入れるか\n",
        "\n"
      ]
    }
  ]
}