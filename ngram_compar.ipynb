{
  "nbformat": 4,
  "nbformat_minor": 0,
  "metadata": {
    "colab": {
      "name": "ngram_compar.ipynb",
      "version": "0.3.2",
      "provenance": [],
      "collapsed_sections": [],
      "include_colab_link": true
    },
    "kernelspec": {
      "name": "python3",
      "display_name": "Python 3"
    }
  },
  "cells": [
    {
      "cell_type": "markdown",
      "metadata": {
        "id": "view-in-github",
        "colab_type": "text"
      },
      "source": [
        "<a href=\"https://colab.research.google.com/github/qqyz31/qqyz31/blob/master/ngram_compar.ipynb\" target=\"_parent\"><img src=\"https://colab.research.google.com/assets/colab-badge.svg\" alt=\"Open In Colab\"/></a>"
      ]
    },
    {
      "metadata": {
        "id": "HnrGJgIJ276Z",
        "colab_type": "text"
      },
      "cell_type": "markdown",
      "source": [
        "### ２つのファイルのngramを比較する"
      ]
    },
    {
      "metadata": {
        "id": "2DkroWyU3S_8",
        "colab_type": "text"
      },
      "cell_type": "markdown",
      "source": [
        "a.txt b.txt それぞれのngramデータを作る（ここでは1gram~4gramにしている）\n"
      ]
    },
    {
      "metadata": {
        "id": "1Ew3DiRSyQwH",
        "colab_type": "text"
      },
      "cell_type": "markdown",
      "source": [
        "それぞれのngramデータを重複をなくしてソートする\n",
        "\n",
        "\n",
        "*   a_sort_unique\n",
        "*   b_sort_unique\n",
        "\n"
      ]
    },
    {
      "metadata": {
        "id": "MxQb-F340Kct",
        "colab_type": "text"
      },
      "cell_type": "markdown",
      "source": [
        "それぞれのngramの頻度も出しておく\n",
        "\n",
        "\n",
        "*   a_counter\n",
        "*   b_counter\n",
        "\n",
        "\n"
      ]
    },
    {
      "metadata": {
        "id": "CpLAhNp83OOF",
        "colab_type": "code",
        "colab": {
          "resources": {
            "http://localhost:8080/nbextensions/google.colab/files.js": {
              "data": "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",
              "ok": true,
              "headers": [
                [
                  "content-type",
                  "application/javascript"
                ]
              ],
              "status": 200,
              "status_text": ""
            }
          },
          "base_uri": "https://localhost:8080/",
          "height": 112
        },
        "outputId": "cb1544af-8e46-4be0-bd87-cc910c7a90c5"
      },
      "cell_type": "code",
      "source": [
        "#a.txt b.txtをuploadする\n",
        "from google.colab import files\n",
        "upload = files.upload()"
      ],
      "execution_count": 24,
      "outputs": [
        {
          "output_type": "display_data",
          "data": {
            "text/html": [
              "\n",
              "     <input type=\"file\" id=\"files-d0ada310-07a3-4c7e-8b8d-5ee6451367d7\" name=\"files[]\" multiple disabled />\n",
              "     <output id=\"result-d0ada310-07a3-4c7e-8b8d-5ee6451367d7\">\n",
              "      Upload widget is only available when the cell has been executed in the\n",
              "      current browser session. Please rerun this cell to enable.\n",
              "      </output>\n",
              "      <script src=\"/nbextensions/google.colab/files.js\"></script> "
            ],
            "text/plain": [
              "<IPython.core.display.HTML object>"
            ]
          },
          "metadata": {
            "tags": []
          }
        },
        {
          "output_type": "stream",
          "text": [
            "Saving a.txt to a (2).txt\n",
            "Saving b.txt to b (1).txt\n"
          ],
          "name": "stdout"
        }
      ]
    },
    {
      "metadata": {
        "id": "7M_HdDI33yjA",
        "colab_type": "code",
        "colab": {}
      },
      "cell_type": "code",
      "source": [
        "#求めるngramの最小値と最大値を決める（ここでは仮に１～４にしている）\n",
        "min = 1\n",
        "max = 4"
      ],
      "execution_count": 0,
      "outputs": []
    },
    {
      "metadata": {
        "id": "AAs9vQerPwqc",
        "colab_type": "code",
        "colab": {}
      },
      "cell_type": "code",
      "source": [
        "#g = open('kekka.txt','w')     # 取得したいファイルがあればその都度指定　　print(xxx,file=g)"
      ],
      "execution_count": 0,
      "outputs": []
    },
    {
      "metadata": {
        "id": "fXadN99k4gRQ",
        "colab_type": "code",
        "colab": {
          "base_uri": "https://localhost:8080/",
          "height": 2561
        },
        "outputId": "e4524e88-ba74-48aa-814a-a9692ced98f9"
      },
      "cell_type": "code",
      "source": [
        "#まずa.txtからngramをとる\n",
        "a_line = ''\n",
        "\n",
        "filename = 'a.txt'\n",
        "f = open(filename,encoding = \"utf-8-sig\")  # Bomなしを指定\n",
        "\n",
        "for line in f:\n",
        "  line = line.rstrip()\n",
        "  a_line = a_line + line\n",
        "  print(a_line)\n",
        "\n",
        "awords = a_line.split(',')\n",
        "a_list = []\n",
        "gramstr = ''\n",
        "n = 0\n",
        "\n",
        "for n in range(max):\n",
        "  n = n+1\n",
        "  if n < min:\n",
        "    continue\n",
        "  for index in range(len(awords)-n):\n",
        "    print('n=',n,'index=',index)\n",
        "    gramstr = awords[index]\n",
        "    for i in range(n-1):\n",
        "      i = i+1\n",
        "      gramstr = gramstr+','+awords[index+i]\n",
        "    print(gramstr)\n",
        "    a_list.append(gramstr)\n",
        "    gramstr = ''\n",
        "\n",
        "print(a_list) "
      ],
      "execution_count": 26,
      "outputs": [
        {
          "output_type": "stream",
          "text": [
            "私,の,名前,は,ポチ,です,。,私,は,猫,です,。,私,の,趣味,は,散歩,です,。,\n",
            "n= 1 index= 0\n",
            "私\n",
            "n= 1 index= 1\n",
            "の\n",
            "n= 1 index= 2\n",
            "名前\n",
            "n= 1 index= 3\n",
            "は\n",
            "n= 1 index= 4\n",
            "ポチ\n",
            "n= 1 index= 5\n",
            "です\n",
            "n= 1 index= 6\n",
            "。\n",
            "n= 1 index= 7\n",
            "私\n",
            "n= 1 index= 8\n",
            "は\n",
            "n= 1 index= 9\n",
            "猫\n",
            "n= 1 index= 10\n",
            "です\n",
            "n= 1 index= 11\n",
            "。\n",
            "n= 1 index= 12\n",
            "私\n",
            "n= 1 index= 13\n",
            "の\n",
            "n= 1 index= 14\n",
            "趣味\n",
            "n= 1 index= 15\n",
            "は\n",
            "n= 1 index= 16\n",
            "散歩\n",
            "n= 1 index= 17\n",
            "です\n",
            "n= 1 index= 18\n",
            "。\n",
            "n= 2 index= 0\n",
            "私,の\n",
            "n= 2 index= 1\n",
            "の,名前\n",
            "n= 2 index= 2\n",
            "名前,は\n",
            "n= 2 index= 3\n",
            "は,ポチ\n",
            "n= 2 index= 4\n",
            "ポチ,です\n",
            "n= 2 index= 5\n",
            "です,。\n",
            "n= 2 index= 6\n",
            "。,私\n",
            "n= 2 index= 7\n",
            "私,は\n",
            "n= 2 index= 8\n",
            "は,猫\n",
            "n= 2 index= 9\n",
            "猫,です\n",
            "n= 2 index= 10\n",
            "です,。\n",
            "n= 2 index= 11\n",
            "。,私\n",
            "n= 2 index= 12\n",
            "私,の\n",
            "n= 2 index= 13\n",
            "の,趣味\n",
            "n= 2 index= 14\n",
            "趣味,は\n",
            "n= 2 index= 15\n",
            "は,散歩\n",
            "n= 2 index= 16\n",
            "散歩,です\n",
            "n= 2 index= 17\n",
            "です,。\n",
            "n= 3 index= 0\n",
            "私,の,名前\n",
            "n= 3 index= 1\n",
            "の,名前,は\n",
            "n= 3 index= 2\n",
            "名前,は,ポチ\n",
            "n= 3 index= 3\n",
            "は,ポチ,です\n",
            "n= 3 index= 4\n",
            "ポチ,です,。\n",
            "n= 3 index= 5\n",
            "です,。,私\n",
            "n= 3 index= 6\n",
            "。,私,は\n",
            "n= 3 index= 7\n",
            "私,は,猫\n",
            "n= 3 index= 8\n",
            "は,猫,です\n",
            "n= 3 index= 9\n",
            "猫,です,。\n",
            "n= 3 index= 10\n",
            "です,。,私\n",
            "n= 3 index= 11\n",
            "。,私,の\n",
            "n= 3 index= 12\n",
            "私,の,趣味\n",
            "n= 3 index= 13\n",
            "の,趣味,は\n",
            "n= 3 index= 14\n",
            "趣味,は,散歩\n",
            "n= 3 index= 15\n",
            "は,散歩,です\n",
            "n= 3 index= 16\n",
            "散歩,です,。\n",
            "n= 4 index= 0\n",
            "私,の,名前,は\n",
            "n= 4 index= 1\n",
            "の,名前,は,ポチ\n",
            "n= 4 index= 2\n",
            "名前,は,ポチ,です\n",
            "n= 4 index= 3\n",
            "は,ポチ,です,。\n",
            "n= 4 index= 4\n",
            "ポチ,です,。,私\n",
            "n= 4 index= 5\n",
            "です,。,私,は\n",
            "n= 4 index= 6\n",
            "。,私,は,猫\n",
            "n= 4 index= 7\n",
            "私,は,猫,です\n",
            "n= 4 index= 8\n",
            "は,猫,です,。\n",
            "n= 4 index= 9\n",
            "猫,です,。,私\n",
            "n= 4 index= 10\n",
            "です,。,私,の\n",
            "n= 4 index= 11\n",
            "。,私,の,趣味\n",
            "n= 4 index= 12\n",
            "私,の,趣味,は\n",
            "n= 4 index= 13\n",
            "の,趣味,は,散歩\n",
            "n= 4 index= 14\n",
            "趣味,は,散歩,です\n",
            "n= 4 index= 15\n",
            "は,散歩,です,。\n",
            "['私', 'の', '名前', 'は', 'ポチ', 'です', '。', '私', 'は', '猫', 'です', '。', '私', 'の', '趣味', 'は', '散歩', 'です', '。', '私,の', 'の,名前', '名前,は', 'は,ポチ', 'ポチ,です', 'です,。', '。,私', '私,は', 'は,猫', '猫,です', 'です,。', '。,私', '私,の', 'の,趣味', '趣味,は', 'は,散歩', '散歩,です', 'です,。', '私,の,名前', 'の,名前,は', '名前,は,ポチ', 'は,ポチ,です', 'ポチ,です,。', 'です,。,私', '。,私,は', '私,は,猫', 'は,猫,です', '猫,です,。', 'です,。,私', '。,私,の', '私,の,趣味', 'の,趣味,は', '趣味,は,散歩', 'は,散歩,です', '散歩,です,。', '私,の,名前,は', 'の,名前,は,ポチ', '名前,は,ポチ,です', 'は,ポチ,です,。', 'ポチ,です,。,私', 'です,。,私,は', '。,私,は,猫', '私,は,猫,です', 'は,猫,です,。', '猫,です,。,私', 'です,。,私,の', '。,私,の,趣味', '私,の,趣味,は', 'の,趣味,は,散歩', '趣味,は,散歩,です', 'は,散歩,です,。']\n"
          ],
          "name": "stdout"
        }
      ]
    },
    {
      "metadata": {
        "id": "u_OS6S4hTGtN",
        "colab_type": "code",
        "colab": {
          "base_uri": "https://localhost:8080/",
          "height": 55
        },
        "outputId": "d3ad09f9-4985-4090-defa-97cb33fd27f8"
      },
      "cell_type": "code",
      "source": [
        "# a_listにあるngramの頻度を取得する\n",
        "import collections\n",
        "\n",
        "a_counter = collections.Counter(a_list)\n",
        "print(a_counter)"
      ],
      "execution_count": 27,
      "outputs": [
        {
          "output_type": "stream",
          "text": [
            "Counter({'私': 3, 'は': 3, 'です': 3, '。': 3, 'です,。': 3, 'の': 2, '私,の': 2, '。,私': 2, 'です,。,私': 2, '名前': 1, 'ポチ': 1, '猫': 1, '趣味': 1, '散歩': 1, 'の,名前': 1, '名前,は': 1, 'は,ポチ': 1, 'ポチ,です': 1, '私,は': 1, 'は,猫': 1, '猫,です': 1, 'の,趣味': 1, '趣味,は': 1, 'は,散歩': 1, '散歩,です': 1, '私,の,名前': 1, 'の,名前,は': 1, '名前,は,ポチ': 1, 'は,ポチ,です': 1, 'ポチ,です,。': 1, '。,私,は': 1, '私,は,猫': 1, 'は,猫,です': 1, '猫,です,。': 1, '。,私,の': 1, '私,の,趣味': 1, 'の,趣味,は': 1, '趣味,は,散歩': 1, 'は,散歩,です': 1, '散歩,です,。': 1, '私,の,名前,は': 1, 'の,名前,は,ポチ': 1, '名前,は,ポチ,です': 1, 'は,ポチ,です,。': 1, 'ポチ,です,。,私': 1, 'です,。,私,は': 1, '。,私,は,猫': 1, '私,は,猫,です': 1, 'は,猫,です,。': 1, '猫,です,。,私': 1, 'です,。,私,の': 1, '。,私,の,趣味': 1, '私,の,趣味,は': 1, 'の,趣味,は,散歩': 1, '趣味,は,散歩,です': 1, 'は,散歩,です,。': 1})\n"
          ],
          "name": "stdout"
        }
      ]
    },
    {
      "metadata": {
        "id": "hPWMZVSWTIj6",
        "colab_type": "code",
        "colab": {
          "base_uri": "https://localhost:8080/",
          "height": 141
        },
        "outputId": "c9ccc09f-1ebf-4f15-99e6-f00a0537edda"
      },
      "cell_type": "code",
      "source": [
        "# a_listの要素の重複をなくしsortする\n",
        "import numpy as np\n",
        "\n",
        "a_sort_unique = np.unique(a_list)\n",
        "print(a_sort_unique)"
      ],
      "execution_count": 28,
      "outputs": [
        {
          "output_type": "stream",
          "text": [
            "['。' '。,私' '。,私,の' '。,私,の,趣味' '。,私,は' '。,私,は,猫' 'です' 'です,。' 'です,。,私'\n",
            " 'です,。,私,の' 'です,。,私,は' 'の' 'の,名前' 'の,名前,は' 'の,名前,は,ポチ' 'の,趣味' 'の,趣味,は'\n",
            " 'の,趣味,は,散歩' 'は' 'は,ポチ' 'は,ポチ,です' 'は,ポチ,です,。' 'は,散歩' 'は,散歩,です' 'は,散歩,です,。'\n",
            " 'は,猫' 'は,猫,です' 'は,猫,です,。' 'ポチ' 'ポチ,です' 'ポチ,です,。' 'ポチ,です,。,私' '名前' '名前,は'\n",
            " '名前,は,ポチ' '名前,は,ポチ,です' '散歩' '散歩,です' '散歩,です,。' '猫' '猫,です' '猫,です,。'\n",
            " '猫,です,。,私' '私' '私,の' '私,の,名前' '私,の,名前,は' '私,の,趣味' '私,の,趣味,は' '私,は'\n",
            " '私,は,猫' '私,は,猫,です' '趣味' '趣味,は' '趣味,は,散歩' '趣味,は,散歩,です']\n"
          ],
          "name": "stdout"
        }
      ]
    },
    {
      "metadata": {
        "id": "GReEx8EfTydl",
        "colab_type": "code",
        "colab": {
          "base_uri": "https://localhost:8080/",
          "height": 2544
        },
        "outputId": "68354a38-79c3-4b1a-b82b-123803baf317"
      },
      "cell_type": "code",
      "source": [
        "# b.txtも同様の処理をする\n",
        "b_line = ''\n",
        "\n",
        "filename = 'b.txt'\n",
        "f = open(filename,encoding = \"utf-8-sig\") #Bomなし\n",
        "for line in f:\n",
        "  line = line.rstrip()\n",
        "  b_line = b_line + line\n",
        "#  print(b_line)\n",
        "\n",
        "bwords = b_line.split(',')\n",
        "b_list = []\n",
        "gramstr = ''\n",
        "n = 0\n",
        "\n",
        "for n in range(max):\n",
        "  n = n+1\n",
        "  if n < min:\n",
        "    continue\n",
        "  for index in range(len(bwords)-n):\n",
        "    print('n=',n,'index=',index)\n",
        "    gramstr = bwords[index]\n",
        "    for i in range(n-1):\n",
        "      i = i+1\n",
        "      gramstr = gramstr+','+bwords[index+i]\n",
        "    print(gramstr)\n",
        "    b_list.append(gramstr)\n",
        "    gramstr = ''\n",
        "\n",
        "print(b_list) "
      ],
      "execution_count": 29,
      "outputs": [
        {
          "output_type": "stream",
          "text": [
            "n= 1 index= 0\n",
            "僕\n",
            "n= 1 index= 1\n",
            "の\n",
            "n= 1 index= 2\n",
            "名前\n",
            "n= 1 index= 3\n",
            "は\n",
            "n= 1 index= 4\n",
            "タマ\n",
            "n= 1 index= 5\n",
            "です\n",
            "n= 1 index= 6\n",
            "。\n",
            "n= 1 index= 7\n",
            "僕\n",
            "n= 1 index= 8\n",
            "は\n",
            "n= 1 index= 9\n",
            "犬\n",
            "n= 1 index= 10\n",
            "です\n",
            "n= 1 index= 11\n",
            "。\n",
            "n= 1 index= 12\n",
            "私\n",
            "n= 1 index= 13\n",
            "の\n",
            "n= 1 index= 14\n",
            "趣味\n",
            "n= 1 index= 15\n",
            "は\n",
            "n= 1 index= 16\n",
            "冒険\n",
            "n= 1 index= 17\n",
            "です\n",
            "n= 1 index= 18\n",
            "。\n",
            "n= 2 index= 0\n",
            "僕,の\n",
            "n= 2 index= 1\n",
            "の,名前\n",
            "n= 2 index= 2\n",
            "名前,は\n",
            "n= 2 index= 3\n",
            "は,タマ\n",
            "n= 2 index= 4\n",
            "タマ,です\n",
            "n= 2 index= 5\n",
            "です,。\n",
            "n= 2 index= 6\n",
            "。,僕\n",
            "n= 2 index= 7\n",
            "僕,は\n",
            "n= 2 index= 8\n",
            "は,犬\n",
            "n= 2 index= 9\n",
            "犬,です\n",
            "n= 2 index= 10\n",
            "です,。\n",
            "n= 2 index= 11\n",
            "。,私\n",
            "n= 2 index= 12\n",
            "私,の\n",
            "n= 2 index= 13\n",
            "の,趣味\n",
            "n= 2 index= 14\n",
            "趣味,は\n",
            "n= 2 index= 15\n",
            "は,冒険\n",
            "n= 2 index= 16\n",
            "冒険,です\n",
            "n= 2 index= 17\n",
            "です,。\n",
            "n= 3 index= 0\n",
            "僕,の,名前\n",
            "n= 3 index= 1\n",
            "の,名前,は\n",
            "n= 3 index= 2\n",
            "名前,は,タマ\n",
            "n= 3 index= 3\n",
            "は,タマ,です\n",
            "n= 3 index= 4\n",
            "タマ,です,。\n",
            "n= 3 index= 5\n",
            "です,。,僕\n",
            "n= 3 index= 6\n",
            "。,僕,は\n",
            "n= 3 index= 7\n",
            "僕,は,犬\n",
            "n= 3 index= 8\n",
            "は,犬,です\n",
            "n= 3 index= 9\n",
            "犬,です,。\n",
            "n= 3 index= 10\n",
            "です,。,私\n",
            "n= 3 index= 11\n",
            "。,私,の\n",
            "n= 3 index= 12\n",
            "私,の,趣味\n",
            "n= 3 index= 13\n",
            "の,趣味,は\n",
            "n= 3 index= 14\n",
            "趣味,は,冒険\n",
            "n= 3 index= 15\n",
            "は,冒険,です\n",
            "n= 3 index= 16\n",
            "冒険,です,。\n",
            "n= 4 index= 0\n",
            "僕,の,名前,は\n",
            "n= 4 index= 1\n",
            "の,名前,は,タマ\n",
            "n= 4 index= 2\n",
            "名前,は,タマ,です\n",
            "n= 4 index= 3\n",
            "は,タマ,です,。\n",
            "n= 4 index= 4\n",
            "タマ,です,。,僕\n",
            "n= 4 index= 5\n",
            "です,。,僕,は\n",
            "n= 4 index= 6\n",
            "。,僕,は,犬\n",
            "n= 4 index= 7\n",
            "僕,は,犬,です\n",
            "n= 4 index= 8\n",
            "は,犬,です,。\n",
            "n= 4 index= 9\n",
            "犬,です,。,私\n",
            "n= 4 index= 10\n",
            "です,。,私,の\n",
            "n= 4 index= 11\n",
            "。,私,の,趣味\n",
            "n= 4 index= 12\n",
            "私,の,趣味,は\n",
            "n= 4 index= 13\n",
            "の,趣味,は,冒険\n",
            "n= 4 index= 14\n",
            "趣味,は,冒険,です\n",
            "n= 4 index= 15\n",
            "は,冒険,です,。\n",
            "['僕', 'の', '名前', 'は', 'タマ', 'です', '。', '僕', 'は', '犬', 'です', '。', '私', 'の', '趣味', 'は', '冒険', 'です', '。', '僕,の', 'の,名前', '名前,は', 'は,タマ', 'タマ,です', 'です,。', '。,僕', '僕,は', 'は,犬', '犬,です', 'です,。', '。,私', '私,の', 'の,趣味', '趣味,は', 'は,冒険', '冒険,です', 'です,。', '僕,の,名前', 'の,名前,は', '名前,は,タマ', 'は,タマ,です', 'タマ,です,。', 'です,。,僕', '。,僕,は', '僕,は,犬', 'は,犬,です', '犬,です,。', 'です,。,私', '。,私,の', '私,の,趣味', 'の,趣味,は', '趣味,は,冒険', 'は,冒険,です', '冒険,です,。', '僕,の,名前,は', 'の,名前,は,タマ', '名前,は,タマ,です', 'は,タマ,です,。', 'タマ,です,。,僕', 'です,。,僕,は', '。,僕,は,犬', '僕,は,犬,です', 'は,犬,です,。', '犬,です,。,私', 'です,。,私,の', '。,私,の,趣味', '私,の,趣味,は', 'の,趣味,は,冒険', '趣味,は,冒険,です', 'は,冒険,です,。']\n"
          ],
          "name": "stdout"
        }
      ]
    },
    {
      "metadata": {
        "id": "p9YNGmkcWQrd",
        "colab_type": "code",
        "colab": {
          "base_uri": "https://localhost:8080/",
          "height": 55
        },
        "outputId": "f7854103-fcb7-4d09-939f-afe6854a55f1"
      },
      "cell_type": "code",
      "source": [
        "# b_listにあるngramの頻度を取得する\n",
        "import collections\n",
        "\n",
        "b_counter = collections.Counter(b_list)\n",
        "print(b_counter)"
      ],
      "execution_count": 30,
      "outputs": [
        {
          "output_type": "stream",
          "text": [
            "Counter({'は': 3, 'です': 3, '。': 3, 'です,。': 3, '僕': 2, 'の': 2, '名前': 1, 'タマ': 1, '犬': 1, '私': 1, '趣味': 1, '冒険': 1, '僕,の': 1, 'の,名前': 1, '名前,は': 1, 'は,タマ': 1, 'タマ,です': 1, '。,僕': 1, '僕,は': 1, 'は,犬': 1, '犬,です': 1, '。,私': 1, '私,の': 1, 'の,趣味': 1, '趣味,は': 1, 'は,冒険': 1, '冒険,です': 1, '僕,の,名前': 1, 'の,名前,は': 1, '名前,は,タマ': 1, 'は,タマ,です': 1, 'タマ,です,。': 1, 'です,。,僕': 1, '。,僕,は': 1, '僕,は,犬': 1, 'は,犬,です': 1, '犬,です,。': 1, 'です,。,私': 1, '。,私,の': 1, '私,の,趣味': 1, 'の,趣味,は': 1, '趣味,は,冒険': 1, 'は,冒険,です': 1, '冒険,です,。': 1, '僕,の,名前,は': 1, 'の,名前,は,タマ': 1, '名前,は,タマ,です': 1, 'は,タマ,です,。': 1, 'タマ,です,。,僕': 1, 'です,。,僕,は': 1, '。,僕,は,犬': 1, '僕,は,犬,です': 1, 'は,犬,です,。': 1, '犬,です,。,私': 1, 'です,。,私,の': 1, '。,私,の,趣味': 1, '私,の,趣味,は': 1, 'の,趣味,は,冒険': 1, '趣味,は,冒険,です': 1, 'は,冒険,です,。': 1})\n"
          ],
          "name": "stdout"
        }
      ]
    },
    {
      "metadata": {
        "id": "NiVhZVB4WAiB",
        "colab_type": "code",
        "colab": {
          "base_uri": "https://localhost:8080/",
          "height": 159
        },
        "outputId": "02565594-35d0-45b9-bb99-4a0f5b14701b"
      },
      "cell_type": "code",
      "source": [
        "# b_listの要素の重複をなくしsortする\n",
        "import numpy as np\n",
        "#np.unique(b_list)\n",
        "b_sort_unique = np.unique(b_list)\n",
        "print(b_sort_unique)\n"
      ],
      "execution_count": 31,
      "outputs": [
        {
          "output_type": "stream",
          "text": [
            "['。' '。,僕' '。,僕,は' '。,僕,は,犬' '。,私' '。,私,の' '。,私,の,趣味' 'です' 'です,。' 'です,。,僕'\n",
            " 'です,。,僕,は' 'です,。,私' 'です,。,私,の' 'の' 'の,名前' 'の,名前,は' 'の,名前,は,タマ' 'の,趣味'\n",
            " 'の,趣味,は' 'の,趣味,は,冒険' 'は' 'は,タマ' 'は,タマ,です' 'は,タマ,です,。' 'は,冒険' 'は,冒険,です'\n",
            " 'は,冒険,です,。' 'は,犬' 'は,犬,です' 'は,犬,です,。' 'タマ' 'タマ,です' 'タマ,です,。' 'タマ,です,。,僕'\n",
            " '僕' '僕,の' '僕,の,名前' '僕,の,名前,は' '僕,は' '僕,は,犬' '僕,は,犬,です' '冒険' '冒険,です'\n",
            " '冒険,です,。' '名前' '名前,は' '名前,は,タマ' '名前,は,タマ,です' '犬' '犬,です' '犬,です,。'\n",
            " '犬,です,。,私' '私' '私,の' '私,の,趣味' '私,の,趣味,は' '趣味' '趣味,は' '趣味,は,冒険'\n",
            " '趣味,は,冒険,です']\n"
          ],
          "name": "stdout"
        }
      ]
    },
    {
      "metadata": {
        "id": "3593BmVz03g3",
        "colab_type": "text"
      },
      "cell_type": "markdown",
      "source": [
        "a_sort_unique b_sort_unique　の集合演算をおこなう。"
      ]
    },
    {
      "metadata": {
        "id": "xlK7ghdbWNI_",
        "colab_type": "code",
        "colab": {
          "base_uri": "https://localhost:8080/",
          "height": 284
        },
        "outputId": "1f72dc38-0491-4138-ef91-2ed60ba0cfab"
      },
      "cell_type": "code",
      "source": [
        "np.union1d(a_sort_unique,b_sort_unique)  #a+b"
      ],
      "execution_count": 32,
      "outputs": [
        {
          "output_type": "execute_result",
          "data": {
            "text/plain": [
              "array(['。', '。,僕', '。,僕,は', '。,僕,は,犬', '。,私', '。,私,の', '。,私,の,趣味',\n",
              "       '。,私,は', '。,私,は,猫', 'です', 'です,。', 'です,。,僕', 'です,。,僕,は', 'です,。,私',\n",
              "       'です,。,私,の', 'です,。,私,は', 'の', 'の,名前', 'の,名前,は', 'の,名前,は,タマ',\n",
              "       'の,名前,は,ポチ', 'の,趣味', 'の,趣味,は', 'の,趣味,は,冒険', 'の,趣味,は,散歩', 'は',\n",
              "       'は,タマ', 'は,タマ,です', 'は,タマ,です,。', 'は,ポチ', 'は,ポチ,です', 'は,ポチ,です,。',\n",
              "       'は,冒険', 'は,冒険,です', 'は,冒険,です,。', 'は,散歩', 'は,散歩,です', 'は,散歩,です,。',\n",
              "       'は,犬', 'は,犬,です', 'は,犬,です,。', 'は,猫', 'は,猫,です', 'は,猫,です,。', 'タマ',\n",
              "       'タマ,です', 'タマ,です,。', 'タマ,です,。,僕', 'ポチ', 'ポチ,です', 'ポチ,です,。',\n",
              "       'ポチ,です,。,私', '僕', '僕,の', '僕,の,名前', '僕,の,名前,は', '僕,は', '僕,は,犬',\n",
              "       '僕,は,犬,です', '冒険', '冒険,です', '冒険,です,。', '名前', '名前,は', '名前,は,タマ',\n",
              "       '名前,は,タマ,です', '名前,は,ポチ', '名前,は,ポチ,です', '散歩', '散歩,です', '散歩,です,。',\n",
              "       '犬', '犬,です', '犬,です,。', '犬,です,。,私', '猫', '猫,です', '猫,です,。',\n",
              "       '猫,です,。,私', '私', '私,の', '私,の,名前', '私,の,名前,は', '私,の,趣味', '私,の,趣味,は',\n",
              "       '私,は', '私,は,猫', '私,は,猫,です', '趣味', '趣味,は', '趣味,は,冒険', '趣味,は,冒険,です',\n",
              "       '趣味,は,散歩', '趣味,は,散歩,です'], dtype='<U10')"
            ]
          },
          "metadata": {
            "tags": []
          },
          "execution_count": 32
        }
      ]
    },
    {
      "metadata": {
        "id": "M4w1WZ0TWNxC",
        "colab_type": "code",
        "colab": {
          "base_uri": "https://localhost:8080/",
          "height": 70
        },
        "outputId": "3eccb539-2d34-4229-f2a2-244e4acd591b"
      },
      "cell_type": "code",
      "source": [
        "np.intersect1d(a_sort_unique,b_sort_unique) #\"a⋀b\"\n",
        "a_and_b = np.intersect1d(a_sort_unique,b_sort_unique)\n",
        "print(a_and_b)"
      ],
      "execution_count": 33,
      "outputs": [
        {
          "output_type": "stream",
          "text": [
            "['。' '。,私' '。,私,の' '。,私,の,趣味' 'です' 'です,。' 'です,。,私' 'です,。,私,の' 'の' 'の,名前'\n",
            " 'の,名前,は' 'の,趣味' 'の,趣味,は' 'は' '名前' '名前,は' '私' '私,の' '私,の,趣味' '私,の,趣味,は'\n",
            " '趣味' '趣味,は']\n"
          ],
          "name": "stdout"
        }
      ]
    },
    {
      "metadata": {
        "id": "yw9nRkshWOE3",
        "colab_type": "code",
        "colab": {
          "base_uri": "https://localhost:8080/",
          "height": 124
        },
        "outputId": "7512f7a4-0502-4e08-cfed-c97de3aa7110"
      },
      "cell_type": "code",
      "source": [
        "np.setdiff1d(a_sort_unique,b_sort_unique)  #a-b"
      ],
      "execution_count": 34,
      "outputs": [
        {
          "output_type": "execute_result",
          "data": {
            "text/plain": [
              "array(['。,私,は', '。,私,は,猫', 'です,。,私,は', 'の,名前,は,ポチ', 'の,趣味,は,散歩', 'は,ポチ',\n",
              "       'は,ポチ,です', 'は,ポチ,です,。', 'は,散歩', 'は,散歩,です', 'は,散歩,です,。', 'は,猫',\n",
              "       'は,猫,です', 'は,猫,です,。', 'ポチ', 'ポチ,です', 'ポチ,です,。', 'ポチ,です,。,私',\n",
              "       '名前,は,ポチ', '名前,は,ポチ,です', '散歩', '散歩,です', '散歩,です,。', '猫', '猫,です',\n",
              "       '猫,です,。', '猫,です,。,私', '私,の,名前', '私,の,名前,は', '私,は', '私,は,猫',\n",
              "       '私,は,猫,です', '趣味,は,散歩', '趣味,は,散歩,です'], dtype='<U10')"
            ]
          },
          "metadata": {
            "tags": []
          },
          "execution_count": 34
        }
      ]
    },
    {
      "metadata": {
        "id": "VCU-ziRHWOjV",
        "colab_type": "code",
        "colab": {
          "base_uri": "https://localhost:8080/",
          "height": 141
        },
        "outputId": "e5f56651-75c3-4ac8-f6ef-9baaa5c95b12"
      },
      "cell_type": "code",
      "source": [
        "np.setdiff1d(b_sort_unique,a_sort_unique)  #b-a"
      ],
      "execution_count": 35,
      "outputs": [
        {
          "output_type": "execute_result",
          "data": {
            "text/plain": [
              "array(['。,僕', '。,僕,は', '。,僕,は,犬', 'です,。,僕', 'です,。,僕,は', 'の,名前,は,タマ',\n",
              "       'の,趣味,は,冒険', 'は,タマ', 'は,タマ,です', 'は,タマ,です,。', 'は,冒険', 'は,冒険,です',\n",
              "       'は,冒険,です,。', 'は,犬', 'は,犬,です', 'は,犬,です,。', 'タマ', 'タマ,です', 'タマ,です,。',\n",
              "       'タマ,です,。,僕', '僕', '僕,の', '僕,の,名前', '僕,の,名前,は', '僕,は', '僕,は,犬',\n",
              "       '僕,は,犬,です', '冒険', '冒険,です', '冒険,です,。', '名前,は,タマ', '名前,は,タマ,です', '犬',\n",
              "       '犬,です', '犬,です,。', '犬,です,。,私', '趣味,は,冒険', '趣味,は,冒険,です'],\n",
              "      dtype='<U10')"
            ]
          },
          "metadata": {
            "tags": []
          },
          "execution_count": 35
        }
      ]
    },
    {
      "metadata": {
        "id": "dWSnLQNY1kux",
        "colab_type": "text"
      },
      "cell_type": "markdown",
      "source": [
        "頻度についても和集合、積集合、差集合を出す\n",
        "\n"
      ]
    },
    {
      "metadata": {
        "id": "8Ret8NKyWO7y",
        "colab_type": "code",
        "colab": {
          "base_uri": "https://localhost:8080/",
          "height": 55
        },
        "outputId": "5269675d-7aa3-44a3-b66b-dd08b6a64eeb"
      },
      "cell_type": "code",
      "source": [
        "# a_list b_list のngram頻度を足して出力\n",
        "all_counter = a_counter + b_counter\n",
        "print(all_counter)"
      ],
      "execution_count": 36,
      "outputs": [
        {
          "output_type": "stream",
          "text": [
            "Counter({'は': 6, 'です': 6, '。': 6, 'です,。': 6, '私': 4, 'の': 4, '私,の': 3, '。,私': 3, 'です,。,私': 3, '名前': 2, '趣味': 2, 'の,名前': 2, '名前,は': 2, 'の,趣味': 2, '趣味,は': 2, 'の,名前,は': 2, '。,私,の': 2, '私,の,趣味': 2, 'の,趣味,は': 2, 'です,。,私,の': 2, '。,私,の,趣味': 2, '私,の,趣味,は': 2, '僕': 2, 'ポチ': 1, '猫': 1, '散歩': 1, 'は,ポチ': 1, 'ポチ,です': 1, '私,は': 1, 'は,猫': 1, '猫,です': 1, 'は,散歩': 1, '散歩,です': 1, '私,の,名前': 1, '名前,は,ポチ': 1, 'は,ポチ,です': 1, 'ポチ,です,。': 1, '。,私,は': 1, '私,は,猫': 1, 'は,猫,です': 1, '猫,です,。': 1, '趣味,は,散歩': 1, 'は,散歩,です': 1, '散歩,です,。': 1, '私,の,名前,は': 1, 'の,名前,は,ポチ': 1, '名前,は,ポチ,です': 1, 'は,ポチ,です,。': 1, 'ポチ,です,。,私': 1, 'です,。,私,は': 1, '。,私,は,猫': 1, '私,は,猫,です': 1, 'は,猫,です,。': 1, '猫,です,。,私': 1, 'の,趣味,は,散歩': 1, '趣味,は,散歩,です': 1, 'は,散歩,です,。': 1, 'タマ': 1, '犬': 1, '冒険': 1, '僕,の': 1, 'は,タマ': 1, 'タマ,です': 1, '。,僕': 1, '僕,は': 1, 'は,犬': 1, '犬,です': 1, 'は,冒険': 1, '冒険,です': 1, '僕,の,名前': 1, '名前,は,タマ': 1, 'は,タマ,です': 1, 'タマ,です,。': 1, 'です,。,僕': 1, '。,僕,は': 1, '僕,は,犬': 1, 'は,犬,です': 1, '犬,です,。': 1, '趣味,は,冒険': 1, 'は,冒険,です': 1, '冒険,です,。': 1, '僕,の,名前,は': 1, 'の,名前,は,タマ': 1, '名前,は,タマ,です': 1, 'は,タマ,です,。': 1, 'タマ,です,。,僕': 1, 'です,。,僕,は': 1, '。,僕,は,犬': 1, '僕,は,犬,です': 1, 'は,犬,です,。': 1, '犬,です,。,私': 1, 'の,趣味,は,冒険': 1, '趣味,は,冒険,です': 1, 'は,冒険,です,。': 1})\n"
          ],
          "name": "stdout"
        }
      ]
    },
    {
      "metadata": {
        "id": "gD6gzqWBC6ie",
        "colab_type": "code",
        "colab": {
          "base_uri": "https://localhost:8080/",
          "height": 55
        },
        "outputId": "d0dfa99c-45c1-4e29-ad32-dce399a04d19"
      },
      "cell_type": "code",
      "source": [
        "a_difference = a_counter - b_counter # 頻度付きngram a-b\n",
        "\n",
        "print(a_difference)"
      ],
      "execution_count": 37,
      "outputs": [
        {
          "output_type": "stream",
          "text": [
            "Counter({'私': 2, 'ポチ': 1, '猫': 1, '散歩': 1, '私,の': 1, 'は,ポチ': 1, 'ポチ,です': 1, '。,私': 1, '私,は': 1, 'は,猫': 1, '猫,です': 1, 'は,散歩': 1, '散歩,です': 1, '私,の,名前': 1, '名前,は,ポチ': 1, 'は,ポチ,です': 1, 'ポチ,です,。': 1, 'です,。,私': 1, '。,私,は': 1, '私,は,猫': 1, 'は,猫,です': 1, '猫,です,。': 1, '趣味,は,散歩': 1, 'は,散歩,です': 1, '散歩,です,。': 1, '私,の,名前,は': 1, 'の,名前,は,ポチ': 1, '名前,は,ポチ,です': 1, 'は,ポチ,です,。': 1, 'ポチ,です,。,私': 1, 'です,。,私,は': 1, '。,私,は,猫': 1, '私,は,猫,です': 1, 'は,猫,です,。': 1, '猫,です,。,私': 1, 'の,趣味,は,散歩': 1, '趣味,は,散歩,です': 1, 'は,散歩,です,。': 1})\n"
          ],
          "name": "stdout"
        }
      ]
    },
    {
      "metadata": {
        "id": "TgF-f1aKDj96",
        "colab_type": "code",
        "colab": {
          "base_uri": "https://localhost:8080/",
          "height": 55
        },
        "outputId": "4343998e-7aeb-4093-e6f7-9adbbc61cc7e"
      },
      "cell_type": "code",
      "source": [
        "b_difference = b_counter - a_counter  #頻度つきngram b-a\n",
        "print(b_difference)"
      ],
      "execution_count": 38,
      "outputs": [
        {
          "output_type": "stream",
          "text": [
            "Counter({'僕': 2, 'タマ': 1, '犬': 1, '冒険': 1, '僕,の': 1, 'は,タマ': 1, 'タマ,です': 1, '。,僕': 1, '僕,は': 1, 'は,犬': 1, '犬,です': 1, 'は,冒険': 1, '冒険,です': 1, '僕,の,名前': 1, '名前,は,タマ': 1, 'は,タマ,です': 1, 'タマ,です,。': 1, 'です,。,僕': 1, '。,僕,は': 1, '僕,は,犬': 1, 'は,犬,です': 1, '犬,です,。': 1, '趣味,は,冒険': 1, 'は,冒険,です': 1, '冒険,です,。': 1, '僕,の,名前,は': 1, 'の,名前,は,タマ': 1, '名前,は,タマ,です': 1, 'は,タマ,です,。': 1, 'タマ,です,。,僕': 1, 'です,。,僕,は': 1, '。,僕,は,犬': 1, '僕,は,犬,です': 1, 'は,犬,です,。': 1, '犬,です,。,私': 1, 'の,趣味,は,冒険': 1, '趣味,は,冒険,です': 1, 'は,冒険,です,。': 1})\n"
          ],
          "name": "stdout"
        }
      ]
    },
    {
      "metadata": {
        "id": "ZKWy-jTon9av",
        "colab_type": "code",
        "colab": {
          "base_uri": "https://localhost:8080/",
          "height": 55
        },
        "outputId": "15c29858-5987-43ef-983f-db8a2fe1d639"
      },
      "cell_type": "code",
      "source": [
        "counter_difference = all_counter - a_difference - b_difference  # 頻度つきngram a⋀b\n",
        "print(counter_difference)"
      ],
      "execution_count": 52,
      "outputs": [
        {
          "output_type": "stream",
          "text": [
            "Counter({'は': 6, 'です': 6, '。': 6, 'です,。': 6, 'の': 4, '私': 2, '名前': 2, '趣味': 2, '私,の': 2, 'の,名前': 2, '名前,は': 2, '。,私': 2, 'の,趣味': 2, '趣味,は': 2, 'の,名前,は': 2, 'です,。,私': 2, '。,私,の': 2, '私,の,趣味': 2, 'の,趣味,は': 2, 'です,。,私,の': 2, '。,私,の,趣味': 2, '私,の,趣味,は': 2})\n"
          ],
          "name": "stdout"
        }
      ]
    }
  ]
}